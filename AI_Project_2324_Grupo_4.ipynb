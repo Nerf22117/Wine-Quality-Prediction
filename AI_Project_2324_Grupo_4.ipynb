{
 "cells": [
  {
   "cell_type": "markdown",
   "id": "c4920643",
   "metadata": {},
   "source": [
    "<center>\n",
    "\n",
    "<h1 style=\"font-size: 58px; color: #722F37\">WINE QUALITY PREDICTION 🍷</h1>\n",
    "\n",
    "</center>\n"
   ]
  },
  {
   "cell_type": "markdown",
   "id": "f11d6766",
   "metadata": {},
   "source": [
    "<center>\n",
    "\n",
    "<h2 style=\"font-size: 24px; color: #000000; background-color: #F4D03F;\">Exploratory data analysis, classification, regression with machine learning</h2>\n",
    "\n",
    "</center>\n"
   ]
  },
  {
   "cell_type": "markdown",
   "id": "9e7226bc",
   "metadata": {},
   "source": [
    "<center>\n",
    "\n",
    "<img src=\"capa.webp" alt=\"Description of the image\">\n",
    "\n",
    "</center>"
   ]
  },
  {
   "cell_type": "markdown",
   "id": "5909138b",
   "metadata": {},
   "source": [
    "<center>\n",
    "\n",
    "<h1 style=\"font-size: 45px; color: #FFF9ED; background-color: #641811;\">Table of Contents</h1>\n",
    "\n",
    "</center>\n"
   ]
  },
  {
   "cell_type": "markdown",
   "id": "8b2ca97e",
   "metadata": {},
   "source": [
    "<ul> \n",
    "    <li><a href=\"#introduction\">1 | INTRODUCTION 🔎</a></li> \n",
    "    <li><a href=\"#imports\">2 | IMPORT NECESSARY LIBRARIES 🎬</a></li> \n",
    "    <li><a href=\"#loadDataset\">3 | LOAD DATASET 📥</a></li>  \n",
    "    <li><a href=\"#initialInformation\">4 | EDA 📊</a>\n",
    "        <ul>\n",
    "            <li><a href=\"#basicInformation\">4.1 | Get basic information</a></li>\n",
    "        </ul>\n",
    "        <ul>\n",
    "            <li><a href=\"#descriptiveStats\">4.2 | Descriptive Statistics of Numeric Variable</a></li>\n",
    "        </ul>\n",
    "        <ul>\n",
    "            <li><a href=\"#nullValues\">4.3 | Check null Values</a></li>\n",
    "        </ul>\n",
    "        <ul>\n",
    "            <li><a href=\"#typeDistrubtion\">4.4 | Type Distrubution Analysis</a></li>\n",
    "        </ul>\n",
    "        <ul>\n",
    "            <li><a href=\"#uniqueValues\">4.5 | Unique Values Analysis</a></li>\n",
    "        </ul>\n",
    "    <li><a href=\"#initialInformation\">5 | DATA PREPARATION 🧑‍🍳</a>\n",
    "        <ul>\n",
    "            <li><a href=\"#renameColumns\">5.1 | Rename Column Names</a></li>\n",
    "        </ul>\n",
    "        <ul>\n",
    "            <li><a href=\"#dealingNullValues\">5.2 | Dealing with null values</a>\n",
    "        </ul>\n",
    "        <ul>\n",
    "            <li><a href=\"#dealingOutliers\">5.3 | Dealing with outliers</a>\n",
    "        </ul>\n",
    "    </li>   \n",
    "    <li><a href=\"#eda\">6 | DATA VISUALIZATION 📉</a>\n",
    "        <ul>\n",
    "            <li><a href=\"#heatmap\">6.1 | Heatmap and Correlation</a>\n",
    "        </ul>\n",
    "        <ul>\n",
    "            <li><a href=\"#histogram\">6.2 | Histogram and Distribution</a>\n",
    "        </ul>\n",
    "    </li>\n",
    "    <li><a href=\"#dataSplitting\">7 | DATA SPLITTING (Classification) 🪓</a>\n",
    "    <li><a href=\"#training\">8 | TRAINING AND EVALUATION (Classification) 🤖</a>\n",
    "        <ul>\n",
    "            <li><a href=\"#decisionTree\">8.1 | Decision Tree</a>\n",
    "        </ul>\n",
    "        <ul>\n",
    "            <li><a href=\"#randomForest\">8.2 | Random Forest</a>\n",
    "        </ul>\n",
    "        <ul>\n",
    "            <li><a href=\"#svc\">8.3 | Support Vector Classifier</a>\n",
    "        </ul>\n",
    "        <ul>\n",
    "            <li><a href=\"#decisionTreeOpt\">8.4 | Decision Tree Optimization</a>\n",
    "        </ul>\n",
    "        <ul>\n",
    "            <li><a href=\"#randomForestOpt\">8.5 | Random Forest Optimization</a>\n",
    "        </ul>\n",
    "        <ul>\n",
    "            <li><a href=\"#svcOpt\">8.6 | Support Vector Classifier Optimization</a>\n",
    "        </ul>\n",
    "        <ul>\n",
    "            <li><a href=\"#finalResultsClassification\">8.7 | Final results and analysis</a>\n",
    "        </ul>\n",
    "    </li>\n",
    "    <li><a href=\"#dataSplitting1\">9 | DATA SPLITTING (Regression) 🪓</a>\n",
    "    <li><a href=\"#training1\">10 | TRAINING AND EVALUATION (Regression) 🤖</a>\n",
    "        <ul>\n",
    "            <li><a href=\"#linearRegression\">10.1 | Linear Regression</a>\n",
    "        </ul>\n",
    "        <ul>\n",
    "            <li><a href=\"#randomForestRegression\">10.2 | Random Forest Regression</a>\n",
    "        </ul>\n",
    "        <ul>\n",
    "            <li><a href=\"#svr\">10.3 | Support Vector Regressor</a>\n",
    "        </ul>\n",
    "        <ul>\n",
    "            <li><a href=\"#xgboost\">10.4 | XGBoost</a>\n",
    "        </ul>\n",
    "        <ul>\n",
    "            <li><a href=\"#randomForestRegressionOpt\">10.5 | Random Forest Regression Optimization</a>\n",
    "        </ul>\n",
    "        <ul>\n",
    "            <li><a href=\"#svrOpt\">10.6 | Support Vector Regressor Optimization</a>\n",
    "        </ul>\n",
    "        <ul>\n",
    "            <li><a href=\"#xgboostRegression\">10.7 | XGBoost Optimization</a>\n",
    "        </ul>\n",
    "        <ul>\n",
    "            <li><a href=\"#finalResultsRegression\">10.8 | Final results and analysis</a>\n",
    "        </ul>\n",
    "    </li>\n",
    "</ul>"
   ]
  },
  {
   "cell_type": "markdown",
   "id": "cfe2ae23",
   "metadata": {},
   "source": [
    "<h3 id=\"introduction\" style=\"font-size: 20px; color: #00000\">1 | INTRODUCTION 🔎</h3>"
   ]
  },
  {
   "cell_type": "markdown",
   "id": "8e397fcb",
   "metadata": {},
   "source": [
    "<center>\n",
    "\n",
    "<h2 style=\"font-size: 24px; color: #FFF9ED; background-color: #641811;\">Explanation of the variables 📜 📖 📚</h2>\n",
    "\n",
    "</center>\n",
    "\n",
    "1. **type**: white or red\n",
    "\n",
    "2. **fixed acidity**: most acids involved with wine or fixed or nonvolatile (do not evaporate readily). Acidity is a characteristic determined by the total sum of acids that a sample contains. We can quantify the set of all of them in an undifferentiated way (total acidity) or in a grouped way (fixed acidity and volatile acidity). Fixed acidity corresponds to the set of low volatility organic acids such as malic, lactic, tartaric or citric acids and is inherent to the characteristics of the sample.\n",
    "\n",
    "3. **volatile acidity**: the amount of acetic acid in wine, which at too high of levels can lead to an unpleasant, vinegar taste. Volatile acidity corresponds to the set of short chain organic acids that can be extracted from the sample by means of a distillation process: formic acid, acetic acid, propionic acid and butyric acid.\n",
    "\n",
    "4. **citric acid**: found in small quantities, citric acid can add 'freshness' and flavor to wines. Citric acid is a colorless weak organic acid. It occurs naturally in citrus fruits. In biochemistry, it is an intermediate in the citric acid cycle, which occurs in the metabolism of all aerobic organisms.\n",
    "\n",
    "5. **residual sugar**: the amount of sugar remaining after fermentation stops, it's rare to find wines with less than 1 gram/liter. Residual sugar refers to the sugars left unfermented in a finished wine. It is measured by grams of sugar per litre (g/l). The amount of residual sugar affects a wine's sweetness and, in the EU, the RS level is linked to specific labelling terms.\n",
    "\n",
    "6. **chlorides**: the amount of salt in the wine. The higher extraction of chloride during red winemaking is due to the ions extracted from skins during fermentation. Therefore, red juice should have no more than 356mg/L chloride ions so that finished wine does not exceed the maximum legal level of 606mg/L chloride(356mg/L in red juice x 1.7 = 606).\n",
    "\n",
    "7. **free sulfur dioxide**: the free form of SO2 exists in equilibrium between molecular SO2 (as a dissolved gas) and bisulfite ion. What is free sulphur dioxide in wine? The free sulfites are those available to react and thus exhibit both germicidal and antioxidant properties. The bound sulfites are those that have reacted (both reversibly and irreversibly) with other molecules within the wine medium. The sum of the free and bound sulfites defines the total sulfite concentration.\n",
    "\n",
    "8. **total sulfur dioxide**: amount of free and bound forms of S02; in low concentrations, SO2 is mostly undetectable in wine, but at free SO2. Simply put, Total Sulfur Dioxide (TSO2) is the portion of SO2 that is free in the wine plus the portion that is bound to other chemicals in the wine such as aldehydes, pigments, or sugars.\n",
    "\n",
    "9. **density**: the density of water is close to that of water depending on the percent alcohol and sugar content. How do you measure the density of wine? A hydrometer is an instrument used to measure liquid density. It is a sealed glass tube with a weighted bulb at one end, winemakers use this instrument to measure density of juice, fermenting wine and completed wine in relation to pure water. This ratio is called specific gravity (SG).\n",
    "\n",
    "10. **pH**: describes how acidic or basic a wine is on a scale from 0 (very acidic) to 14 (very basic); most wines are between 3-4. What is a high pH in wine? Wines which have higher pH values (>3.65) have a series of potential challenges during vinification and aging. First, high pH wines have an increased chance of microbial spoilage. Traditionally, sulfur dioxide (often in the form of potassium metabisulfite) is used to keep wines stable during aging.\n",
    "\n",
    "11. **sulphates**: a wine additive which can contribute to sulfur dioxide gas (S02) levels, wich acts as an antimicrobial. Wine sulfites are naturally occurring at low levels in all wines, and are one of the thousands of chemical by-products created during the fermentation process. However, sulfites are also added by the winemaker to preserve and protect the wine from bacteria and yeast-laden invasions. For some, sulfur allergies may be associated with headaches and stuffy sinuses after a glass or two of wine. It is a a wine additive which can contribute to sulfur dioxide gas (S02) levels, wich acts as an antimicrobial.\n",
    "\n",
    "12. **Alcohol**: this is the percent alcohol content of the wine\n",
    "\n",
    "13. **quality**: output variable (based on sensory data, score between 3 and 8)."
   ]
  },
  {
   "cell_type": "markdown",
   "id": "8c15de1f",
   "metadata": {},
   "source": [
    "<h3 id=\"imports\" style=\"font-size: 20px; color: #00000\">2 | IMPORT NECESSARY LIBRARIES 🎬</h3>"
   ]
  },
  {
   "cell_type": "code",
   "execution_count": 1,
   "id": "c645e5c2",
   "metadata": {},
   "outputs": [],
   "source": [
    "import pandas as pd  #for data manipulation operations\n",
    "import numpy as np  #for numeric operations on data\n",
    "import seaborn as sns  #for data visualization operations\n",
    "import matplotlib.pyplot as plt  #for data visualization operations\n",
    "from sklearn.preprocessing import StandardScaler # for scaling the attributes using normal scaler\n",
    "from imblearn.over_sampling import SMOTE # for oversampling\n",
    "from sklearn.model_selection import train_test_split, GridSearchCV, cross_val_score # for splitting the dataset into train and test sets\n",
    "from sklearn.tree import DecisionTreeClassifier # for decision tree classification\n",
    "from sklearn.ensemble import RandomForestClassifier, RandomForestRegressor # for random forest classification and random forest regression\n",
    "from sklearn.svm import SVC, SVR # for support vector machine classification\n",
    "from sklearn.metrics import confusion_matrix, f1_score, accuracy_score, precision_score, recall_score, classification_report, r2_score, mean_absolute_error as mae, mean_squared_error as mse # For performance metrics \n",
    "from sklearn.linear_model import LinearRegression # for linear regression\n",
    "from xgboost.sklearn import XGBRegressor # for XGBoost regression"
   ]
  },
  {
   "cell_type": "markdown",
   "id": "a727a49c",
   "metadata": {},
   "source": [
    "<h3 id=\"loadDataset\" style=\"font-size: 20px; color: #00000\">3 | LOAD DATASET 📥</h3>"
   ]
  },
  {
   "cell_type": "code",
   "execution_count": 2,
   "id": "a1c05ed9",
   "metadata": {},
   "outputs": [],
   "source": [
    "df = pd.read_csv('../datasets/VinhoClassReg.csv')"
   ]
  },
  {
   "cell_type": "markdown",
   "id": "86bae3f4",
   "metadata": {},
   "source": [
    "<h3 id=\"initialInformation\" style=\"font-size: 20px; color: #00000\">4 | EDA 📊</h3>"
   ]
  },
  {
   "cell_type": "markdown",
   "id": "d43e873b",
   "metadata": {},
   "source": [
    "<h3 id=\"basicInformation\" style=\"font-size: 18px; color: #00000\">4.1 | Get basic information</h3>"
   ]
  },
  {
   "cell_type": "code",
   "execution_count": 3,
   "id": "19b88885",
   "metadata": {},
   "outputs": [
    {
     "name": "stdout",
     "output_type": "stream",
     "text": [
      "<class 'pandas.core.frame.DataFrame'>\n",
      "RangeIndex: 6497 entries, 0 to 6496\n",
      "Data columns (total 13 columns):\n",
      " #   Column                Non-Null Count  Dtype  \n",
      "---  ------                --------------  -----  \n",
      " 0   type                  6497 non-null   object \n",
      " 1   fixed acidity         6487 non-null   float64\n",
      " 2   volatile acidity      6489 non-null   float64\n",
      " 3   citric acid           6494 non-null   float64\n",
      " 4   residual sugar        6495 non-null   float64\n",
      " 5   chlorides             6495 non-null   float64\n",
      " 6   free sulfur dioxide   6497 non-null   float64\n",
      " 7   total sulfur dioxide  6497 non-null   float64\n",
      " 8   density               6497 non-null   float64\n",
      " 9   pH                    6488 non-null   float64\n",
      " 10  sulphates             6493 non-null   float64\n",
      " 11  alcohol               6497 non-null   float64\n",
      " 12  quality               6497 non-null   int64  \n",
      "dtypes: float64(11), int64(1), object(1)\n",
      "memory usage: 660.0+ KB\n"
     ]
    }
   ],
   "source": [
    "df.info()"
   ]
  },
  {
   "cell_type": "markdown",
   "id": "6c43bda4",
   "metadata": {},
   "source": [
    "<center>\n",
    "\n",
    "<h2 style=\"font-size: 16px; color: #FFF9ED; background-color: #641811;\">Brief information</h2>\n",
    "\n",
    "</center>\n",
    "\n",
    "1. **number of lines and rows**: The dataset has 6497 lines and 13 columns.\n",
    "\n",
    "2. **missing values**: some variables have missing values. The values with missing values are:\n",
    "    - **fixed acidity** -> 10 missing values\n",
    "    - **volatile acidity** -> 8 missing values\n",
    "    - **citric acid** -> 3 missing values\n",
    "    - **residual sugar** -> 2 missing values\n",
    "    - **chlorides** -> 2 missing values\n",
    "    - **pH** -> 9 missing values\n",
    "    - **sulphates** -> 4 missing values\n",
    "    \n",
    "3. **data types**: Most of the variables are type float64, except the variable 'type', which is type object (will be encoded later) and the variable 'quality', which is type int64.\n"
   ]
  },
  {
   "cell_type": "markdown",
   "id": "30bc5ad3",
   "metadata": {},
   "source": [
    "<h3 id=\"descriptiveStats\" style=\"font-size: 18px; color: #00000\">4.2 | Descriptive Statistics of Numeric Variables¶\n",
    "</h3>"
   ]
  },
  {
   "cell_type": "code",
   "execution_count": 4,
   "id": "0af03e94",
   "metadata": {},
   "outputs": [
    {
     "data": {
      "text/html": [
       "<div>\n",
       "<style scoped>\n",
       "    .dataframe tbody tr th:only-of-type {\n",
       "        vertical-align: middle;\n",
       "    }\n",
       "\n",
       "    .dataframe tbody tr th {\n",
       "        vertical-align: top;\n",
       "    }\n",
       "\n",
       "    .dataframe thead th {\n",
       "        text-align: right;\n",
       "    }\n",
       "</style>\n",
       "<table border=\"1\" class=\"dataframe\">\n",
       "  <thead>\n",
       "    <tr style=\"text-align: right;\">\n",
       "      <th></th>\n",
       "      <th>fixed acidity</th>\n",
       "      <th>volatile acidity</th>\n",
       "      <th>citric acid</th>\n",
       "      <th>residual sugar</th>\n",
       "      <th>chlorides</th>\n",
       "      <th>free sulfur dioxide</th>\n",
       "      <th>total sulfur dioxide</th>\n",
       "      <th>density</th>\n",
       "      <th>pH</th>\n",
       "      <th>sulphates</th>\n",
       "      <th>alcohol</th>\n",
       "      <th>quality</th>\n",
       "    </tr>\n",
       "  </thead>\n",
       "  <tbody>\n",
       "    <tr>\n",
       "      <th>count</th>\n",
       "      <td>6487.000000</td>\n",
       "      <td>6489.000000</td>\n",
       "      <td>6494.000000</td>\n",
       "      <td>6495.000000</td>\n",
       "      <td>6495.000000</td>\n",
       "      <td>6497.000000</td>\n",
       "      <td>6497.000000</td>\n",
       "      <td>6497.000000</td>\n",
       "      <td>6488.000000</td>\n",
       "      <td>6493.000000</td>\n",
       "      <td>6497.000000</td>\n",
       "      <td>6497.000000</td>\n",
       "    </tr>\n",
       "    <tr>\n",
       "      <th>mean</th>\n",
       "      <td>7.216579</td>\n",
       "      <td>0.339691</td>\n",
       "      <td>0.318722</td>\n",
       "      <td>5.444326</td>\n",
       "      <td>0.056042</td>\n",
       "      <td>30.525319</td>\n",
       "      <td>115.744574</td>\n",
       "      <td>0.994697</td>\n",
       "      <td>3.218395</td>\n",
       "      <td>0.531215</td>\n",
       "      <td>10.491801</td>\n",
       "      <td>5.818378</td>\n",
       "    </tr>\n",
       "    <tr>\n",
       "      <th>std</th>\n",
       "      <td>1.296750</td>\n",
       "      <td>0.164649</td>\n",
       "      <td>0.145265</td>\n",
       "      <td>4.758125</td>\n",
       "      <td>0.035036</td>\n",
       "      <td>17.749400</td>\n",
       "      <td>56.521855</td>\n",
       "      <td>0.002999</td>\n",
       "      <td>0.160748</td>\n",
       "      <td>0.148814</td>\n",
       "      <td>1.192712</td>\n",
       "      <td>0.873255</td>\n",
       "    </tr>\n",
       "    <tr>\n",
       "      <th>min</th>\n",
       "      <td>3.800000</td>\n",
       "      <td>0.080000</td>\n",
       "      <td>0.000000</td>\n",
       "      <td>0.600000</td>\n",
       "      <td>0.009000</td>\n",
       "      <td>1.000000</td>\n",
       "      <td>6.000000</td>\n",
       "      <td>0.987110</td>\n",
       "      <td>2.720000</td>\n",
       "      <td>0.220000</td>\n",
       "      <td>8.000000</td>\n",
       "      <td>3.000000</td>\n",
       "    </tr>\n",
       "    <tr>\n",
       "      <th>25%</th>\n",
       "      <td>6.400000</td>\n",
       "      <td>0.230000</td>\n",
       "      <td>0.250000</td>\n",
       "      <td>1.800000</td>\n",
       "      <td>0.038000</td>\n",
       "      <td>17.000000</td>\n",
       "      <td>77.000000</td>\n",
       "      <td>0.992340</td>\n",
       "      <td>3.110000</td>\n",
       "      <td>0.430000</td>\n",
       "      <td>9.500000</td>\n",
       "      <td>5.000000</td>\n",
       "    </tr>\n",
       "    <tr>\n",
       "      <th>50%</th>\n",
       "      <td>7.000000</td>\n",
       "      <td>0.290000</td>\n",
       "      <td>0.310000</td>\n",
       "      <td>3.000000</td>\n",
       "      <td>0.047000</td>\n",
       "      <td>29.000000</td>\n",
       "      <td>118.000000</td>\n",
       "      <td>0.994890</td>\n",
       "      <td>3.210000</td>\n",
       "      <td>0.510000</td>\n",
       "      <td>10.300000</td>\n",
       "      <td>6.000000</td>\n",
       "    </tr>\n",
       "    <tr>\n",
       "      <th>75%</th>\n",
       "      <td>7.700000</td>\n",
       "      <td>0.400000</td>\n",
       "      <td>0.390000</td>\n",
       "      <td>8.100000</td>\n",
       "      <td>0.065000</td>\n",
       "      <td>41.000000</td>\n",
       "      <td>156.000000</td>\n",
       "      <td>0.996990</td>\n",
       "      <td>3.320000</td>\n",
       "      <td>0.600000</td>\n",
       "      <td>11.300000</td>\n",
       "      <td>6.000000</td>\n",
       "    </tr>\n",
       "    <tr>\n",
       "      <th>max</th>\n",
       "      <td>15.900000</td>\n",
       "      <td>1.580000</td>\n",
       "      <td>1.660000</td>\n",
       "      <td>65.800000</td>\n",
       "      <td>0.611000</td>\n",
       "      <td>289.000000</td>\n",
       "      <td>440.000000</td>\n",
       "      <td>1.038980</td>\n",
       "      <td>4.010000</td>\n",
       "      <td>2.000000</td>\n",
       "      <td>14.900000</td>\n",
       "      <td>9.000000</td>\n",
       "    </tr>\n",
       "  </tbody>\n",
       "</table>\n",
       "</div>"
      ],
      "text/plain": [
       "       fixed acidity  volatile acidity  citric acid  residual sugar  \\\n",
       "count    6487.000000       6489.000000  6494.000000     6495.000000   \n",
       "mean        7.216579          0.339691     0.318722        5.444326   \n",
       "std         1.296750          0.164649     0.145265        4.758125   \n",
       "min         3.800000          0.080000     0.000000        0.600000   \n",
       "25%         6.400000          0.230000     0.250000        1.800000   \n",
       "50%         7.000000          0.290000     0.310000        3.000000   \n",
       "75%         7.700000          0.400000     0.390000        8.100000   \n",
       "max        15.900000          1.580000     1.660000       65.800000   \n",
       "\n",
       "         chlorides  free sulfur dioxide  total sulfur dioxide      density  \\\n",
       "count  6495.000000          6497.000000           6497.000000  6497.000000   \n",
       "mean      0.056042            30.525319            115.744574     0.994697   \n",
       "std       0.035036            17.749400             56.521855     0.002999   \n",
       "min       0.009000             1.000000              6.000000     0.987110   \n",
       "25%       0.038000            17.000000             77.000000     0.992340   \n",
       "50%       0.047000            29.000000            118.000000     0.994890   \n",
       "75%       0.065000            41.000000            156.000000     0.996990   \n",
       "max       0.611000           289.000000            440.000000     1.038980   \n",
       "\n",
       "                pH    sulphates      alcohol      quality  \n",
       "count  6488.000000  6493.000000  6497.000000  6497.000000  \n",
       "mean      3.218395     0.531215    10.491801     5.818378  \n",
       "std       0.160748     0.148814     1.192712     0.873255  \n",
       "min       2.720000     0.220000     8.000000     3.000000  \n",
       "25%       3.110000     0.430000     9.500000     5.000000  \n",
       "50%       3.210000     0.510000    10.300000     6.000000  \n",
       "75%       3.320000     0.600000    11.300000     6.000000  \n",
       "max       4.010000     2.000000    14.900000     9.000000  "
      ]
     },
     "execution_count": 4,
     "metadata": {},
     "output_type": "execute_result"
    }
   ],
   "source": [
    "df.describe()"
   ]
  },
  {
   "cell_type": "markdown",
   "id": "a89964da",
   "metadata": {},
   "source": [
    "<center>\n",
    "\n",
    "<h2 style=\"font-size: 16px; color: #FFF9ED; background-color: #641811;\">What can we see from this stats?</h2>\n",
    "\n",
    "</center>\n",
    "\n",
    "1. The **average value** of fixed acidity is <span style=\"background-color: #F4D03F;\">7.21</span>, the **highest value** is <span style=\"background-color: #F4D03F;\">15.90</span>.\n",
    "2. The **average value** of volatile acidity is <span style=\"background-color: #F4D03F;\">0.33</span>, the **highest value** is <span style=\"background-color: #F4D03F;\">1.58</span>.\n",
    "3. The **average value** of citric acidity is <span style=\"background-color: #F4D03F;\">0.31</span>, the **highest value** is <span style=\"background-color: #F4D03F;\">1.66</span>.\n",
    "4. The **average value** of residual sugar is <span style=\"background-color: #F4D03F;\">5.44</span>, the **highest value** is <span style=\"background-color: #F4D03F;\">65.80</span>.\n",
    "5. The **average value** of chlorides is <span style=\"background-color: #F4D03F;\">0.05</span>, the **highest value** is <span style=\"background-color: #F4D03F;\">0.61</span>.\n",
    "6. The **average value** of free sulfur dioxide is <span style=\"background-color: #F4D03F;\">30.52</span>, the **highest value** is <span style=\"background-color: #F4D03F;\">289.00</span>.\n",
    "7. The **average value** of total sulfur dioxide is <span style=\"background-color: #F4D03F;\">115.74</span>, the **highest value** is <span style=\"background-color: #F4D03F;\">440.00</span>.\n",
    "8. The **average value** of density is <span style=\"background-color: #F4D03F;\">0.99</span>, the **highest value** is <span style=\"background-color: #F4D03F;\">1.03</span>.\n",
    "9. The **average value** of ph is <span style=\"background-color: #F4D03F;\">3.21</span>, the **highest value** is <span style=\"background-color: #F4D03F;\">4.01</span>.\n",
    "10. The **average value** of sulphates is <span style=\"background-color: #F4D03F;\">0.53</span>, the **highest value** is <span style=\"background-color: #F4D03F;\">2.00</span>.\n",
    "11. The **average value** of alcohol is <span style=\"background-color: #F4D03F;\">10.49</span>, the **highest value** is <span style=\"background-color: #F4D03F;\">14.90</span>.\n",
    "12. The **average value** of alcohol is <span style=\"background-color: #F4D03F;\">5.81</span>, the **highest value** is <span style=\"background-color: #F4D03F;\">9.00</span>."
   ]
  },
  {
   "cell_type": "markdown",
   "id": "adb37d97",
   "metadata": {},
   "source": [
    "<h3 id=\"nullValues\" style=\"font-size: 18px; color: #00000\">4.3 | Check null Values</h3>"
   ]
  },
  {
   "cell_type": "code",
   "execution_count": 5,
   "id": "de77798b",
   "metadata": {},
   "outputs": [
    {
     "name": "stdout",
     "output_type": "stream",
     "text": [
      "Totally there are 38 null values in the dataset\n"
     ]
    }
   ],
   "source": [
    "print(\"Totally there are {} null values in the dataset\".format(df.isnull().sum().sum()))"
   ]
  },
  {
   "cell_type": "markdown",
   "id": "b49490bf",
   "metadata": {},
   "source": [
    "<center>\n",
    "\n",
    "<h2 style=\"font-size: 16px; color: #FFF9ED; background-color: #641811;\">Total null values</h2>\n",
    "\n",
    "</center>\n",
    "\n",
    "This number matches correctly with the number we obtained in point\n",
    "<ul>\n",
    "    <li><a href=\"#basicInformation\">4.1 | Get basic information</a></li>\n",
    "</ul> \n",
    "38 = (10+8+3+2+9+4)"
   ]
  },
  {
   "cell_type": "code",
   "execution_count": 6,
   "id": "b6c018ed",
   "metadata": {},
   "outputs": [
    {
     "name": "stdout",
     "output_type": "stream",
     "text": [
      "type                     0\n",
      "fixed acidity           10\n",
      "volatile acidity         8\n",
      "citric acid              3\n",
      "residual sugar           2\n",
      "chlorides                2\n",
      "free sulfur dioxide      0\n",
      "total sulfur dioxide     0\n",
      "density                  0\n",
      "pH                       9\n",
      "sulphates                4\n",
      "alcohol                  0\n",
      "quality                  0\n",
      "dtype: int64\n"
     ]
    }
   ],
   "source": [
    "print(df.isnull().sum())"
   ]
  },
  {
   "cell_type": "markdown",
   "id": "73b0c93f",
   "metadata": {},
   "source": [
    "<h3 id=\"typeDistrubtion\" style=\"font-size: 18px; color: #00000\">4.4 | Type Distrubution Analysis</h3>"
   ]
  },
  {
   "cell_type": "markdown",
   "id": "4b7e4eff",
   "metadata": {},
   "source": [
    "<center>\n",
    "\n",
    "<h2 style=\"font-size: 16px; color: #FFF9ED; background-color: #641811;\">Type Distrubution Analysis</h2>\n",
    "\n",
    "</center>"
   ]
  },
  {
   "cell_type": "code",
   "execution_count": 7,
   "id": "edd51496",
   "metadata": {},
   "outputs": [
    {
     "data": {
      "text/html": [
       "<div>\n",
       "<style scoped>\n",
       "    .dataframe tbody tr th:only-of-type {\n",
       "        vertical-align: middle;\n",
       "    }\n",
       "\n",
       "    .dataframe tbody tr th {\n",
       "        vertical-align: top;\n",
       "    }\n",
       "\n",
       "    .dataframe thead th {\n",
       "        text-align: right;\n",
       "    }\n",
       "</style>\n",
       "<table border=\"1\" class=\"dataframe\">\n",
       "  <thead>\n",
       "    <tr style=\"text-align: right;\">\n",
       "      <th></th>\n",
       "      <th>type</th>\n",
       "    </tr>\n",
       "  </thead>\n",
       "  <tbody>\n",
       "    <tr>\n",
       "      <th>count</th>\n",
       "      <td>6497</td>\n",
       "    </tr>\n",
       "    <tr>\n",
       "      <th>unique</th>\n",
       "      <td>2</td>\n",
       "    </tr>\n",
       "    <tr>\n",
       "      <th>top</th>\n",
       "      <td>white</td>\n",
       "    </tr>\n",
       "    <tr>\n",
       "      <th>freq</th>\n",
       "      <td>4898</td>\n",
       "    </tr>\n",
       "  </tbody>\n",
       "</table>\n",
       "</div>"
      ],
      "text/plain": [
       "         type\n",
       "count    6497\n",
       "unique      2\n",
       "top     white\n",
       "freq     4898"
      ]
     },
     "execution_count": 7,
     "metadata": {},
     "output_type": "execute_result"
    }
   ],
   "source": [
    "df.describe(exclude=np.number)"
   ]
  },
  {
   "cell_type": "markdown",
   "id": "a2f15bf3",
   "metadata": {},
   "source": [
    "1. The **wine type distrubution**: The dataset primarily consists of white wines, accounting for approximately **75%** (4898/6497) of the total records. This suggests a predominance of white wines in the sample.\n",
    "2. The **dataset**: is unbalanced"
   ]
  },
  {
   "cell_type": "markdown",
   "id": "d425dd18",
   "metadata": {},
   "source": [
    "<h3 id=\"uniqueValues\" style=\"font-size: 18px; color: #00000\">4.5 | Unique Values Analysis</h3>"
   ]
  },
  {
   "cell_type": "markdown",
   "id": "c8ef5002",
   "metadata": {},
   "source": [
    "<center>\n",
    "\n",
    "<h2 style=\"font-size: 16px; color: #FFF9ED; background-color: #641811;\">Unique Values Analysis</h2>\n",
    "\n",
    "</center>"
   ]
  },
  {
   "cell_type": "code",
   "execution_count": 8,
   "id": "dfad99d5",
   "metadata": {},
   "outputs": [
    {
     "data": {
      "text/plain": [
       "type                      2\n",
       "fixed acidity           106\n",
       "volatile acidity        187\n",
       "citric acid              89\n",
       "residual sugar          316\n",
       "chlorides               214\n",
       "free sulfur dioxide     135\n",
       "total sulfur dioxide    276\n",
       "density                 998\n",
       "pH                      108\n",
       "sulphates               111\n",
       "alcohol                 111\n",
       "quality                   7\n",
       "dtype: int64"
      ]
     },
     "execution_count": 8,
     "metadata": {},
     "output_type": "execute_result"
    }
   ],
   "source": [
    "df.nunique()"
   ]
  },
  {
   "cell_type": "markdown",
   "id": "42e67364",
   "metadata": {},
   "source": [
    "1. **type** has <span style=\"background-color: #F4D03F;\">2</span> values\n",
    "2. **fixed acidity** has <span style=\"background-color: #F4D03F;\">106</span> values\n",
    "3. **volatile acidity** has <span style=\"background-color: #F4D03F;\">187</span> values\n",
    "4. **citric acid** has <span style=\"background-color: #F4D03F;\">89</span> values\n",
    "5. **residual sugar** has <span style=\"background-color: #F4D03F;\">316</span> values\n",
    "6. **chlorides** has <span style=\"background-color: #F4D03F;\">214</span> values\n",
    "8. **free sulfur dioxide** has <span style=\"background-color: #F4D03F;\">135</span> values\n",
    "9. **total sulfur dioxide** has <span style=\"background-color: #F4D03F;\">276</span> values\n",
    "10. **density** has <span style=\"background-color: #F4D03F;\">998</span> values\n",
    "11. **pH** has <span style=\"background-color: #F4D03F;\">108</span> values\n",
    "12. **sulphates** has <span style=\"background-color: #F4D03F;\">111</span> values\n",
    "13. **alcohol** has <span style=\"background-color: #F4D03F;\">111</span> values\n",
    "14. **quality** has <span style=\"background-color: #F4D03F;\">7</span> values"
   ]
  },
  {
   "cell_type": "markdown",
   "id": "35c35cc6",
   "metadata": {},
   "source": [
    "<h3 id=\"dataPreparation\" style=\"font-size: 20px; color: #00000\">5 | DATA PREPARATION 🧑‍🍳</h3>"
   ]
  },
  {
   "cell_type": "markdown",
   "id": "64063e81",
   "metadata": {},
   "source": [
    "<h3 id=\"renameColumns\" style=\"font-size: 18px; color: #00000\">5.1 | Rename Column Names</h3>"
   ]
  },
  {
   "cell_type": "markdown",
   "id": "c30f4941",
   "metadata": {},
   "source": [
    "<center>\n",
    "\n",
    "<h2 style=\"font-size: 16px; color: #FFF9ED; background-color: #641811;\">Rename Column Names</h2>\n",
    "\n",
    "</center>"
   ]
  },
  {
   "cell_type": "code",
   "execution_count": 9,
   "id": "39fa187f",
   "metadata": {},
   "outputs": [],
   "source": [
    "df.rename(columns = {\"fixed acidity\": \"fixed_acidity\", \"volatile acidity\": \"volatile_acidity\",\n",
    "                    \"citric acid\": \"citric_acid\", \"residual sugar\": \"residual_sugar\",\n",
    "                    \"chlorides\": \"chlorides\", \"free sulfur dioxide\": \"free_sulfur_dioxide\",\n",
    "                    \"total sulfur dioxide\": \"total_sulfur_dioxide\"}, inplace = True)"
   ]
  },
  {
   "cell_type": "markdown",
   "id": "e6c74be2",
   "metadata": {},
   "source": [
    "<h3 id=\"dealingNullValues\" style=\"font-size: 18px; color: #00000\">5.2 | Dealing with null values</h3>"
   ]
  },
  {
   "cell_type": "markdown",
   "id": "eca15966",
   "metadata": {},
   "source": [
    "<center>\n",
    "\n",
    "<h2 style=\"font-size: 16px; color: #FFF9ED; background-color: #641811;\">Dealing with null values</h2>\n",
    "\n",
    "</center>"
   ]
  },
  {
   "cell_type": "code",
   "execution_count": 10,
   "id": "9c987e0f",
   "metadata": {},
   "outputs": [],
   "source": [
    "# List of numeric columns with null values\n",
    "numeric_cols_with_nulls = ['fixed_acidity', 'volatile_acidity', 'citric_acid', 'residual_sugar', 'chlorides', 'pH', 'sulphates']\n",
    "\n",
    "# Create a copy of the DataFrame for dropping rows with null values\n",
    "df_dropped = df.copy()\n",
    "\n",
    "# Drop rows that have null values in any of the specified columns\n",
    "df_dropped.dropna(subset=numeric_cols_with_nulls, inplace=True)\n",
    "\n",
    "# Iterate over each numeric column with null values\n",
    "for col in numeric_cols_with_nulls:\n",
    "    # Calculate the mean value for the column\n",
    "    mean_value = df[col].mean()\n",
    "    \n",
    "    # Fill the null values in the column with the mean value\n",
    "    df[col].fillna(mean_value, inplace = True)"
   ]
  },
  {
   "cell_type": "code",
   "execution_count": 11,
   "id": "d53839f6",
   "metadata": {},
   "outputs": [
    {
     "name": "stdout",
     "output_type": "stream",
     "text": [
      "type                    0\n",
      "fixed_acidity           0\n",
      "volatile_acidity        0\n",
      "citric_acid             0\n",
      "residual_sugar          0\n",
      "chlorides               0\n",
      "free_sulfur_dioxide     0\n",
      "total_sulfur_dioxide    0\n",
      "density                 0\n",
      "pH                      0\n",
      "sulphates               0\n",
      "alcohol                 0\n",
      "quality                 0\n",
      "dtype: int64\n"
     ]
    }
   ],
   "source": [
    "print(df.isnull().sum())"
   ]
  },
  {
   "cell_type": "markdown",
   "id": "a96041bd",
   "metadata": {},
   "source": [
    "Missing values in the numeric columns have been successfully filled using the mean values of their respective columns. By addressing the missing data, we've ensured that the dataset is now complete and ready for further analysis. This preprocessing step helps maintain the integrity of the data and allows for more robust and reliable analyses."
   ]
  },
  {
   "cell_type": "code",
   "execution_count": 12,
   "id": "7a157ac8",
   "metadata": {},
   "outputs": [],
   "source": [
    "# Encoding the 'type' variable\n",
    "df = pd.get_dummies(df, columns=['type'], drop_first=True)\n",
    "\n",
    "# Encoding the 'type' variable\n",
    "df_dropped = pd.get_dummies(df_dropped, columns=['type'], drop_first=True)"
   ]
  },
  {
   "cell_type": "code",
   "execution_count": 13,
   "id": "c1099559",
   "metadata": {},
   "outputs": [
    {
     "name": "stdout",
     "output_type": "stream",
     "text": [
      "<class 'pandas.core.frame.DataFrame'>\n",
      "RangeIndex: 6497 entries, 0 to 6496\n",
      "Data columns (total 13 columns):\n",
      " #   Column                Non-Null Count  Dtype  \n",
      "---  ------                --------------  -----  \n",
      " 0   fixed_acidity         6497 non-null   float64\n",
      " 1   volatile_acidity      6497 non-null   float64\n",
      " 2   citric_acid           6497 non-null   float64\n",
      " 3   residual_sugar        6497 non-null   float64\n",
      " 4   chlorides             6497 non-null   float64\n",
      " 5   free_sulfur_dioxide   6497 non-null   float64\n",
      " 6   total_sulfur_dioxide  6497 non-null   float64\n",
      " 7   density               6497 non-null   float64\n",
      " 8   pH                    6497 non-null   float64\n",
      " 9   sulphates             6497 non-null   float64\n",
      " 10  alcohol               6497 non-null   float64\n",
      " 11  quality               6497 non-null   int64  \n",
      " 12  type_white            6497 non-null   bool   \n",
      "dtypes: bool(1), float64(11), int64(1)\n",
      "memory usage: 615.6 KB\n"
     ]
    }
   ],
   "source": [
    "df.info()"
   ]
  },
  {
   "cell_type": "markdown",
   "id": "61ec5296",
   "metadata": {},
   "source": [
    "Encoded the categorical variable 'type' in our dataset, we were able to create binary (dummy) variables for each category ('white' and 'red'). This will allow us to train a classification model to distinguish between white and red wines."
   ]
  },
  {
   "cell_type": "markdown",
   "id": "04da9454",
   "metadata": {},
   "source": [
    "<h3 id=\"dealingOutliers\" style=\"font-size: 18px; color: #00000\">5.3 | Dealing with outliers</h3>"
   ]
  },
  {
   "cell_type": "markdown",
   "id": "c776f0d8",
   "metadata": {},
   "source": [
    "<center>\n",
    "\n",
    "<h2 style=\"font-size: 16px; color: #FFF9ED; background-color: #641811;\">Dealing with outliers</h2>\n",
    "\n",
    "</center>"
   ]
  },
  {
   "cell_type": "code",
   "execution_count": 14,
   "id": "c8a84a03",
   "metadata": {},
   "outputs": [],
   "source": [
    "numeric_columns = ['fixed_acidity', 'volatile_acidity', 'citric_acid', 'residual_sugar', 'chlorides', \n",
    "                   'free_sulfur_dioxide', 'density', 'pH', 'sulphates', 'quality']"
   ]
  },
  {
   "cell_type": "code",
   "execution_count": 15,
   "id": "81f0ad1c",
   "metadata": {},
   "outputs": [
    {
     "data": {
      "image/png": "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",
      "text/plain": [
       "<Figure size 1200x800 with 10 Axes>"
      ]
     },
     "metadata": {},
     "output_type": "display_data"
    }
   ],
   "source": [
    "# Create boxplots for each numeric column\n",
    "plt.figure(figsize=(12, 8))\n",
    "for i, col in enumerate(numeric_columns, start=1):\n",
    "    plt.subplot(3, 4, i) \n",
    "    sns.boxplot(x=df[col])\n",
    "    plt.title(f'Boxplot of {col}')\n",
    "    plt.xlabel(col)\n",
    "    plt.ylabel('Values')\n",
    "\n",
    "plt.tight_layout()\n",
    "plt.show()"
   ]
  },
  {
   "cell_type": "code",
   "execution_count": 16,
   "id": "5f5b208b",
   "metadata": {},
   "outputs": [],
   "source": [
    "def calculate_outliers_iqr(df, numeric_columns):\n",
    "    \"\"\"\n",
    "    Calculate the number of outliers for each numeric column in the DataFrame using the IQR method.\n",
    "\n",
    "    Parameters:\n",
    "    - df (DataFrame): Input DataFrame containing numeric columns.\n",
    "    - numeric_columns (list): List of column names in df that are numeric.\n",
    "\n",
    "    Returns:\n",
    "    - outliers_count (dict): Dictionary containing column names as keys and number of outliers as values.\n",
    "    - outlier_indexes (set): Set of indices of rows that are outliers.\n",
    "    \"\"\"\n",
    "    outliers_count = {}\n",
    "    outlier_indexes = set()\n",
    "\n",
    "    for col in numeric_columns:\n",
    "        Q1 = df[col].quantile(0.25)\n",
    "        Q3 = df[col].quantile(0.75)\n",
    "        IQR = Q3 - Q1\n",
    "        \n",
    "        # Determine outliers using IQR method\n",
    "        lower_bound = Q1 - 1.5 * IQR\n",
    "        upper_bound = Q3 + 1.5 * IQR\n",
    "        \n",
    "        outliers = df[(df[col] < lower_bound) | (df[col] > upper_bound)].index\n",
    "        outliers_count[col] = len(outliers)\n",
    "        outlier_indexes.update(outliers)\n",
    "\n",
    "    return outliers_count, outlier_indexes"
   ]
  },
  {
   "cell_type": "code",
   "execution_count": 17,
   "id": "8c899640",
   "metadata": {},
   "outputs": [
    {
     "name": "stdout",
     "output_type": "stream",
     "text": [
      "Column 'fixed_acidity' has 357 outliers.\n",
      "Column 'volatile_acidity' has 376 outliers.\n",
      "Column 'citric_acid' has 508 outliers.\n",
      "Column 'residual_sugar' has 118 outliers.\n",
      "Column 'chlorides' has 286 outliers.\n",
      "Column 'free_sulfur_dioxide' has 62 outliers.\n",
      "Column 'density' has 3 outliers.\n",
      "Column 'pH' has 73 outliers.\n",
      "Column 'sulphates' has 191 outliers.\n",
      "Column 'quality' has 228 outliers.\n"
     ]
    }
   ],
   "source": [
    "outliers_count, outlier_indexes = calculate_outliers_iqr(df, numeric_columns)\n",
    "\n",
    "# Print number of outliers for each column\n",
    "for col, count in outliers_count.items():\n",
    "    print(f\"Column '{col}' has {count} outliers.\")"
   ]
  },
  {
   "cell_type": "code",
   "execution_count": 18,
   "id": "9b5eec01",
   "metadata": {},
   "outputs": [],
   "source": [
    "# Copy the Original DataFrame\n",
    "df_dropped_outliers = df.copy()\n",
    "\n",
    "# Remove lines that have outliers\n",
    "df_dropped_outliers = df_dropped_outliers.drop(outlier_indexes)"
   ]
  },
  {
   "cell_type": "markdown",
   "id": "b79f936c",
   "metadata": {},
   "source": [
    "<h3 id=\"eda\" style=\"font-size: 20px; color: #00000\">6 | DATA VISUALIZATION 📉</h3>"
   ]
  },
  {
   "cell_type": "markdown",
   "id": "6ba47e5e",
   "metadata": {},
   "source": [
    "<h3 id=\"heatmap\" style=\"font-size: 18px; color: #00000\">6.1 | Heatmap and Correlation</h3>"
   ]
  },
  {
   "cell_type": "markdown",
   "id": "7b835504",
   "metadata": {},
   "source": [
    "<center>\n",
    "\n",
    "<h2 style=\"font-size: 16px; color: #FFF9ED; background-color: #641811;\">Heat Map</h2>\n",
    "\n",
    "</center>"
   ]
  },
  {
   "cell_type": "code",
   "execution_count": 19,
   "id": "71c6d0b1",
   "metadata": {},
   "outputs": [
    {
     "data": {
      "image/png": "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",
      "text/plain": [
       "<Figure size 1200x1000 with 2 Axes>"
      ]
     },
     "metadata": {},
     "output_type": "display_data"
    }
   ],
   "source": [
    "# Plot the heatmap with numbers in all squares\n",
    "plt.figure(figsize=(12, 10))\n",
    "sns.heatmap(df.corr(), annot=True, linewidths = 2)\n",
    "plt.title('Correlation Heatmap')\n",
    "plt.show()"
   ]
  },
  {
   "cell_type": "markdown",
   "id": "5925377c",
   "metadata": {},
   "source": [
    "<h2 style=\"font-size: 16px; color: #000000;\">Heat Map Analysis</h2>\n",
    "\n",
    "<h3 style=\"font-size: 16px; color: #000000;\">Type and other Variables</h3>\n",
    "\n",
    "1. **fixed_acidity** Moderate negative correlation <span style=\"background-color: #F4D03F;\">(-0.49)</span>. White wines tend to have a lower fixed acidity compared to red wines.\n",
    "2. **volatile_acidity** Strong negative correlation <span style=\"background-color: #F4D03F;\">(-0.65)</span>. White wines have a significantly lower tendency towards volatile acidity compared to red wines.\n",
    "3. **citric_acid** There is a small positive <span style=\"background-color: #F4D03F;\">(0.19)</span> association between the presence of citric acid and white wines.\n",
    "4. **residual_sugar** Moderate positive correlation <span style=\"background-color: #F4D03F;\">(0.35)</span>. White wines tend to have a slightly higher residual sugar content compared to red wines.\n",
    "5. **chlorides** Moderate negative correlation <span style=\"background-color: #F4D03F;\">(-0.51)</span>. White wines have a significantly lower chloride tendency compared to red wines.\n",
    "6. **free_sulfur_dioxide** Moderate positive correlation <span style=\"background-color: #F4D03F;\">(0.47)</span>. White wines tend to have a slightly higher amount of free sulfur dioxide compared to red wines.\n",
    "7. **total_sulfur_dioxide** Moderate negative correlation <span style=\"background-color: #F4D03F;\">(-0.39)</span>. White wines have a slightly lower tendency for total sulfur dioxide compared to red wines.\n",
    "8. **density** Weak negative correlation <span style=\"background-color: #F4D03F;\">(-0.33)</span>. White wines tend to have a slightly lower density compared to red wines.\n",
    "9. **ph** Moderate negative correlation <span style=\"background-color: #F4D03F;\">(-0.49)</span>. White wines tend to have a slightly lower pH compared to red wines.\n",
    "10. **alcohol** Very weak positive correlation <span style=\"background-color: #F4D03F;\">(0.033)</span>. There is no significant correlation between alcohol content and type of wine.\n",
    "11. **quality** Very weak positive correlation <span style=\"background-color: #F4D03F;\">(0.12)</span>. There is no significant correlation between wine quality and wine type\n",
    "\n",
    "<h3 style=\"font-size: 16px; color: #000000;\">Between other Variables</h3>\n",
    "\n",
    "1. **free_sulfur_dioxide** and **total_sulfur_dioxide** Strong positive correlation <span style=\"background-color: #F4D03F;\">(0.72)</span>. This suggests a strong positive correlation between the amount of free and total sulfur dioxide in wine. This may indicate that as the amount of free sulfur dioxide increases, the total amount of sulfur dioxide also increases consistently. This may be due to specific wine production processes or the presence of other substances that influence both variables.\n",
    "2. **density** and **alcohol**  Strong negative correlation <span style=\"background-color: #F4D03F;\">(-0.69)</span>. Indicates a moderate negative correlation between wine density and alcohol content. This suggests that wines with higher alcohol content tend to have a lower density and vice versa. This relationship can be explained by the decrease in the density of the liquid as the alcohol content increases, since alcohol is less dense than water.\n",
    "\n",
    "<h3 style=\"font-size: 16px; color: #000000;\">Conclusion</h3>\n",
    "\n",
    "1. We will use the features that have a significant correlations with wine type (target). These features will be included in our classification model to predict whether a wine is white or red:\n",
    "    - **fixed_acidity**, **volatile_acidity**, **citric_acid**, **residual_sugar**, **chlorides**, **free_sulfur_dioxide**, **total_sulfur_dioxide**, **density**, **ph**.\n",
    "2. Features such as **alcohol** and **quality** will be dropped due to their very weak correlations with wine type, with this will simplify the model and reduce the dimensionality of the data, making it more efficiente and less susceptible to overfitting;\n",
    "3. Features that have a robust correlation between them such as (**free_sulfur_dioxide** - **total_sulfur_dioxide**) and (**density** - **alcohol**), we will opt to exclude the feature that have less correlation (**total_sulfur_dioxide**  and **alcohol**)  with the feature target (**wine type**) to mitigate multicollinearity risk, to improve model stability and reliability.\n",
    "\n",
    "<h3 style=\"font-size: 16px; color: #000000;\">Features to be dropped: quality (we will need in the regression (we can't drop), total_sulfur_dioxide, alcohol  </h3>\n",
    "   "
   ]
  },
  {
   "cell_type": "code",
   "execution_count": 20,
   "id": "d480855b",
   "metadata": {},
   "outputs": [],
   "source": [
    "# Dropping the columns\n",
    "columnsToDrop = ['total_sulfur_dioxide', \n",
    "               'alcohol', \n",
    "               ]\n",
    "df=df.drop(columnsToDrop,axis=1)\n",
    "df_dropped = df_dropped.drop(columnsToDrop, axis = 1)\n",
    "df_dropped_outliers = df_dropped_outliers.drop(columnsToDrop, axis=1)"
   ]
  },
  {
   "cell_type": "markdown",
   "id": "dd405db3",
   "metadata": {},
   "source": [
    "<h3 id=\"histogram\" style=\"font-size: 18px; color: #00000\">6.2 | Histogram and Distribution</h3>"
   ]
  },
  {
   "cell_type": "markdown",
   "id": "78b097c8",
   "metadata": {},
   "source": [
    "<center>\n",
    "\n",
    "<h2 style=\"font-size: 16px; color: #FFF9ED; background-color: #641811;\">Histograms</h2>\n",
    "\n",
    "</center>"
   ]
  },
  {
   "cell_type": "code",
   "execution_count": 21,
   "id": "1bfeeaeb",
   "metadata": {},
   "outputs": [
    {
     "data": {
      "image/png": "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",
      "text/plain": [
       "<Figure size 1500x1200 with 9 Axes>"
      ]
     },
     "metadata": {},
     "output_type": "display_data"
    }
   ],
   "source": [
    "# List of numeric columns\n",
    "numeric_cols = ['fixed_acidity', 'volatile_acidity', 'citric_acid', 'residual_sugar', 'chlorides', \n",
    "                'free_sulfur_dioxide', 'density', 'pH', 'sulphates']\n",
    "\n",
    "# Create subplots\n",
    "fig, axes = plt.subplots(nrows=3, ncols=3, figsize=(15, 12))\n",
    "fig.subplots_adjust(hspace=0.5)\n",
    "\n",
    "# Iterate over numeric columns and plot distribution\n",
    "for col, ax in zip(numeric_cols, axes.flatten()):\n",
    "    sns.histplot(data=df, x=col, ax=ax, kde=True, color='skyblue', bins=30)\n",
    "    ax.set_title(f'Distribution of {col}')\n",
    "\n",
    "plt.tight_layout()\n",
    "plt.show()"
   ]
  },
  {
   "cell_type": "markdown",
   "id": "c88c1fda",
   "metadata": {},
   "source": [
    "<h2 style=\"font-size: 16px; color: #000000;\">Histograms Analysis</h2>\n",
    "\n",
    "<h3 style=\"font-size: 16px; color: #000000;\">Distribution</h3>\n",
    "\n",
    "The histograms of the numeric features display a wide variety of distrubions, indicating significant diversity within the dataset. Given the disparate scales and variances observed across these features, it's crucial to standardize the data using StandardScaler. This preprocessing step ensures that all features contribute equally to the model and improves its robustness and generalizability."
   ]
  },
  {
   "cell_type": "code",
   "execution_count": 22,
   "id": "cf5a594a",
   "metadata": {},
   "outputs": [
    {
     "data": {
      "text/plain": [
       "Index(['fixed_acidity', 'volatile_acidity', 'citric_acid', 'residual_sugar',\n",
       "       'chlorides', 'free_sulfur_dioxide', 'density', 'pH', 'sulphates',\n",
       "       'quality', 'type_white'],\n",
       "      dtype='object')"
      ]
     },
     "execution_count": 22,
     "metadata": {},
     "output_type": "execute_result"
    }
   ],
   "source": [
    "# Create an instance of StandardScaler\n",
    "standardScaler = StandardScaler()\n",
    "# Display the columns of the DataFrame\n",
    "df.columns"
   ]
  },
  {
   "cell_type": "code",
   "execution_count": 23,
   "id": "7c682587",
   "metadata": {},
   "outputs": [],
   "source": [
    "# List of columns to scale\n",
    "columns_to_scale = ['fixed_acidity', 'volatile_acidity', 'citric_acid', 'residual_sugar',\n",
    "       'chlorides', 'free_sulfur_dioxide', 'density',\n",
    "       'pH', 'sulphates']\n",
    "\n",
    "# Scale the selected columns using the StandardScaler object\n",
    "df[columns_to_scale] = standardScaler.fit_transform(df[columns_to_scale])\n",
    "df_dropped[columns_to_scale] = standardScaler.fit_transform(df_dropped[columns_to_scale])\n",
    "df_dropped_outliers[columns_to_scale] = standardScaler.fit_transform(df_dropped_outliers[columns_to_scale])"
   ]
  },
  {
   "cell_type": "markdown",
   "id": "9646bc29",
   "metadata": {},
   "source": [
    "<h3 id=\"dataSplitting\" style=\"font-size: 20px; color: #00000\">7 | DATA SPLITTING (Classification) 🪓</h3>"
   ]
  },
  {
   "cell_type": "markdown",
   "id": "4eee91b7",
   "metadata": {},
   "source": [
    "<center>\n",
    "\n",
    "<h2 style=\"font-size: 16px; color: #FFF9ED; background-color: #641811;\">Splitting</h2>\n",
    "\n",
    "</center>"
   ]
  },
  {
   "cell_type": "code",
   "execution_count": 24,
   "id": "12dc0c22",
   "metadata": {},
   "outputs": [],
   "source": [
    "# Features (X) contain all columns except the 'type_white' column\n",
    "X = df.drop('type_white', axis=1)  \n",
    "# Target (y) contains only the 'type_white' column\n",
    "y = df['type_white']  # Target\n",
    "\n",
    "# Features (X) contain all columns except the 'type_white' column\n",
    "X_dropped = df_dropped.drop('type_white', axis=1)  \n",
    "# Target (y) contains only the 'type_white' column\n",
    "y_dropped = df_dropped['type_white']  # Target\n",
    "\n",
    "# Features (X) contain all columns except the 'type_white' column\n",
    "X_dropped_outliers = df_dropped_outliers.drop('type_white', axis=1)  \n",
    "# Target (y) contains only the 'type_white' column\n",
    "y_dropped_outliers = df_dropped_outliers['type_white']  # Target"
   ]
  },
  {
   "cell_type": "code",
   "execution_count": 25,
   "id": "5a1d602a",
   "metadata": {},
   "outputs": [],
   "source": [
    "def custom_train_test_split(X, y, test_size=0.25, random_state=None, stratify=None):\n",
    "    \"\"\"\n",
    "    Perform train-test split on given features and target arrays.\n",
    "\n",
    "    Parameters:\n",
    "    - X (array-like): Features array.\n",
    "    - y (array-like): Target array.\n",
    "    - test_size (float or int, default=0.25): Proportion of the dataset to include in the test split.\n",
    "    - random_state (int or None, default=None): Seed for random number generator.\n",
    "    - stratify (array-like, optional): Array containing the target variable to stratify by.\n",
    "\n",
    "    Returns:\n",
    "    - X_train, X_test, y_train, y_test (tuple): Split arrays or matrices for training and testing.\n",
    "    \"\"\"\n",
    "    X_train, X_test, y_train, y_test = train_test_split(X, y, test_size=test_size, random_state=random_state, stratify=stratify)\n",
    "    return X_train, X_test, y_train, y_test"
   ]
  },
  {
   "cell_type": "code",
   "execution_count": 26,
   "id": "2738e018",
   "metadata": {},
   "outputs": [],
   "source": [
    "X_train, X_test, y_train, y_test = custom_train_test_split(X, y, test_size=0.25, random_state=24, stratify=y)\n",
    "X_train_dropped, X_test_dropped, y_train_dropped, y_test_dropped = custom_train_test_split(X_dropped, y_dropped, test_size=0.25, random_state=24, stratify=y_dropped)\n",
    "X_train_dropped_outliers, X_test_dropped_outliers, y_train_dropped_outliers, y_test_dropped_outliers = custom_train_test_split(X_dropped_outliers, y_dropped_outliers, test_size=0.25, random_state=24, stratify=y_dropped_outliers)"
   ]
  },
  {
   "cell_type": "markdown",
   "id": "9db2b837",
   "metadata": {},
   "source": [
    "<center>\n",
    "\n",
    "<h2 style=\"font-size: 16px; color: #FFF9ED; background-color: #641811;\">Balancing</h2>\n",
    "\n",
    "</center>"
   ]
  },
  {
   "cell_type": "code",
   "execution_count": 27,
   "id": "0e1621f7",
   "metadata": {},
   "outputs": [],
   "source": [
    "# Balancing the data only in the train set\n",
    "smote = SMOTE(random_state=42)\n",
    "X_train_resampled, y_train_resampled = smote.fit_resample(X_train, y_train)\n",
    "X_train_dropped_resampled, y_train_dropped_resampled = smote.fit_resample(X_train_dropped, y_train_dropped)\n",
    "X_train_dropped_outliers_resampled, y_train_dropped_outliers_resampled = smote.fit_resample(X_train_dropped_outliers, y_train_dropped_outliers)"
   ]
  },
  {
   "cell_type": "code",
   "execution_count": 28,
   "id": "4bfe6189",
   "metadata": {},
   "outputs": [
    {
     "data": {
      "text/plain": [
       "0.7538998357963875"
      ]
     },
     "execution_count": 28,
     "metadata": {},
     "output_type": "execute_result"
    }
   ],
   "source": [
    "# Calculate the proportion of positive class in the training set\n",
    "y_train.sum() / y_train.count()"
   ]
  },
  {
   "cell_type": "code",
   "execution_count": 29,
   "id": "517a81fa",
   "metadata": {},
   "outputs": [
    {
     "data": {
      "text/plain": [
       "0.7538461538461538"
      ]
     },
     "execution_count": 29,
     "metadata": {},
     "output_type": "execute_result"
    }
   ],
   "source": [
    "# Calculate the proportion of positive class in the test set\n",
    "y_test.sum() / y_test.count()"
   ]
  },
  {
   "cell_type": "markdown",
   "id": "30c3bc8b",
   "metadata": {},
   "source": [
    "These numbers indicate the proportion of the class in the training and test sets, respectively. For y_train, the proportion is approximately **75.39%**. For y_test, the proportion is approximately **75.38%**, meaning the stratification was sucessful."
   ]
  },
  {
   "cell_type": "markdown",
   "id": "655f6f26",
   "metadata": {},
   "source": [
    "<h3 id=\"training\" style=\"font-size: 20px; color: #00000\">8 | TRAINING AND EVALUATION (Classification) 🤖</h3>"
   ]
  },
  {
   "cell_type": "code",
   "execution_count": 30,
   "id": "21497bd5",
   "metadata": {},
   "outputs": [],
   "source": [
    "# Function to calculate performance metrics\n",
    "def calculate_metrics(y_test, y_pred):\n",
    "    \"\"\"\n",
    "    Calculate performance metrics including F1 score, accuracy, precision, and recall.\n",
    "\n",
    "    Parameters:\n",
    "    y_test (array-like): True labels.\n",
    "    y_pred (array-like): Predicted labels.\n",
    "\n",
    "    Returns:\n",
    "    tuple: A tuple containing F1 score, accuracy, precision, and recall.\n",
    "    \"\"\"\n",
    "    f1 = f1_score(y_test, y_pred, average='weighted')\n",
    "    accuracy = accuracy_score(y_test, y_pred)\n",
    "    precision = precision_score(y_test, y_pred)\n",
    "    recall = recall_score(y_test, y_pred)\n",
    "    return f1, accuracy, precision, recall"
   ]
  },
  {
   "cell_type": "code",
   "execution_count": 31,
   "id": "58c46515",
   "metadata": {},
   "outputs": [],
   "source": [
    "def create_results_df(result_name, model_name, metrics):\n",
    "    \"\"\"\n",
    "    Create a DataFrame to store evaluation metrics for a given model.\n",
    "\n",
    "    Parameters:\n",
    "    result_name: Name of the result Dataframe\n",
    "    model_name (str): Name of the model.\n",
    "    metrics (tuple): Tuple containing evaluation metrics (F1 score, accuracy, precision, recall).\n",
    "\n",
    "    Returns:\n",
    "    DataFrame: DataFrame containing model name and evaluation metrics.\n",
    "    \"\"\"\n",
    "    result_name = pd.DataFrame(columns=['Model', 'Accuracy', 'Precision', 'Recall', 'F1'], \n",
    "                              data=[[model_name, *metrics]])\n",
    "    return result_name"
   ]
  },
  {
   "cell_type": "code",
   "execution_count": 32,
   "id": "4a6ac778",
   "metadata": {},
   "outputs": [],
   "source": [
    "def concatenate_results(*dfs):\n",
    "    \"\"\"\n",
    "    Concatenate the results of multiple DataFrames into a single DataFrame.\n",
    "\n",
    "    Parameters:\n",
    "    dfs (DataFrame): Variable number of DataFrames containing model evaluation metrics.\n",
    "\n",
    "    Returns:\n",
    "    DataFrame: Concatenated DataFrame containing evaluation metrics for all models.\n",
    "    \"\"\"\n",
    "    concatenated_df = pd.concat(dfs, ignore_index=True)\n",
    "    return concatenated_df"
   ]
  },
  {
   "cell_type": "markdown",
   "id": "f3784e05",
   "metadata": {},
   "source": [
    "<h3 id=\"decisionTree\" style=\"font-size: 18px; color: #00000\">8.1 | Decision Tree</h3>"
   ]
  },
  {
   "cell_type": "markdown",
   "id": "873e96f7",
   "metadata": {},
   "source": [
    "<center>\n",
    "\n",
    "<h2 style=\"font-size: 16px; color: #FFF9ED; background-color: #641811;\">Creating the tree</h2>\n",
    "\n",
    "</center>"
   ]
  },
  {
   "cell_type": "code",
   "execution_count": 33,
   "id": "d3811ce1",
   "metadata": {},
   "outputs": [],
   "source": [
    "# Train the Decision Tree classifier\n",
    "dt = DecisionTreeClassifier(random_state=24)\n",
    "dt.fit(X_train_resampled, y_train_resampled)\n",
    "# Make predictions on the test set\n",
    "dt_pred = dt.predict(X_test)"
   ]
  },
  {
   "cell_type": "code",
   "execution_count": 34,
   "id": "71927d85",
   "metadata": {},
   "outputs": [
    {
     "data": {
      "text/plain": [
       "{'ccp_alpha': 0.0,\n",
       " 'class_weight': None,\n",
       " 'criterion': 'gini',\n",
       " 'max_depth': None,\n",
       " 'max_features': None,\n",
       " 'max_leaf_nodes': None,\n",
       " 'min_impurity_decrease': 0.0,\n",
       " 'min_samples_leaf': 1,\n",
       " 'min_samples_split': 2,\n",
       " 'min_weight_fraction_leaf': 0.0,\n",
       " 'random_state': 24,\n",
       " 'splitter': 'best'}"
      ]
     },
     "execution_count": 34,
     "metadata": {},
     "output_type": "execute_result"
    }
   ],
   "source": [
    "# Get the parameters used\n",
    "dt.get_params()"
   ]
  },
  {
   "cell_type": "markdown",
   "id": "6303d7b4",
   "metadata": {},
   "source": [
    "<center>\n",
    "\n",
    "<h2 style=\"font-size: 16px; color: #FFF9ED; background-color: #641811;\">Performance Metrics</h2>\n",
    "\n",
    "</center>"
   ]
  },
  {
   "cell_type": "code",
   "execution_count": 35,
   "id": "cc297674",
   "metadata": {},
   "outputs": [],
   "source": [
    "# Calculate evaluation metrics for the Decision Tree classifier\n",
    "dt_metrics = calculate_metrics(y_test,dt_pred)"
   ]
  },
  {
   "cell_type": "markdown",
   "id": "92915504",
   "metadata": {},
   "source": [
    "<center>\n",
    "\n",
    "<h2 style=\"font-size: 16px; color: #FFF9ED; background-color: #641811;\">Summary of Performance Metrics</h2>\n",
    "\n",
    "</center>"
   ]
  },
  {
   "cell_type": "code",
   "execution_count": 36,
   "id": "b6aee239",
   "metadata": {},
   "outputs": [],
   "source": [
    "# Create a DataFrame to store the evaluation metrics for the Decision Tree classifier\n",
    "results_dt = create_results_df('results_dt', 'DT', dt_metrics)"
   ]
  },
  {
   "cell_type": "markdown",
   "id": "7efbd087",
   "metadata": {},
   "source": [
    "<h3 id=\"randomForest\" style=\"font-size: 18px; color: #00000\">8.2 | Random Forest</h3>"
   ]
  },
  {
   "cell_type": "markdown",
   "id": "ac9bc925",
   "metadata": {},
   "source": [
    "<center>\n",
    "\n",
    "<h2 style=\"font-size: 16px; color: #FFF9ED; background-color: #641811;\">Creating the random forest</h2>\n",
    "\n",
    "</center>"
   ]
  },
  {
   "cell_type": "code",
   "execution_count": 37,
   "id": "d90d5bdf",
   "metadata": {},
   "outputs": [],
   "source": [
    "# Train the Random Forest\n",
    "rf = RandomForestClassifier(random_state=24)\n",
    "rf.fit(X_train_resampled, y_train_resampled)\n",
    "# Make predictions on the test set\n",
    "rf_pred = rf.predict(X_test)\n",
    "\n",
    "# Train the Random Forest\n",
    "rf_dropped = RandomForestClassifier(random_state=24)\n",
    "rf_dropped.fit(X_train_dropped_resampled, y_train_dropped_resampled)\n",
    "# Make predictions on the test set\n",
    "rf_dropped_pred = rf_dropped.predict(X_test)\n",
    "\n",
    "# Train the Random Forest\n",
    "rf_dropped_outliers = RandomForestClassifier(random_state=24)\n",
    "rf_dropped_outliers.fit(X_train_dropped_outliers_resampled, y_train_dropped_outliers_resampled)\n",
    "# Make predictions on the test set\n",
    "rf_dropped_outliers_pred = rf_dropped_outliers.predict(X_test)"
   ]
  },
  {
   "cell_type": "code",
   "execution_count": 38,
   "id": "c8271d26",
   "metadata": {},
   "outputs": [
    {
     "data": {
      "text/plain": [
       "{'bootstrap': True,\n",
       " 'ccp_alpha': 0.0,\n",
       " 'class_weight': None,\n",
       " 'criterion': 'gini',\n",
       " 'max_depth': None,\n",
       " 'max_features': 'sqrt',\n",
       " 'max_leaf_nodes': None,\n",
       " 'max_samples': None,\n",
       " 'min_impurity_decrease': 0.0,\n",
       " 'min_samples_leaf': 1,\n",
       " 'min_samples_split': 2,\n",
       " 'min_weight_fraction_leaf': 0.0,\n",
       " 'n_estimators': 100,\n",
       " 'n_jobs': None,\n",
       " 'oob_score': False,\n",
       " 'random_state': 24,\n",
       " 'verbose': 0,\n",
       " 'warm_start': False}"
      ]
     },
     "execution_count": 38,
     "metadata": {},
     "output_type": "execute_result"
    }
   ],
   "source": [
    "# Get the parameters used\n",
    "rf.get_params()"
   ]
  },
  {
   "cell_type": "code",
   "execution_count": 39,
   "id": "3ed39399",
   "metadata": {},
   "outputs": [
    {
     "data": {
      "text/plain": [
       "{'bootstrap': True,\n",
       " 'ccp_alpha': 0.0,\n",
       " 'class_weight': None,\n",
       " 'criterion': 'gini',\n",
       " 'max_depth': None,\n",
       " 'max_features': 'sqrt',\n",
       " 'max_leaf_nodes': None,\n",
       " 'max_samples': None,\n",
       " 'min_impurity_decrease': 0.0,\n",
       " 'min_samples_leaf': 1,\n",
       " 'min_samples_split': 2,\n",
       " 'min_weight_fraction_leaf': 0.0,\n",
       " 'n_estimators': 100,\n",
       " 'n_jobs': None,\n",
       " 'oob_score': False,\n",
       " 'random_state': 24,\n",
       " 'verbose': 0,\n",
       " 'warm_start': False}"
      ]
     },
     "execution_count": 39,
     "metadata": {},
     "output_type": "execute_result"
    }
   ],
   "source": [
    "# Get the parameters used\n",
    "rf_dropped.get_params()"
   ]
  },
  {
   "cell_type": "code",
   "execution_count": 40,
   "id": "5dae470c",
   "metadata": {},
   "outputs": [
    {
     "data": {
      "text/plain": [
       "{'bootstrap': True,\n",
       " 'ccp_alpha': 0.0,\n",
       " 'class_weight': None,\n",
       " 'criterion': 'gini',\n",
       " 'max_depth': None,\n",
       " 'max_features': 'sqrt',\n",
       " 'max_leaf_nodes': None,\n",
       " 'max_samples': None,\n",
       " 'min_impurity_decrease': 0.0,\n",
       " 'min_samples_leaf': 1,\n",
       " 'min_samples_split': 2,\n",
       " 'min_weight_fraction_leaf': 0.0,\n",
       " 'n_estimators': 100,\n",
       " 'n_jobs': None,\n",
       " 'oob_score': False,\n",
       " 'random_state': 24,\n",
       " 'verbose': 0,\n",
       " 'warm_start': False}"
      ]
     },
     "execution_count": 40,
     "metadata": {},
     "output_type": "execute_result"
    }
   ],
   "source": [
    "# Get the parameters used\n",
    "rf_dropped_outliers.get_params()"
   ]
  },
  {
   "cell_type": "markdown",
   "id": "ca3d7716",
   "metadata": {},
   "source": [
    "<center>\n",
    "\n",
    "<h2 style=\"font-size: 16px; color: #FFF9ED; background-color: #641811;\">Performace Metrics</h2>\n",
    "\n",
    "</center>"
   ]
  },
  {
   "cell_type": "code",
   "execution_count": 41,
   "id": "93eb3ebd",
   "metadata": {},
   "outputs": [],
   "source": [
    "# Calculate evaluation metrics for the Random Forest classifier\n",
    "rf_metrics = calculate_metrics(y_test,rf_pred)\n",
    "# Calculate evaluation metrics for the Random Forest classifier\n",
    "rf_dropped_metrics = calculate_metrics(y_test,rf_dropped_pred)\n",
    "# Calculate evaluation metrics for the Random Forest classifier\n",
    "rf_dropped_outliers_metrics = calculate_metrics(y_test,rf_dropped_outliers_pred)"
   ]
  },
  {
   "cell_type": "markdown",
   "id": "a34e77f6",
   "metadata": {},
   "source": [
    "<center>\n",
    "\n",
    "<h2 style=\"font-size: 16px; color: #FFF9ED; background-color: #641811;\">Summary of Performance Metrics</h2>\n",
    "\n",
    "</center>"
   ]
  },
  {
   "cell_type": "code",
   "execution_count": 42,
   "id": "353530b2",
   "metadata": {},
   "outputs": [],
   "source": [
    "# Create a DataFrame to store the evaluation metrics for the Random Forest classifier\n",
    "results_rf = create_results_df('results_rf', 'RF', rf_metrics)\n",
    "# Create a DataFrame to store the evaluation metrics for the Random Forest classifier\n",
    "results_rf_dropped = create_results_df('results_rf_dropped', 'RF Without Null Values', rf_dropped_metrics)\n",
    "# Create a DataFrame to store the evaluation metrics for the Random Forest classifier\n",
    "results_rf_dropped_outliers = create_results_df('results_rf_droppedoutliers', 'RF Without Outliers', rf_dropped_outliers_metrics)"
   ]
  },
  {
   "cell_type": "markdown",
   "id": "3e27553f",
   "metadata": {},
   "source": [
    "<h3 id=\"svc\" style=\"font-size: 18px; color: #00000\">8.3 | Support Vector Classifier</h3>"
   ]
  },
  {
   "cell_type": "markdown",
   "id": "097c7386",
   "metadata": {},
   "source": [
    "<center>\n",
    "\n",
    "<h2 style=\"font-size: 16px; color: #FFF9ED; background-color: #641811;\">Creating the svc</h2>\n",
    "\n",
    "</center>"
   ]
  },
  {
   "cell_type": "code",
   "execution_count": 43,
   "id": "34736efa",
   "metadata": {},
   "outputs": [],
   "source": [
    "# Train the SVC\n",
    "svc = SVC(random_state=24)\n",
    "svc.fit(X_train_resampled, y_train_resampled)\n",
    "# Make predictions on the test set\n",
    "svc_pred = svc.predict(X_test)"
   ]
  },
  {
   "cell_type": "code",
   "execution_count": 44,
   "id": "49b39741-235a-4f64-8d60-ca92ed01061b",
   "metadata": {},
   "outputs": [
    {
     "data": {
      "text/plain": [
       "{'C': 1.0,\n",
       " 'break_ties': False,\n",
       " 'cache_size': 200,\n",
       " 'class_weight': None,\n",
       " 'coef0': 0.0,\n",
       " 'decision_function_shape': 'ovr',\n",
       " 'degree': 3,\n",
       " 'gamma': 'scale',\n",
       " 'kernel': 'rbf',\n",
       " 'max_iter': -1,\n",
       " 'probability': False,\n",
       " 'random_state': 24,\n",
       " 'shrinking': True,\n",
       " 'tol': 0.001,\n",
       " 'verbose': False}"
      ]
     },
     "execution_count": 44,
     "metadata": {},
     "output_type": "execute_result"
    }
   ],
   "source": [
    "# Get the parameters used\n",
    "svc.get_params()"
   ]
  },
  {
   "cell_type": "markdown",
   "id": "f7c606ea",
   "metadata": {},
   "source": [
    "<center>\n",
    "\n",
    "<h2 style=\"font-size: 16px; color: #FFF9ED; background-color: #641811;\">Performace Metrics</h2>\n",
    "\n",
    "</center>"
   ]
  },
  {
   "cell_type": "code",
   "execution_count": 45,
   "id": "4e27b70e",
   "metadata": {},
   "outputs": [],
   "source": [
    "# Calculate evaluation metrics for the SVC\n",
    "svc_metrics = calculate_metrics(y_test,svc_pred)"
   ]
  },
  {
   "cell_type": "markdown",
   "id": "11d6a2de",
   "metadata": {},
   "source": [
    "<center>\n",
    "\n",
    "<h2 style=\"font-size: 16px; color: #FFF9ED; background-color: #641811;\">Summary of Performance Metrics</h2>\n",
    "\n",
    "</center>"
   ]
  },
  {
   "cell_type": "code",
   "execution_count": 46,
   "id": "f189de56",
   "metadata": {},
   "outputs": [],
   "source": [
    "# Create a DataFrame to store the evaluation metrics for the SVC\n",
    "results_svc = create_results_df('results_svc', 'SVC', svc_metrics)"
   ]
  },
  {
   "cell_type": "markdown",
   "id": "9d973e78",
   "metadata": {},
   "source": [
    "<center>\n",
    "\n",
    "<h2 style=\"font-size: 16px; color: #FFF9ED; background-color: #641811;\">Results before optimization</h2>\n",
    "\n",
    "</center>"
   ]
  },
  {
   "cell_type": "code",
   "execution_count": 47,
   "id": "34683740",
   "metadata": {},
   "outputs": [
    {
     "data": {
      "text/html": [
       "<div>\n",
       "<style scoped>\n",
       "    .dataframe tbody tr th:only-of-type {\n",
       "        vertical-align: middle;\n",
       "    }\n",
       "\n",
       "    .dataframe tbody tr th {\n",
       "        vertical-align: top;\n",
       "    }\n",
       "\n",
       "    .dataframe thead th {\n",
       "        text-align: right;\n",
       "    }\n",
       "</style>\n",
       "<table border=\"1\" class=\"dataframe\">\n",
       "  <thead>\n",
       "    <tr style=\"text-align: right;\">\n",
       "      <th></th>\n",
       "      <th>Model</th>\n",
       "      <th>Accuracy</th>\n",
       "      <th>Precision</th>\n",
       "      <th>Recall</th>\n",
       "      <th>F1</th>\n",
       "    </tr>\n",
       "  </thead>\n",
       "  <tbody>\n",
       "    <tr>\n",
       "      <th>0</th>\n",
       "      <td>DT</td>\n",
       "      <td>0.974322</td>\n",
       "      <td>0.974154</td>\n",
       "      <td>0.989247</td>\n",
       "      <td>0.976327</td>\n",
       "    </tr>\n",
       "    <tr>\n",
       "      <th>1</th>\n",
       "      <td>RF</td>\n",
       "      <td>0.986439</td>\n",
       "      <td>0.986462</td>\n",
       "      <td>0.989422</td>\n",
       "      <td>0.992653</td>\n",
       "    </tr>\n",
       "    <tr>\n",
       "      <th>2</th>\n",
       "      <td>RF Without Null Values</td>\n",
       "      <td>0.992590</td>\n",
       "      <td>0.992615</td>\n",
       "      <td>0.991890</td>\n",
       "      <td>0.998367</td>\n",
       "    </tr>\n",
       "    <tr>\n",
       "      <th>3</th>\n",
       "      <td>RF Without Outliers</td>\n",
       "      <td>0.938082</td>\n",
       "      <td>0.940923</td>\n",
       "      <td>0.927976</td>\n",
       "      <td>0.999184</td>\n",
       "    </tr>\n",
       "    <tr>\n",
       "      <th>4</th>\n",
       "      <td>SVC</td>\n",
       "      <td>0.981615</td>\n",
       "      <td>0.981538</td>\n",
       "      <td>0.991770</td>\n",
       "      <td>0.983673</td>\n",
       "    </tr>\n",
       "  </tbody>\n",
       "</table>\n",
       "</div>"
      ],
      "text/plain": [
       "                    Model  Accuracy  Precision    Recall        F1\n",
       "0                      DT  0.974322   0.974154  0.989247  0.976327\n",
       "1                      RF  0.986439   0.986462  0.989422  0.992653\n",
       "2  RF Without Null Values  0.992590   0.992615  0.991890  0.998367\n",
       "3     RF Without Outliers  0.938082   0.940923  0.927976  0.999184\n",
       "4                     SVC  0.981615   0.981538  0.991770  0.983673"
      ]
     },
     "execution_count": 47,
     "metadata": {},
     "output_type": "execute_result"
    }
   ],
   "source": [
    "# Create a DataFrame to store all the metrics of these classifiers\n",
    "concatenate_results(results_dt, results_rf, results_rf_dropped, results_rf_dropped_outliers, results_svc)"
   ]
  },
  {
   "cell_type": "markdown",
   "id": "aa2a0a45",
   "metadata": {},
   "source": [
    "<h3 id=\"decisionTreeOpt\" style=\"font-size: 18px; color: #00000\">8.4 | Decision Tree Optimization</h3>"
   ]
  },
  {
   "cell_type": "markdown",
   "id": "414f73d0",
   "metadata": {},
   "source": [
    "<center>\n",
    "\n",
    "<h2 style=\"font-size: 16px; color: #FFF9ED; background-color: #641811;\">Parameters</h2>\n",
    "\n",
    "</center>"
   ]
  },
  {
   "cell_type": "code",
   "execution_count": 48,
   "id": "414c73a4",
   "metadata": {},
   "outputs": [
    {
     "name": "stdout",
     "output_type": "stream",
     "text": [
      "Fitting 5 folds for each of 24 candidates, totalling 120 fits\n"
     ]
    },
    {
     "data": {
      "text/html": [
       "<style>#sk-container-id-1 {color: black;background-color: white;}#sk-container-id-1 pre{padding: 0;}#sk-container-id-1 div.sk-toggleable {background-color: white;}#sk-container-id-1 label.sk-toggleable__label {cursor: pointer;display: block;width: 100%;margin-bottom: 0;padding: 0.3em;box-sizing: border-box;text-align: center;}#sk-container-id-1 label.sk-toggleable__label-arrow:before {content: \"▸\";float: left;margin-right: 0.25em;color: #696969;}#sk-container-id-1 label.sk-toggleable__label-arrow:hover:before {color: black;}#sk-container-id-1 div.sk-estimator:hover label.sk-toggleable__label-arrow:before {color: black;}#sk-container-id-1 div.sk-toggleable__content {max-height: 0;max-width: 0;overflow: hidden;text-align: left;background-color: #f0f8ff;}#sk-container-id-1 div.sk-toggleable__content pre {margin: 0.2em;color: black;border-radius: 0.25em;background-color: #f0f8ff;}#sk-container-id-1 input.sk-toggleable__control:checked~div.sk-toggleable__content {max-height: 200px;max-width: 100%;overflow: auto;}#sk-container-id-1 input.sk-toggleable__control:checked~label.sk-toggleable__label-arrow:before {content: \"▾\";}#sk-container-id-1 div.sk-estimator input.sk-toggleable__control:checked~label.sk-toggleable__label {background-color: #d4ebff;}#sk-container-id-1 div.sk-label input.sk-toggleable__control:checked~label.sk-toggleable__label {background-color: #d4ebff;}#sk-container-id-1 input.sk-hidden--visually {border: 0;clip: rect(1px 1px 1px 1px);clip: rect(1px, 1px, 1px, 1px);height: 1px;margin: -1px;overflow: hidden;padding: 0;position: absolute;width: 1px;}#sk-container-id-1 div.sk-estimator {font-family: monospace;background-color: #f0f8ff;border: 1px dotted black;border-radius: 0.25em;box-sizing: border-box;margin-bottom: 0.5em;}#sk-container-id-1 div.sk-estimator:hover {background-color: #d4ebff;}#sk-container-id-1 div.sk-parallel-item::after {content: \"\";width: 100%;border-bottom: 1px solid gray;flex-grow: 1;}#sk-container-id-1 div.sk-label:hover label.sk-toggleable__label {background-color: #d4ebff;}#sk-container-id-1 div.sk-serial::before {content: \"\";position: absolute;border-left: 1px solid gray;box-sizing: border-box;top: 0;bottom: 0;left: 50%;z-index: 0;}#sk-container-id-1 div.sk-serial {display: flex;flex-direction: column;align-items: center;background-color: white;padding-right: 0.2em;padding-left: 0.2em;position: relative;}#sk-container-id-1 div.sk-item {position: relative;z-index: 1;}#sk-container-id-1 div.sk-parallel {display: flex;align-items: stretch;justify-content: center;background-color: white;position: relative;}#sk-container-id-1 div.sk-item::before, #sk-container-id-1 div.sk-parallel-item::before {content: \"\";position: absolute;border-left: 1px solid gray;box-sizing: border-box;top: 0;bottom: 0;left: 50%;z-index: -1;}#sk-container-id-1 div.sk-parallel-item {display: flex;flex-direction: column;z-index: 1;position: relative;background-color: white;}#sk-container-id-1 div.sk-parallel-item:first-child::after {align-self: flex-end;width: 50%;}#sk-container-id-1 div.sk-parallel-item:last-child::after {align-self: flex-start;width: 50%;}#sk-container-id-1 div.sk-parallel-item:only-child::after {width: 0;}#sk-container-id-1 div.sk-dashed-wrapped {border: 1px dashed gray;margin: 0 0.4em 0.5em 0.4em;box-sizing: border-box;padding-bottom: 0.4em;background-color: white;}#sk-container-id-1 div.sk-label label {font-family: monospace;font-weight: bold;display: inline-block;line-height: 1.2em;}#sk-container-id-1 div.sk-label-container {text-align: center;}#sk-container-id-1 div.sk-container {/* jupyter's `normalize.less` sets `[hidden] { display: none; }` but bootstrap.min.css set `[hidden] { display: none !important; }` so we also need the `!important` here to be able to override the default hidden behavior on the sphinx rendered scikit-learn.org. See: https://github.com/scikit-learn/scikit-learn/issues/21755 */display: inline-block !important;position: relative;}#sk-container-id-1 div.sk-text-repr-fallback {display: none;}</style><div id=\"sk-container-id-1\" class=\"sk-top-container\"><div class=\"sk-text-repr-fallback\"><pre>GridSearchCV(cv=5, estimator=DecisionTreeClassifier(random_state=24), n_jobs=-1,\n",
       "             param_grid={&#x27;criterion&#x27;: [&#x27;gini&#x27;, &#x27;entropy&#x27;],\n",
       "                         &#x27;max_depth&#x27;: [None, 3, 5, 10],\n",
       "                         &#x27;min_samples_split&#x27;: [2, 5, 10]},\n",
       "             verbose=2)</pre><b>In a Jupyter environment, please rerun this cell to show the HTML representation or trust the notebook. <br />On GitHub, the HTML representation is unable to render, please try loading this page with nbviewer.org.</b></div><div class=\"sk-container\" hidden><div class=\"sk-item sk-dashed-wrapped\"><div class=\"sk-label-container\"><div class=\"sk-label sk-toggleable\"><input class=\"sk-toggleable__control sk-hidden--visually\" id=\"sk-estimator-id-1\" type=\"checkbox\" ><label for=\"sk-estimator-id-1\" class=\"sk-toggleable__label sk-toggleable__label-arrow\">GridSearchCV</label><div class=\"sk-toggleable__content\"><pre>GridSearchCV(cv=5, estimator=DecisionTreeClassifier(random_state=24), n_jobs=-1,\n",
       "             param_grid={&#x27;criterion&#x27;: [&#x27;gini&#x27;, &#x27;entropy&#x27;],\n",
       "                         &#x27;max_depth&#x27;: [None, 3, 5, 10],\n",
       "                         &#x27;min_samples_split&#x27;: [2, 5, 10]},\n",
       "             verbose=2)</pre></div></div></div><div class=\"sk-parallel\"><div class=\"sk-parallel-item\"><div class=\"sk-item\"><div class=\"sk-label-container\"><div class=\"sk-label sk-toggleable\"><input class=\"sk-toggleable__control sk-hidden--visually\" id=\"sk-estimator-id-2\" type=\"checkbox\" ><label for=\"sk-estimator-id-2\" class=\"sk-toggleable__label sk-toggleable__label-arrow\">estimator: DecisionTreeClassifier</label><div class=\"sk-toggleable__content\"><pre>DecisionTreeClassifier(random_state=24)</pre></div></div></div><div class=\"sk-serial\"><div class=\"sk-item\"><div class=\"sk-estimator sk-toggleable\"><input class=\"sk-toggleable__control sk-hidden--visually\" id=\"sk-estimator-id-3\" type=\"checkbox\" ><label for=\"sk-estimator-id-3\" class=\"sk-toggleable__label sk-toggleable__label-arrow\">DecisionTreeClassifier</label><div class=\"sk-toggleable__content\"><pre>DecisionTreeClassifier(random_state=24)</pre></div></div></div></div></div></div></div></div></div></div>"
      ],
      "text/plain": [
       "GridSearchCV(cv=5, estimator=DecisionTreeClassifier(random_state=24), n_jobs=-1,\n",
       "             param_grid={'criterion': ['gini', 'entropy'],\n",
       "                         'max_depth': [None, 3, 5, 10],\n",
       "                         'min_samples_split': [2, 5, 10]},\n",
       "             verbose=2)"
      ]
     },
     "execution_count": 48,
     "metadata": {},
     "output_type": "execute_result"
    }
   ],
   "source": [
    "# Define the parameters for the decision tree grid search\n",
    "dt_params = {\n",
    "    'criterion': ['gini', 'entropy'],\n",
    "    'max_depth': [None, 3, 5, 10],\n",
    "    'min_samples_split': [2, 5, 10]\n",
    "}\n",
    "\n",
    "# Perform grid search with cross-validation for decision tree classifier\n",
    "dt_grid = GridSearchCV(DecisionTreeClassifier(random_state=24), dt_params, cv=5, n_jobs=-1, verbose=2)\n",
    "dt_grid.fit(X_train_resampled, y_train_resampled)"
   ]
  },
  {
   "cell_type": "markdown",
   "id": "3537a8fc",
   "metadata": {},
   "source": [
    "<center>\n",
    "\n",
    "<h2 style=\"font-size: 16px; color: #FFF9ED; background-color: #641811;\">Best Parameters</h2>\n",
    "\n",
    "</center>"
   ]
  },
  {
   "cell_type": "code",
   "execution_count": 49,
   "id": "237a042b",
   "metadata": {},
   "outputs": [
    {
     "data": {
      "text/plain": [
       "{'criterion': 'entropy', 'max_depth': 10, 'min_samples_split': 2}"
      ]
     },
     "execution_count": 49,
     "metadata": {},
     "output_type": "execute_result"
    }
   ],
   "source": [
    "# Display the best parameters found by grid search for the decision tree classifier\n",
    "dt_grid.best_params_"
   ]
  },
  {
   "cell_type": "markdown",
   "id": "afc71cee",
   "metadata": {},
   "source": [
    "<center>\n",
    "\n",
    "<h2 style=\"font-size: 16px; color: #FFF9ED; background-color: #641811;\">Training</h2>\n",
    "\n",
    "</center>"
   ]
  },
  {
   "cell_type": "code",
   "execution_count": 50,
   "id": "bc46d66e",
   "metadata": {},
   "outputs": [],
   "source": [
    "# Create a decision tree classifier with the best parameters found by grid search\n",
    "dt2 = DecisionTreeClassifier(criterion='entropy', max_depth=None, min_samples_split=2, random_state=24)\n",
    "# Fit the classifier to the resampled training data\n",
    "dt2.fit(X_train_resampled, y_train_resampled)\n",
    "# Make predictions on the test data\n",
    "dt2_pred = dt2.predict(X_test)"
   ]
  },
  {
   "cell_type": "markdown",
   "id": "08ed0d9c",
   "metadata": {},
   "source": [
    "<center>\n",
    "\n",
    "<h2 style=\"font-size: 16px; color: #FFF9ED; background-color: #641811;\">Performance Metrics</h2>\n",
    "\n",
    "</center>"
   ]
  },
  {
   "cell_type": "code",
   "execution_count": 51,
   "id": "0bf32e30",
   "metadata": {},
   "outputs": [],
   "source": [
    "# Calculate evaluation metrics for the Decision Tree classifier\n",
    "dt2_metrics = calculate_metrics(y_test,dt2_pred)"
   ]
  },
  {
   "cell_type": "markdown",
   "id": "e63bf3eb",
   "metadata": {},
   "source": [
    "<center>\n",
    "\n",
    "<h2 style=\"font-size: 16px; color: #FFF9ED; background-color: #641811;\">Summary of Performance Metrics</h2>\n",
    "\n",
    "</center>"
   ]
  },
  {
   "cell_type": "code",
   "execution_count": 52,
   "id": "8e751252",
   "metadata": {},
   "outputs": [],
   "source": [
    "# Create a DataFrame to store the evaluation metrics for the Decision Tree Optimized classifier\n",
    "results_dt2 = create_results_df('results_dt2', 'DT OPTIMIZED', dt2_metrics)"
   ]
  },
  {
   "cell_type": "markdown",
   "id": "a5170bd7",
   "metadata": {},
   "source": [
    "<h3 id=\"randomForestOpt\" style=\"font-size: 18px; color: #00000\">8.5 | Random Forest Optimization</h3>"
   ]
  },
  {
   "cell_type": "markdown",
   "id": "234108c2",
   "metadata": {},
   "source": [
    "<center>\n",
    "\n",
    "<h2 style=\"font-size: 16px; color: #FFF9ED; background-color: #641811;\">Parameters</h2>\n",
    "\n",
    "</center>"
   ]
  },
  {
   "cell_type": "code",
   "execution_count": 53,
   "id": "35b8cfae",
   "metadata": {},
   "outputs": [
    {
     "name": "stdout",
     "output_type": "stream",
     "text": [
      "Fitting 10 folds for each of 540 candidates, totalling 5400 fits\n"
     ]
    },
    {
     "data": {
      "text/html": [
       "<style>#sk-container-id-2 {color: black;background-color: white;}#sk-container-id-2 pre{padding: 0;}#sk-container-id-2 div.sk-toggleable {background-color: white;}#sk-container-id-2 label.sk-toggleable__label {cursor: pointer;display: block;width: 100%;margin-bottom: 0;padding: 0.3em;box-sizing: border-box;text-align: center;}#sk-container-id-2 label.sk-toggleable__label-arrow:before {content: \"▸\";float: left;margin-right: 0.25em;color: #696969;}#sk-container-id-2 label.sk-toggleable__label-arrow:hover:before {color: black;}#sk-container-id-2 div.sk-estimator:hover label.sk-toggleable__label-arrow:before {color: black;}#sk-container-id-2 div.sk-toggleable__content {max-height: 0;max-width: 0;overflow: hidden;text-align: left;background-color: #f0f8ff;}#sk-container-id-2 div.sk-toggleable__content pre {margin: 0.2em;color: black;border-radius: 0.25em;background-color: #f0f8ff;}#sk-container-id-2 input.sk-toggleable__control:checked~div.sk-toggleable__content {max-height: 200px;max-width: 100%;overflow: auto;}#sk-container-id-2 input.sk-toggleable__control:checked~label.sk-toggleable__label-arrow:before {content: \"▾\";}#sk-container-id-2 div.sk-estimator input.sk-toggleable__control:checked~label.sk-toggleable__label {background-color: #d4ebff;}#sk-container-id-2 div.sk-label input.sk-toggleable__control:checked~label.sk-toggleable__label {background-color: #d4ebff;}#sk-container-id-2 input.sk-hidden--visually {border: 0;clip: rect(1px 1px 1px 1px);clip: rect(1px, 1px, 1px, 1px);height: 1px;margin: -1px;overflow: hidden;padding: 0;position: absolute;width: 1px;}#sk-container-id-2 div.sk-estimator {font-family: monospace;background-color: #f0f8ff;border: 1px dotted black;border-radius: 0.25em;box-sizing: border-box;margin-bottom: 0.5em;}#sk-container-id-2 div.sk-estimator:hover {background-color: #d4ebff;}#sk-container-id-2 div.sk-parallel-item::after {content: \"\";width: 100%;border-bottom: 1px solid gray;flex-grow: 1;}#sk-container-id-2 div.sk-label:hover label.sk-toggleable__label {background-color: #d4ebff;}#sk-container-id-2 div.sk-serial::before {content: \"\";position: absolute;border-left: 1px solid gray;box-sizing: border-box;top: 0;bottom: 0;left: 50%;z-index: 0;}#sk-container-id-2 div.sk-serial {display: flex;flex-direction: column;align-items: center;background-color: white;padding-right: 0.2em;padding-left: 0.2em;position: relative;}#sk-container-id-2 div.sk-item {position: relative;z-index: 1;}#sk-container-id-2 div.sk-parallel {display: flex;align-items: stretch;justify-content: center;background-color: white;position: relative;}#sk-container-id-2 div.sk-item::before, #sk-container-id-2 div.sk-parallel-item::before {content: \"\";position: absolute;border-left: 1px solid gray;box-sizing: border-box;top: 0;bottom: 0;left: 50%;z-index: -1;}#sk-container-id-2 div.sk-parallel-item {display: flex;flex-direction: column;z-index: 1;position: relative;background-color: white;}#sk-container-id-2 div.sk-parallel-item:first-child::after {align-self: flex-end;width: 50%;}#sk-container-id-2 div.sk-parallel-item:last-child::after {align-self: flex-start;width: 50%;}#sk-container-id-2 div.sk-parallel-item:only-child::after {width: 0;}#sk-container-id-2 div.sk-dashed-wrapped {border: 1px dashed gray;margin: 0 0.4em 0.5em 0.4em;box-sizing: border-box;padding-bottom: 0.4em;background-color: white;}#sk-container-id-2 div.sk-label label {font-family: monospace;font-weight: bold;display: inline-block;line-height: 1.2em;}#sk-container-id-2 div.sk-label-container {text-align: center;}#sk-container-id-2 div.sk-container {/* jupyter's `normalize.less` sets `[hidden] { display: none; }` but bootstrap.min.css set `[hidden] { display: none !important; }` so we also need the `!important` here to be able to override the default hidden behavior on the sphinx rendered scikit-learn.org. See: https://github.com/scikit-learn/scikit-learn/issues/21755 */display: inline-block !important;position: relative;}#sk-container-id-2 div.sk-text-repr-fallback {display: none;}</style><div id=\"sk-container-id-2\" class=\"sk-top-container\"><div class=\"sk-text-repr-fallback\"><pre>GridSearchCV(cv=10, estimator=RandomForestClassifier(random_state=24),\n",
       "             n_jobs=-1,\n",
       "             param_grid={&#x27;max_depth&#x27;: [None, 3, 5, 8, 10],\n",
       "                         &#x27;max_features&#x27;: [&#x27;sqrt&#x27;, &#x27;log2&#x27;, None, 3, 5, 10],\n",
       "                         &#x27;min_samples_split&#x27;: [2, 5, 10],\n",
       "                         &#x27;n_estimators&#x27;: [2, 5, 10, 50, 100, 200]},\n",
       "             verbose=1)</pre><b>In a Jupyter environment, please rerun this cell to show the HTML representation or trust the notebook. <br />On GitHub, the HTML representation is unable to render, please try loading this page with nbviewer.org.</b></div><div class=\"sk-container\" hidden><div class=\"sk-item sk-dashed-wrapped\"><div class=\"sk-label-container\"><div class=\"sk-label sk-toggleable\"><input class=\"sk-toggleable__control sk-hidden--visually\" id=\"sk-estimator-id-4\" type=\"checkbox\" ><label for=\"sk-estimator-id-4\" class=\"sk-toggleable__label sk-toggleable__label-arrow\">GridSearchCV</label><div class=\"sk-toggleable__content\"><pre>GridSearchCV(cv=10, estimator=RandomForestClassifier(random_state=24),\n",
       "             n_jobs=-1,\n",
       "             param_grid={&#x27;max_depth&#x27;: [None, 3, 5, 8, 10],\n",
       "                         &#x27;max_features&#x27;: [&#x27;sqrt&#x27;, &#x27;log2&#x27;, None, 3, 5, 10],\n",
       "                         &#x27;min_samples_split&#x27;: [2, 5, 10],\n",
       "                         &#x27;n_estimators&#x27;: [2, 5, 10, 50, 100, 200]},\n",
       "             verbose=1)</pre></div></div></div><div class=\"sk-parallel\"><div class=\"sk-parallel-item\"><div class=\"sk-item\"><div class=\"sk-label-container\"><div class=\"sk-label sk-toggleable\"><input class=\"sk-toggleable__control sk-hidden--visually\" id=\"sk-estimator-id-5\" type=\"checkbox\" ><label for=\"sk-estimator-id-5\" class=\"sk-toggleable__label sk-toggleable__label-arrow\">estimator: RandomForestClassifier</label><div class=\"sk-toggleable__content\"><pre>RandomForestClassifier(random_state=24)</pre></div></div></div><div class=\"sk-serial\"><div class=\"sk-item\"><div class=\"sk-estimator sk-toggleable\"><input class=\"sk-toggleable__control sk-hidden--visually\" id=\"sk-estimator-id-6\" type=\"checkbox\" ><label for=\"sk-estimator-id-6\" class=\"sk-toggleable__label sk-toggleable__label-arrow\">RandomForestClassifier</label><div class=\"sk-toggleable__content\"><pre>RandomForestClassifier(random_state=24)</pre></div></div></div></div></div></div></div></div></div></div>"
      ],
      "text/plain": [
       "GridSearchCV(cv=10, estimator=RandomForestClassifier(random_state=24),\n",
       "             n_jobs=-1,\n",
       "             param_grid={'max_depth': [None, 3, 5, 8, 10],\n",
       "                         'max_features': ['sqrt', 'log2', None, 3, 5, 10],\n",
       "                         'min_samples_split': [2, 5, 10],\n",
       "                         'n_estimators': [2, 5, 10, 50, 100, 200]},\n",
       "             verbose=1)"
      ]
     },
     "execution_count": 53,
     "metadata": {},
     "output_type": "execute_result"
    }
   ],
   "source": [
    "# Define the parameters for the random forest grid search\n",
    "rf_params = { 'max_depth': [None,3,5,8,10],\n",
    "              'max_features': ['sqrt', 'log2', None, 3, 5, 10],\n",
    "              'n_estimators': [2,5,10,50,100,200],\n",
    "              'min_samples_split': [2,5,10]\n",
    "}\n",
    "# Perform grid search with cross-validation for random forest classifier\n",
    "rf_grid = GridSearchCV(RandomForestClassifier(random_state=24), rf_params, cv=10, n_jobs=-1, verbose=1)\n",
    "rf_grid.fit(X_train_resampled, y_train_resampled)"
   ]
  },
  {
   "cell_type": "code",
   "execution_count": 54,
   "id": "09b7023c",
   "metadata": {},
   "outputs": [
    {
     "name": "stdout",
     "output_type": "stream",
     "text": [
      "Fitting 10 folds for each of 540 candidates, totalling 5400 fits\n"
     ]
    },
    {
     "data": {
      "text/html": [
       "<style>#sk-container-id-3 {color: black;background-color: white;}#sk-container-id-3 pre{padding: 0;}#sk-container-id-3 div.sk-toggleable {background-color: white;}#sk-container-id-3 label.sk-toggleable__label {cursor: pointer;display: block;width: 100%;margin-bottom: 0;padding: 0.3em;box-sizing: border-box;text-align: center;}#sk-container-id-3 label.sk-toggleable__label-arrow:before {content: \"▸\";float: left;margin-right: 0.25em;color: #696969;}#sk-container-id-3 label.sk-toggleable__label-arrow:hover:before {color: black;}#sk-container-id-3 div.sk-estimator:hover label.sk-toggleable__label-arrow:before {color: black;}#sk-container-id-3 div.sk-toggleable__content {max-height: 0;max-width: 0;overflow: hidden;text-align: left;background-color: #f0f8ff;}#sk-container-id-3 div.sk-toggleable__content pre {margin: 0.2em;color: black;border-radius: 0.25em;background-color: #f0f8ff;}#sk-container-id-3 input.sk-toggleable__control:checked~div.sk-toggleable__content {max-height: 200px;max-width: 100%;overflow: auto;}#sk-container-id-3 input.sk-toggleable__control:checked~label.sk-toggleable__label-arrow:before {content: \"▾\";}#sk-container-id-3 div.sk-estimator input.sk-toggleable__control:checked~label.sk-toggleable__label {background-color: #d4ebff;}#sk-container-id-3 div.sk-label input.sk-toggleable__control:checked~label.sk-toggleable__label {background-color: #d4ebff;}#sk-container-id-3 input.sk-hidden--visually {border: 0;clip: rect(1px 1px 1px 1px);clip: rect(1px, 1px, 1px, 1px);height: 1px;margin: -1px;overflow: hidden;padding: 0;position: absolute;width: 1px;}#sk-container-id-3 div.sk-estimator {font-family: monospace;background-color: #f0f8ff;border: 1px dotted black;border-radius: 0.25em;box-sizing: border-box;margin-bottom: 0.5em;}#sk-container-id-3 div.sk-estimator:hover {background-color: #d4ebff;}#sk-container-id-3 div.sk-parallel-item::after {content: \"\";width: 100%;border-bottom: 1px solid gray;flex-grow: 1;}#sk-container-id-3 div.sk-label:hover label.sk-toggleable__label {background-color: #d4ebff;}#sk-container-id-3 div.sk-serial::before {content: \"\";position: absolute;border-left: 1px solid gray;box-sizing: border-box;top: 0;bottom: 0;left: 50%;z-index: 0;}#sk-container-id-3 div.sk-serial {display: flex;flex-direction: column;align-items: center;background-color: white;padding-right: 0.2em;padding-left: 0.2em;position: relative;}#sk-container-id-3 div.sk-item {position: relative;z-index: 1;}#sk-container-id-3 div.sk-parallel {display: flex;align-items: stretch;justify-content: center;background-color: white;position: relative;}#sk-container-id-3 div.sk-item::before, #sk-container-id-3 div.sk-parallel-item::before {content: \"\";position: absolute;border-left: 1px solid gray;box-sizing: border-box;top: 0;bottom: 0;left: 50%;z-index: -1;}#sk-container-id-3 div.sk-parallel-item {display: flex;flex-direction: column;z-index: 1;position: relative;background-color: white;}#sk-container-id-3 div.sk-parallel-item:first-child::after {align-self: flex-end;width: 50%;}#sk-container-id-3 div.sk-parallel-item:last-child::after {align-self: flex-start;width: 50%;}#sk-container-id-3 div.sk-parallel-item:only-child::after {width: 0;}#sk-container-id-3 div.sk-dashed-wrapped {border: 1px dashed gray;margin: 0 0.4em 0.5em 0.4em;box-sizing: border-box;padding-bottom: 0.4em;background-color: white;}#sk-container-id-3 div.sk-label label {font-family: monospace;font-weight: bold;display: inline-block;line-height: 1.2em;}#sk-container-id-3 div.sk-label-container {text-align: center;}#sk-container-id-3 div.sk-container {/* jupyter's `normalize.less` sets `[hidden] { display: none; }` but bootstrap.min.css set `[hidden] { display: none !important; }` so we also need the `!important` here to be able to override the default hidden behavior on the sphinx rendered scikit-learn.org. See: https://github.com/scikit-learn/scikit-learn/issues/21755 */display: inline-block !important;position: relative;}#sk-container-id-3 div.sk-text-repr-fallback {display: none;}</style><div id=\"sk-container-id-3\" class=\"sk-top-container\"><div class=\"sk-text-repr-fallback\"><pre>GridSearchCV(cv=10, estimator=RandomForestClassifier(random_state=24),\n",
       "             n_jobs=-1,\n",
       "             param_grid={&#x27;max_depth&#x27;: [None, 3, 5, 8, 10],\n",
       "                         &#x27;max_features&#x27;: [&#x27;sqrt&#x27;, &#x27;log2&#x27;, None, 3, 5, 10],\n",
       "                         &#x27;min_samples_split&#x27;: [2, 5, 10],\n",
       "                         &#x27;n_estimators&#x27;: [2, 5, 10, 50, 100, 200]},\n",
       "             verbose=1)</pre><b>In a Jupyter environment, please rerun this cell to show the HTML representation or trust the notebook. <br />On GitHub, the HTML representation is unable to render, please try loading this page with nbviewer.org.</b></div><div class=\"sk-container\" hidden><div class=\"sk-item sk-dashed-wrapped\"><div class=\"sk-label-container\"><div class=\"sk-label sk-toggleable\"><input class=\"sk-toggleable__control sk-hidden--visually\" id=\"sk-estimator-id-7\" type=\"checkbox\" ><label for=\"sk-estimator-id-7\" class=\"sk-toggleable__label sk-toggleable__label-arrow\">GridSearchCV</label><div class=\"sk-toggleable__content\"><pre>GridSearchCV(cv=10, estimator=RandomForestClassifier(random_state=24),\n",
       "             n_jobs=-1,\n",
       "             param_grid={&#x27;max_depth&#x27;: [None, 3, 5, 8, 10],\n",
       "                         &#x27;max_features&#x27;: [&#x27;sqrt&#x27;, &#x27;log2&#x27;, None, 3, 5, 10],\n",
       "                         &#x27;min_samples_split&#x27;: [2, 5, 10],\n",
       "                         &#x27;n_estimators&#x27;: [2, 5, 10, 50, 100, 200]},\n",
       "             verbose=1)</pre></div></div></div><div class=\"sk-parallel\"><div class=\"sk-parallel-item\"><div class=\"sk-item\"><div class=\"sk-label-container\"><div class=\"sk-label sk-toggleable\"><input class=\"sk-toggleable__control sk-hidden--visually\" id=\"sk-estimator-id-8\" type=\"checkbox\" ><label for=\"sk-estimator-id-8\" class=\"sk-toggleable__label sk-toggleable__label-arrow\">estimator: RandomForestClassifier</label><div class=\"sk-toggleable__content\"><pre>RandomForestClassifier(random_state=24)</pre></div></div></div><div class=\"sk-serial\"><div class=\"sk-item\"><div class=\"sk-estimator sk-toggleable\"><input class=\"sk-toggleable__control sk-hidden--visually\" id=\"sk-estimator-id-9\" type=\"checkbox\" ><label for=\"sk-estimator-id-9\" class=\"sk-toggleable__label sk-toggleable__label-arrow\">RandomForestClassifier</label><div class=\"sk-toggleable__content\"><pre>RandomForestClassifier(random_state=24)</pre></div></div></div></div></div></div></div></div></div></div>"
      ],
      "text/plain": [
       "GridSearchCV(cv=10, estimator=RandomForestClassifier(random_state=24),\n",
       "             n_jobs=-1,\n",
       "             param_grid={'max_depth': [None, 3, 5, 8, 10],\n",
       "                         'max_features': ['sqrt', 'log2', None, 3, 5, 10],\n",
       "                         'min_samples_split': [2, 5, 10],\n",
       "                         'n_estimators': [2, 5, 10, 50, 100, 200]},\n",
       "             verbose=1)"
      ]
     },
     "execution_count": 54,
     "metadata": {},
     "output_type": "execute_result"
    }
   ],
   "source": [
    "# Define the parameters for the random forest grid search\n",
    "rf_dropped_params = { 'max_depth': [None,3,5,8,10],\n",
    "              'max_features': ['sqrt', 'log2', None, 3, 5, 10],\n",
    "              'n_estimators': [2,5,10,50,100,200],\n",
    "              'min_samples_split': [2,5,10]\n",
    "}\n",
    "# Perform grid search with cross-validation for random forest classifier\n",
    "rf_dropped_grid = GridSearchCV(RandomForestClassifier(random_state=24), rf_dropped_params, cv=10, n_jobs=-1, verbose=1)\n",
    "rf_dropped_grid.fit(X_train_dropped_resampled, y_train_dropped_resampled)"
   ]
  },
  {
   "cell_type": "code",
   "execution_count": 55,
   "id": "5c5f7394",
   "metadata": {},
   "outputs": [
    {
     "name": "stdout",
     "output_type": "stream",
     "text": [
      "Fitting 10 folds for each of 540 candidates, totalling 5400 fits\n"
     ]
    },
    {
     "data": {
      "text/html": [
       "<style>#sk-container-id-4 {color: black;background-color: white;}#sk-container-id-4 pre{padding: 0;}#sk-container-id-4 div.sk-toggleable {background-color: white;}#sk-container-id-4 label.sk-toggleable__label {cursor: pointer;display: block;width: 100%;margin-bottom: 0;padding: 0.3em;box-sizing: border-box;text-align: center;}#sk-container-id-4 label.sk-toggleable__label-arrow:before {content: \"▸\";float: left;margin-right: 0.25em;color: #696969;}#sk-container-id-4 label.sk-toggleable__label-arrow:hover:before {color: black;}#sk-container-id-4 div.sk-estimator:hover label.sk-toggleable__label-arrow:before {color: black;}#sk-container-id-4 div.sk-toggleable__content {max-height: 0;max-width: 0;overflow: hidden;text-align: left;background-color: #f0f8ff;}#sk-container-id-4 div.sk-toggleable__content pre {margin: 0.2em;color: black;border-radius: 0.25em;background-color: #f0f8ff;}#sk-container-id-4 input.sk-toggleable__control:checked~div.sk-toggleable__content {max-height: 200px;max-width: 100%;overflow: auto;}#sk-container-id-4 input.sk-toggleable__control:checked~label.sk-toggleable__label-arrow:before {content: \"▾\";}#sk-container-id-4 div.sk-estimator input.sk-toggleable__control:checked~label.sk-toggleable__label {background-color: #d4ebff;}#sk-container-id-4 div.sk-label input.sk-toggleable__control:checked~label.sk-toggleable__label {background-color: #d4ebff;}#sk-container-id-4 input.sk-hidden--visually {border: 0;clip: rect(1px 1px 1px 1px);clip: rect(1px, 1px, 1px, 1px);height: 1px;margin: -1px;overflow: hidden;padding: 0;position: absolute;width: 1px;}#sk-container-id-4 div.sk-estimator {font-family: monospace;background-color: #f0f8ff;border: 1px dotted black;border-radius: 0.25em;box-sizing: border-box;margin-bottom: 0.5em;}#sk-container-id-4 div.sk-estimator:hover {background-color: #d4ebff;}#sk-container-id-4 div.sk-parallel-item::after {content: \"\";width: 100%;border-bottom: 1px solid gray;flex-grow: 1;}#sk-container-id-4 div.sk-label:hover label.sk-toggleable__label {background-color: #d4ebff;}#sk-container-id-4 div.sk-serial::before {content: \"\";position: absolute;border-left: 1px solid gray;box-sizing: border-box;top: 0;bottom: 0;left: 50%;z-index: 0;}#sk-container-id-4 div.sk-serial {display: flex;flex-direction: column;align-items: center;background-color: white;padding-right: 0.2em;padding-left: 0.2em;position: relative;}#sk-container-id-4 div.sk-item {position: relative;z-index: 1;}#sk-container-id-4 div.sk-parallel {display: flex;align-items: stretch;justify-content: center;background-color: white;position: relative;}#sk-container-id-4 div.sk-item::before, #sk-container-id-4 div.sk-parallel-item::before {content: \"\";position: absolute;border-left: 1px solid gray;box-sizing: border-box;top: 0;bottom: 0;left: 50%;z-index: -1;}#sk-container-id-4 div.sk-parallel-item {display: flex;flex-direction: column;z-index: 1;position: relative;background-color: white;}#sk-container-id-4 div.sk-parallel-item:first-child::after {align-self: flex-end;width: 50%;}#sk-container-id-4 div.sk-parallel-item:last-child::after {align-self: flex-start;width: 50%;}#sk-container-id-4 div.sk-parallel-item:only-child::after {width: 0;}#sk-container-id-4 div.sk-dashed-wrapped {border: 1px dashed gray;margin: 0 0.4em 0.5em 0.4em;box-sizing: border-box;padding-bottom: 0.4em;background-color: white;}#sk-container-id-4 div.sk-label label {font-family: monospace;font-weight: bold;display: inline-block;line-height: 1.2em;}#sk-container-id-4 div.sk-label-container {text-align: center;}#sk-container-id-4 div.sk-container {/* jupyter's `normalize.less` sets `[hidden] { display: none; }` but bootstrap.min.css set `[hidden] { display: none !important; }` so we also need the `!important` here to be able to override the default hidden behavior on the sphinx rendered scikit-learn.org. See: https://github.com/scikit-learn/scikit-learn/issues/21755 */display: inline-block !important;position: relative;}#sk-container-id-4 div.sk-text-repr-fallback {display: none;}</style><div id=\"sk-container-id-4\" class=\"sk-top-container\"><div class=\"sk-text-repr-fallback\"><pre>GridSearchCV(cv=10, estimator=RandomForestClassifier(random_state=24),\n",
       "             n_jobs=-1,\n",
       "             param_grid={&#x27;max_depth&#x27;: [None, 3, 5, 8, 10],\n",
       "                         &#x27;max_features&#x27;: [&#x27;sqrt&#x27;, &#x27;log2&#x27;, None, 3, 5, 10],\n",
       "                         &#x27;min_samples_split&#x27;: [2, 5, 10],\n",
       "                         &#x27;n_estimators&#x27;: [2, 5, 10, 50, 100, 200]},\n",
       "             verbose=1)</pre><b>In a Jupyter environment, please rerun this cell to show the HTML representation or trust the notebook. <br />On GitHub, the HTML representation is unable to render, please try loading this page with nbviewer.org.</b></div><div class=\"sk-container\" hidden><div class=\"sk-item sk-dashed-wrapped\"><div class=\"sk-label-container\"><div class=\"sk-label sk-toggleable\"><input class=\"sk-toggleable__control sk-hidden--visually\" id=\"sk-estimator-id-10\" type=\"checkbox\" ><label for=\"sk-estimator-id-10\" class=\"sk-toggleable__label sk-toggleable__label-arrow\">GridSearchCV</label><div class=\"sk-toggleable__content\"><pre>GridSearchCV(cv=10, estimator=RandomForestClassifier(random_state=24),\n",
       "             n_jobs=-1,\n",
       "             param_grid={&#x27;max_depth&#x27;: [None, 3, 5, 8, 10],\n",
       "                         &#x27;max_features&#x27;: [&#x27;sqrt&#x27;, &#x27;log2&#x27;, None, 3, 5, 10],\n",
       "                         &#x27;min_samples_split&#x27;: [2, 5, 10],\n",
       "                         &#x27;n_estimators&#x27;: [2, 5, 10, 50, 100, 200]},\n",
       "             verbose=1)</pre></div></div></div><div class=\"sk-parallel\"><div class=\"sk-parallel-item\"><div class=\"sk-item\"><div class=\"sk-label-container\"><div class=\"sk-label sk-toggleable\"><input class=\"sk-toggleable__control sk-hidden--visually\" id=\"sk-estimator-id-11\" type=\"checkbox\" ><label for=\"sk-estimator-id-11\" class=\"sk-toggleable__label sk-toggleable__label-arrow\">estimator: RandomForestClassifier</label><div class=\"sk-toggleable__content\"><pre>RandomForestClassifier(random_state=24)</pre></div></div></div><div class=\"sk-serial\"><div class=\"sk-item\"><div class=\"sk-estimator sk-toggleable\"><input class=\"sk-toggleable__control sk-hidden--visually\" id=\"sk-estimator-id-12\" type=\"checkbox\" ><label for=\"sk-estimator-id-12\" class=\"sk-toggleable__label sk-toggleable__label-arrow\">RandomForestClassifier</label><div class=\"sk-toggleable__content\"><pre>RandomForestClassifier(random_state=24)</pre></div></div></div></div></div></div></div></div></div></div>"
      ],
      "text/plain": [
       "GridSearchCV(cv=10, estimator=RandomForestClassifier(random_state=24),\n",
       "             n_jobs=-1,\n",
       "             param_grid={'max_depth': [None, 3, 5, 8, 10],\n",
       "                         'max_features': ['sqrt', 'log2', None, 3, 5, 10],\n",
       "                         'min_samples_split': [2, 5, 10],\n",
       "                         'n_estimators': [2, 5, 10, 50, 100, 200]},\n",
       "             verbose=1)"
      ]
     },
     "execution_count": 55,
     "metadata": {},
     "output_type": "execute_result"
    }
   ],
   "source": [
    "# Define the parameters for the random forest grid search\n",
    "rf_dropped_outliers_params = { 'max_depth': [None,3,5,8,10],\n",
    "              'max_features': ['sqrt', 'log2', None, 3, 5, 10],\n",
    "              'n_estimators': [2,5,10,50,100,200],\n",
    "              'min_samples_split': [2,5,10]\n",
    "}\n",
    "# Perform grid search with cross-validation for random forest classifier\n",
    "rf_dropped_outliers_grid = GridSearchCV(RandomForestClassifier(random_state=24), rf_dropped_outliers_params, cv=10, n_jobs=-1, verbose=1)\n",
    "rf_dropped_outliers_grid.fit(X_train_dropped_outliers_resampled, y_train_dropped_outliers_resampled)"
   ]
  },
  {
   "cell_type": "markdown",
   "id": "421d37f4",
   "metadata": {},
   "source": [
    "<center>\n",
    "\n",
    "<h2 style=\"font-size: 16px; color: #FFF9ED; background-color: #641811;\">Best Parameters</h2>\n",
    "\n",
    "</center>"
   ]
  },
  {
   "cell_type": "code",
   "execution_count": 56,
   "id": "457d6916",
   "metadata": {},
   "outputs": [
    {
     "data": {
      "text/plain": [
       "{'max_depth': None,\n",
       " 'max_features': 'sqrt',\n",
       " 'min_samples_split': 10,\n",
       " 'n_estimators': 100}"
      ]
     },
     "execution_count": 56,
     "metadata": {},
     "output_type": "execute_result"
    }
   ],
   "source": [
    "# Display the best parameters found by grid search for the random forest classifier\n",
    "rf_grid.best_params_"
   ]
  },
  {
   "cell_type": "code",
   "execution_count": 57,
   "id": "b089a81a",
   "metadata": {},
   "outputs": [
    {
     "data": {
      "text/plain": [
       "{'max_depth': None,\n",
       " 'max_features': 'sqrt',\n",
       " 'min_samples_split': 2,\n",
       " 'n_estimators': 200}"
      ]
     },
     "execution_count": 57,
     "metadata": {},
     "output_type": "execute_result"
    }
   ],
   "source": [
    "# Display the best parameters found by grid search for the random forest classifier\n",
    "rf_dropped_grid.best_params_"
   ]
  },
  {
   "cell_type": "code",
   "execution_count": 58,
   "id": "e0bd3d8d",
   "metadata": {},
   "outputs": [
    {
     "data": {
      "text/plain": [
       "{'max_depth': None,\n",
       " 'max_features': 5,\n",
       " 'min_samples_split': 5,\n",
       " 'n_estimators': 200}"
      ]
     },
     "execution_count": 58,
     "metadata": {},
     "output_type": "execute_result"
    }
   ],
   "source": [
    "# Display the best parameters found by grid search for the random forest classifier\n",
    "rf_dropped_outliers_grid.best_params_"
   ]
  },
  {
   "cell_type": "markdown",
   "id": "29d0d596",
   "metadata": {},
   "source": [
    "<center>\n",
    "\n",
    "<h2 style=\"font-size: 16px; color: #FFF9ED; background-color: #641811;\">Training</h2>\n",
    "\n",
    "</center>"
   ]
  },
  {
   "cell_type": "code",
   "execution_count": 59,
   "id": "aacfd103",
   "metadata": {},
   "outputs": [],
   "source": [
    "# Create a random forest classifier with the best parameters found by grid search\n",
    "rf2=RandomForestClassifier(\n",
    "    n_estimators=rf_grid.best_params_['n_estimators'],\n",
    "    max_depth = rf_grid.best_params_['max_depth'],\n",
    "    max_features = rf_grid.best_params_['max_features'],\n",
    "    min_samples_split = rf_grid.best_params_['min_samples_split'],\n",
    ")\n",
    "# Fit the classifier to the resampled training data\n",
    "rf2.fit(X_train_resampled, y_train_resampled)\n",
    "# Make predictions on the test data\n",
    "rf2_pred = rf2.predict(X_test)\n",
    "\n",
    "# Create a random forest classifier with the best parameters found by grid search\n",
    "rf2_dropped=RandomForestClassifier(\n",
    "    n_estimators = rf_dropped_grid.best_params_['n_estimators'],\n",
    "    max_depth = rf_dropped_grid.best_params_['max_depth'],\n",
    "    max_features = rf_dropped_grid.best_params_['max_features'],\n",
    "    min_samples_split = rf_dropped_grid.best_params_['min_samples_split'],\n",
    ")\n",
    "# Fit the classifier to the resampled training data\n",
    "rf2_dropped.fit(X_train_dropped_resampled, y_train_dropped_resampled)\n",
    "# Make predictions on the test data\n",
    "rf2_dropped_pred = rf2_dropped.predict(X_test)\n",
    "\n",
    "# Create a random forest classifier with the best parameters found by grid search\n",
    "rf2_dropped_outliers=RandomForestClassifier(\n",
    "    n_estimators = rf_dropped_outliers_grid.best_params_['n_estimators'],\n",
    "    max_depth = rf_dropped_outliers_grid.best_params_['max_depth'],\n",
    "    max_features = rf_dropped_outliers_grid.best_params_['max_features'],\n",
    "    min_samples_split = rf_dropped_outliers_grid.best_params_['min_samples_split'],\n",
    ")\n",
    "# Fit the classifier to the resampled training data\n",
    "rf2_dropped_outliers.fit(X_train_dropped_outliers_resampled, y_train_dropped_outliers_resampled)\n",
    "# Make predictions on the test data\n",
    "rf2_dropped_outliers_pred = rf2_dropped_outliers.predict(X_test)"
   ]
  },
  {
   "cell_type": "markdown",
   "id": "cfa7f59c",
   "metadata": {},
   "source": [
    "<center>\n",
    "\n",
    "<h2 style=\"font-size: 16px; color: #FFF9ED; background-color: #641811;\">Performance Metrics</h2>\n",
    "\n",
    "</center>"
   ]
  },
  {
   "cell_type": "code",
   "execution_count": 60,
   "id": "c9588950",
   "metadata": {},
   "outputs": [],
   "source": [
    "# Calculate evaluation metrics for the Random Forest classifier\n",
    "rf2_metrics = calculate_metrics(y_test,rf2_pred)\n",
    "# Calculate evaluation metrics for the Random Forest classifier\n",
    "rf2_dropped_metrics = calculate_metrics(y_test,rf2_dropped_pred)\n",
    "# Calculate evaluation metrics for the Random Forest classifier\n",
    "rf2_dropped_outliers_metrics = calculate_metrics(y_test,rf2_dropped_outliers_pred)"
   ]
  },
  {
   "cell_type": "markdown",
   "id": "06060350",
   "metadata": {},
   "source": [
    "<center>\n",
    "\n",
    "<h2 style=\"font-size: 16px; color: #FFF9ED; background-color: #641811;\">Summary of Performance Metrics</h2>\n",
    "\n",
    "</center>"
   ]
  },
  {
   "cell_type": "code",
   "execution_count": 61,
   "id": "54865a2a",
   "metadata": {},
   "outputs": [],
   "source": [
    "# Create a DataFrame to store the evaluation metrics for the Random Forest Optimized classifier\n",
    "results_rf2 = create_results_df('results_rf2', 'RF OPTIMIZED', rf2_metrics)\n",
    "# Create a DataFrame to store the evaluation metrics for the Random Forest Optimized classifier\n",
    "results_rf2_dropped = create_results_df('results_rf2_dropped', 'RF Without Null Values OPTIMIZED ', rf2_dropped_metrics)\n",
    "# Create a DataFrame to store the evaluation metrics for the Random Forest Optimized classifier\n",
    "results_rf2_dropped_outliers = create_results_df('rresults_rf2_dropped_outliers', 'RF Without Outliers OPTIMIZED', rf2_dropped_outliers_metrics)"
   ]
  },
  {
   "cell_type": "markdown",
   "id": "1c497477",
   "metadata": {},
   "source": [
    "<h3 id=\"svcOpt\" style=\"font-size: 18px; color: #00000\">8.6 | Support Vector Classifier Optimization</h3>"
   ]
  },
  {
   "cell_type": "markdown",
   "id": "879f9397",
   "metadata": {},
   "source": [
    "<center>\n",
    "\n",
    "<h2 style=\"font-size: 16px; color: #FFF9ED; background-color: #641811;\">Parameters</h2>\n",
    "\n",
    "</center>"
   ]
  },
  {
   "cell_type": "code",
   "execution_count": 62,
   "id": "d4441b5d",
   "metadata": {},
   "outputs": [
    {
     "name": "stdout",
     "output_type": "stream",
     "text": [
      "Fitting 5 folds for each of 64 candidates, totalling 320 fits\n"
     ]
    },
    {
     "data": {
      "text/html": [
       "<style>#sk-container-id-5 {color: black;background-color: white;}#sk-container-id-5 pre{padding: 0;}#sk-container-id-5 div.sk-toggleable {background-color: white;}#sk-container-id-5 label.sk-toggleable__label {cursor: pointer;display: block;width: 100%;margin-bottom: 0;padding: 0.3em;box-sizing: border-box;text-align: center;}#sk-container-id-5 label.sk-toggleable__label-arrow:before {content: \"▸\";float: left;margin-right: 0.25em;color: #696969;}#sk-container-id-5 label.sk-toggleable__label-arrow:hover:before {color: black;}#sk-container-id-5 div.sk-estimator:hover label.sk-toggleable__label-arrow:before {color: black;}#sk-container-id-5 div.sk-toggleable__content {max-height: 0;max-width: 0;overflow: hidden;text-align: left;background-color: #f0f8ff;}#sk-container-id-5 div.sk-toggleable__content pre {margin: 0.2em;color: black;border-radius: 0.25em;background-color: #f0f8ff;}#sk-container-id-5 input.sk-toggleable__control:checked~div.sk-toggleable__content {max-height: 200px;max-width: 100%;overflow: auto;}#sk-container-id-5 input.sk-toggleable__control:checked~label.sk-toggleable__label-arrow:before {content: \"▾\";}#sk-container-id-5 div.sk-estimator input.sk-toggleable__control:checked~label.sk-toggleable__label {background-color: #d4ebff;}#sk-container-id-5 div.sk-label input.sk-toggleable__control:checked~label.sk-toggleable__label {background-color: #d4ebff;}#sk-container-id-5 input.sk-hidden--visually {border: 0;clip: rect(1px 1px 1px 1px);clip: rect(1px, 1px, 1px, 1px);height: 1px;margin: -1px;overflow: hidden;padding: 0;position: absolute;width: 1px;}#sk-container-id-5 div.sk-estimator {font-family: monospace;background-color: #f0f8ff;border: 1px dotted black;border-radius: 0.25em;box-sizing: border-box;margin-bottom: 0.5em;}#sk-container-id-5 div.sk-estimator:hover {background-color: #d4ebff;}#sk-container-id-5 div.sk-parallel-item::after {content: \"\";width: 100%;border-bottom: 1px solid gray;flex-grow: 1;}#sk-container-id-5 div.sk-label:hover label.sk-toggleable__label {background-color: #d4ebff;}#sk-container-id-5 div.sk-serial::before {content: \"\";position: absolute;border-left: 1px solid gray;box-sizing: border-box;top: 0;bottom: 0;left: 50%;z-index: 0;}#sk-container-id-5 div.sk-serial {display: flex;flex-direction: column;align-items: center;background-color: white;padding-right: 0.2em;padding-left: 0.2em;position: relative;}#sk-container-id-5 div.sk-item {position: relative;z-index: 1;}#sk-container-id-5 div.sk-parallel {display: flex;align-items: stretch;justify-content: center;background-color: white;position: relative;}#sk-container-id-5 div.sk-item::before, #sk-container-id-5 div.sk-parallel-item::before {content: \"\";position: absolute;border-left: 1px solid gray;box-sizing: border-box;top: 0;bottom: 0;left: 50%;z-index: -1;}#sk-container-id-5 div.sk-parallel-item {display: flex;flex-direction: column;z-index: 1;position: relative;background-color: white;}#sk-container-id-5 div.sk-parallel-item:first-child::after {align-self: flex-end;width: 50%;}#sk-container-id-5 div.sk-parallel-item:last-child::after {align-self: flex-start;width: 50%;}#sk-container-id-5 div.sk-parallel-item:only-child::after {width: 0;}#sk-container-id-5 div.sk-dashed-wrapped {border: 1px dashed gray;margin: 0 0.4em 0.5em 0.4em;box-sizing: border-box;padding-bottom: 0.4em;background-color: white;}#sk-container-id-5 div.sk-label label {font-family: monospace;font-weight: bold;display: inline-block;line-height: 1.2em;}#sk-container-id-5 div.sk-label-container {text-align: center;}#sk-container-id-5 div.sk-container {/* jupyter's `normalize.less` sets `[hidden] { display: none; }` but bootstrap.min.css set `[hidden] { display: none !important; }` so we also need the `!important` here to be able to override the default hidden behavior on the sphinx rendered scikit-learn.org. See: https://github.com/scikit-learn/scikit-learn/issues/21755 */display: inline-block !important;position: relative;}#sk-container-id-5 div.sk-text-repr-fallback {display: none;}</style><div id=\"sk-container-id-5\" class=\"sk-top-container\"><div class=\"sk-text-repr-fallback\"><pre>GridSearchCV(cv=5, estimator=SVC(random_state=24), n_jobs=-1,\n",
       "             param_grid={&#x27;C&#x27;: [0.1, 1, 10, 100], &#x27;gamma&#x27;: [1, 0.1, 0.01, 0.001],\n",
       "                         &#x27;kernel&#x27;: [&#x27;rbf&#x27;, &#x27;linear&#x27;, &#x27;poly&#x27;, &#x27;sigmoid&#x27;]},\n",
       "             verbose=1)</pre><b>In a Jupyter environment, please rerun this cell to show the HTML representation or trust the notebook. <br />On GitHub, the HTML representation is unable to render, please try loading this page with nbviewer.org.</b></div><div class=\"sk-container\" hidden><div class=\"sk-item sk-dashed-wrapped\"><div class=\"sk-label-container\"><div class=\"sk-label sk-toggleable\"><input class=\"sk-toggleable__control sk-hidden--visually\" id=\"sk-estimator-id-13\" type=\"checkbox\" ><label for=\"sk-estimator-id-13\" class=\"sk-toggleable__label sk-toggleable__label-arrow\">GridSearchCV</label><div class=\"sk-toggleable__content\"><pre>GridSearchCV(cv=5, estimator=SVC(random_state=24), n_jobs=-1,\n",
       "             param_grid={&#x27;C&#x27;: [0.1, 1, 10, 100], &#x27;gamma&#x27;: [1, 0.1, 0.01, 0.001],\n",
       "                         &#x27;kernel&#x27;: [&#x27;rbf&#x27;, &#x27;linear&#x27;, &#x27;poly&#x27;, &#x27;sigmoid&#x27;]},\n",
       "             verbose=1)</pre></div></div></div><div class=\"sk-parallel\"><div class=\"sk-parallel-item\"><div class=\"sk-item\"><div class=\"sk-label-container\"><div class=\"sk-label sk-toggleable\"><input class=\"sk-toggleable__control sk-hidden--visually\" id=\"sk-estimator-id-14\" type=\"checkbox\" ><label for=\"sk-estimator-id-14\" class=\"sk-toggleable__label sk-toggleable__label-arrow\">estimator: SVC</label><div class=\"sk-toggleable__content\"><pre>SVC(random_state=24)</pre></div></div></div><div class=\"sk-serial\"><div class=\"sk-item\"><div class=\"sk-estimator sk-toggleable\"><input class=\"sk-toggleable__control sk-hidden--visually\" id=\"sk-estimator-id-15\" type=\"checkbox\" ><label for=\"sk-estimator-id-15\" class=\"sk-toggleable__label sk-toggleable__label-arrow\">SVC</label><div class=\"sk-toggleable__content\"><pre>SVC(random_state=24)</pre></div></div></div></div></div></div></div></div></div></div>"
      ],
      "text/plain": [
       "GridSearchCV(cv=5, estimator=SVC(random_state=24), n_jobs=-1,\n",
       "             param_grid={'C': [0.1, 1, 10, 100], 'gamma': [1, 0.1, 0.01, 0.001],\n",
       "                         'kernel': ['rbf', 'linear', 'poly', 'sigmoid']},\n",
       "             verbose=1)"
      ]
     },
     "execution_count": 62,
     "metadata": {},
     "output_type": "execute_result"
    }
   ],
   "source": [
    "# Define the parameters for the support vector classifier grid search\n",
    "svc_params = {\n",
    "    'C': [0.1, 1, 10, 100],\n",
    "    'gamma': [1, 0.1, 0.01, 0.001],\n",
    "    'kernel': ['rbf', 'linear', 'poly', 'sigmoid']\n",
    "}\n",
    "# Create a svc with the best parameters found by grid search\n",
    "svc_grid = GridSearchCV(SVC(random_state=24), svc_params, cv=5, n_jobs=-1, verbose=1)\n",
    "svc_grid.fit(X_train_resampled, y_train_resampled)"
   ]
  },
  {
   "cell_type": "markdown",
   "id": "49603934",
   "metadata": {},
   "source": [
    "<center>\n",
    "\n",
    "<h2 style=\"font-size: 16px; color: #FFF9ED; background-color: #641811;\">Best Parameters</h2>\n",
    "\n",
    "</center>"
   ]
  },
  {
   "cell_type": "code",
   "execution_count": 63,
   "id": "e42670ac",
   "metadata": {},
   "outputs": [
    {
     "data": {
      "text/plain": [
       "{'C': 10, 'gamma': 0.1, 'kernel': 'rbf'}"
      ]
     },
     "execution_count": 63,
     "metadata": {},
     "output_type": "execute_result"
    }
   ],
   "source": [
    "# Display the best parameters found by grid search for the svc\n",
    "svc_grid.best_params_"
   ]
  },
  {
   "cell_type": "markdown",
   "id": "1346d4fd",
   "metadata": {},
   "source": [
    "<center>\n",
    "\n",
    "<h2 style=\"font-size: 16px; color: #FFF9ED; background-color: #641811;\">Training</h2>\n",
    "\n",
    "</center>"
   ]
  },
  {
   "cell_type": "code",
   "execution_count": 64,
   "id": "3531badb",
   "metadata": {
    "scrolled": true
   },
   "outputs": [],
   "source": [
    "# Create a svc with the best parameters found by grid search\n",
    "svc2 = SVC(C=10, gamma=1, kernel='rbf', random_state=24)\n",
    "# Fit the classifier to the resampled training data\n",
    "svc2.fit(X_train_resampled, y_train_resampled)\n",
    "# Make predictions on the test data\n",
    "svc2_pred = svc2.predict(X_test)"
   ]
  },
  {
   "cell_type": "markdown",
   "id": "fa80b730",
   "metadata": {},
   "source": [
    "<center>\n",
    "\n",
    "<h2 style=\"font-size: 16px; color: #FFF9ED; background-color: #641811;\">Performance Metrics</h2>\n",
    "\n",
    "</center>"
   ]
  },
  {
   "cell_type": "code",
   "execution_count": 65,
   "id": "0091cd9e",
   "metadata": {},
   "outputs": [],
   "source": [
    "# Calculate evaluation metrics for the SVC\n",
    "svc2_metrics = calculate_metrics(y_test,svc2_pred)"
   ]
  },
  {
   "cell_type": "markdown",
   "id": "0b6afb12",
   "metadata": {},
   "source": [
    "<center>\n",
    "\n",
    "<h2 style=\"font-size: 16px; color: #FFF9ED; background-color: #641811;\">Summary of Performance Metrics</h2>\n",
    "\n",
    "</center>"
   ]
  },
  {
   "cell_type": "code",
   "execution_count": 66,
   "id": "65aa5064",
   "metadata": {},
   "outputs": [],
   "source": [
    "# Create a DataFrame to store the evaluation metrics for the SVC Optimized\n",
    "results_svc2 = create_results_df('results_svc2', 'SVC OPTIMIZED', svc2_metrics)"
   ]
  },
  {
   "cell_type": "markdown",
   "id": "c35afc05",
   "metadata": {},
   "source": [
    "<h3 id=\"finalResultsClassification\" style=\"font-size: 18px; color: #00000\">8.7 | Final results and analysis</h3>"
   ]
  },
  {
   "cell_type": "markdown",
   "id": "7268a5ce",
   "metadata": {},
   "source": [
    "<center>\n",
    "\n",
    "<h2 style=\"font-size: 16px; color: #FFF9ED; background-color: #641811;\">Final Classification Results</h2>\n",
    "\n",
    "</center>"
   ]
  },
  {
   "cell_type": "code",
   "execution_count": 67,
   "id": "7f190742",
   "metadata": {},
   "outputs": [
    {
     "data": {
      "text/html": [
       "<div>\n",
       "<style scoped>\n",
       "    .dataframe tbody tr th:only-of-type {\n",
       "        vertical-align: middle;\n",
       "    }\n",
       "\n",
       "    .dataframe tbody tr th {\n",
       "        vertical-align: top;\n",
       "    }\n",
       "\n",
       "    .dataframe thead th {\n",
       "        text-align: right;\n",
       "    }\n",
       "</style>\n",
       "<table border=\"1\" class=\"dataframe\">\n",
       "  <thead>\n",
       "    <tr style=\"text-align: right;\">\n",
       "      <th></th>\n",
       "      <th>Model</th>\n",
       "      <th>Accuracy</th>\n",
       "      <th>Precision</th>\n",
       "      <th>Recall</th>\n",
       "      <th>F1</th>\n",
       "    </tr>\n",
       "  </thead>\n",
       "  <tbody>\n",
       "    <tr>\n",
       "      <th>0</th>\n",
       "      <td>DT</td>\n",
       "      <td>0.974322</td>\n",
       "      <td>0.974154</td>\n",
       "      <td>0.989247</td>\n",
       "      <td>0.976327</td>\n",
       "    </tr>\n",
       "    <tr>\n",
       "      <th>1</th>\n",
       "      <td>RF</td>\n",
       "      <td>0.986439</td>\n",
       "      <td>0.986462</td>\n",
       "      <td>0.989422</td>\n",
       "      <td>0.992653</td>\n",
       "    </tr>\n",
       "    <tr>\n",
       "      <th>2</th>\n",
       "      <td>RF Without Null Values</td>\n",
       "      <td>0.992590</td>\n",
       "      <td>0.992615</td>\n",
       "      <td>0.991890</td>\n",
       "      <td>0.998367</td>\n",
       "    </tr>\n",
       "    <tr>\n",
       "      <th>3</th>\n",
       "      <td>RF Without Outliers</td>\n",
       "      <td>0.938082</td>\n",
       "      <td>0.940923</td>\n",
       "      <td>0.927976</td>\n",
       "      <td>0.999184</td>\n",
       "    </tr>\n",
       "    <tr>\n",
       "      <th>4</th>\n",
       "      <td>SVC</td>\n",
       "      <td>0.981615</td>\n",
       "      <td>0.981538</td>\n",
       "      <td>0.991770</td>\n",
       "      <td>0.983673</td>\n",
       "    </tr>\n",
       "    <tr>\n",
       "      <th>5</th>\n",
       "      <td>DT OPTIMIZED</td>\n",
       "      <td>0.974737</td>\n",
       "      <td>0.974769</td>\n",
       "      <td>0.982085</td>\n",
       "      <td>0.984490</td>\n",
       "    </tr>\n",
       "    <tr>\n",
       "      <th>6</th>\n",
       "      <td>RF OPTIMIZED</td>\n",
       "      <td>0.985828</td>\n",
       "      <td>0.985846</td>\n",
       "      <td>0.989414</td>\n",
       "      <td>0.991837</td>\n",
       "    </tr>\n",
       "    <tr>\n",
       "      <th>7</th>\n",
       "      <td>RF Without Null Values OPTIMIZED</td>\n",
       "      <td>0.992597</td>\n",
       "      <td>0.992615</td>\n",
       "      <td>0.992689</td>\n",
       "      <td>0.997551</td>\n",
       "    </tr>\n",
       "    <tr>\n",
       "      <th>8</th>\n",
       "      <td>RF Without Outliers OPTIMIZED</td>\n",
       "      <td>0.925064</td>\n",
       "      <td>0.929231</td>\n",
       "      <td>0.915419</td>\n",
       "      <td>0.998367</td>\n",
       "    </tr>\n",
       "    <tr>\n",
       "      <th>9</th>\n",
       "      <td>SVC OPTIMIZED</td>\n",
       "      <td>0.969310</td>\n",
       "      <td>0.969846</td>\n",
       "      <td>0.965190</td>\n",
       "      <td>0.995918</td>\n",
       "    </tr>\n",
       "  </tbody>\n",
       "</table>\n",
       "</div>"
      ],
      "text/plain": [
       "                               Model  Accuracy  Precision    Recall        F1\n",
       "0                                 DT  0.974322   0.974154  0.989247  0.976327\n",
       "1                                 RF  0.986439   0.986462  0.989422  0.992653\n",
       "2             RF Without Null Values  0.992590   0.992615  0.991890  0.998367\n",
       "3                RF Without Outliers  0.938082   0.940923  0.927976  0.999184\n",
       "4                                SVC  0.981615   0.981538  0.991770  0.983673\n",
       "5                       DT OPTIMIZED  0.974737   0.974769  0.982085  0.984490\n",
       "6                       RF OPTIMIZED  0.985828   0.985846  0.989414  0.991837\n",
       "7  RF Without Null Values OPTIMIZED   0.992597   0.992615  0.992689  0.997551\n",
       "8      RF Without Outliers OPTIMIZED  0.925064   0.929231  0.915419  0.998367\n",
       "9                      SVC OPTIMIZED  0.969310   0.969846  0.965190  0.995918"
      ]
     },
     "execution_count": 67,
     "metadata": {},
     "output_type": "execute_result"
    }
   ],
   "source": [
    "# Create a DataFrame to store all the metrics of these classifiers\n",
    "concatenate_results(results_dt, results_rf, results_rf_dropped, results_rf_dropped_outliers, results_svc, results_dt2, results_rf2, results_rf2_dropped, results_rf2_dropped_outliers, results_svc2)"
   ]
  },
  {
   "cell_type": "markdown",
   "id": "83054ec3",
   "metadata": {},
   "source": [
    "1. **Decision Tree (DT)**:\n",
    "    - **Accuracy**: The accuracy of the decision tree model is approximately **96.94%**, meaning that approximately **96.94%** of the selection made by the model are correct;\n",
    "    - **Precision**: Precision is **96.92%**, which means that **96.92%** of the instances classified as positive by the model were actually positive;\n",
    "    - **Recall**: Recall is **98.43%**, indicating that the model correctly identified **98.43%** of positive instances;\n",
    "    - **F1-Score**: The F1-Score, a harmonic mean between precision and recall, is **97.47%**.\n",
    "2. **Random Forest (RF)**:\n",
    "    - **Accuracy**: The accuracy of the decision tree model is approximately **98.83%**, meaning that approximately **98.83%** of the selection made by the model are correct;\n",
    "    - **Precision**: Precision is **98.83%**, which means that **98.83%** of the instances classified as positive by the model were actually positive;\n",
    "    - **Recall**: Recall is **99.42%**, indicating that the model correctly identified **99.42%** of positive instances;\n",
    "    - **F1-Score**: The F1-Score, a harmonic mean between precision and recall, is **99.02%**.\n",
    "3. **Random Forest Dropped Null Values (RF)**:\n",
    "    - **Accuracy**: The accuracy of the decision tree model is approximately **99.25%**, meaning that approximately **99.25%** of the selection made by the model are correct;\n",
    "    - **Precision**: Precision is **99.26%**, which means that **99.26%** of the instances classified as positive by the model were actually positive;\n",
    "    - **Recall**: Recall is **99.18%**, indicating that the model correctly identified **99.18%** of positive instances;\n",
    "    - **F1-Score**: The F1-Score, a harmonic mean between precision and recall, is **99.83%**.\n",
    "4. **Support Vector Classifier (SVC)**:\n",
    "    - **Accuracy**: The accuracy of the decision tree model is approximately **98.59%**, meaning that approximately **98.59%** of the selection made by the model are correct;\n",
    "    - **Precision**: Precision is **98.59%**, which means that **98.59%** of the instances classified as positive by the model were actually positive;\n",
    "    - **Recall**: Recall is **99.10%**, indicating that the model correctly identified **99.10%** of positive instances;\n",
    "    - **F1-Score**: The F1-Score, a harmonic mean between precision and recall, is **99.02%**.\n",
    "5. **Decision Tree Optimized (DT OPTIMIZED)**:\n",
    "    - **Accuracy**: The accuracy of the decision tree model is approximately **97.06%**, meaning that approximately **97.06%** of the selection made by the model are correct, showing improvement in comparison with the not optimized model;\n",
    "    - **Precision**: Precision is **97.05%**, which means that **97.05%** of the instances classified as positive by the model were actually positive;\n",
    "    - **Recall**: Recall is **98.36%**, indicating that the model correctly identified **98.36%** of positive instances;\n",
    "    - **F1-Score**: The F1-Score, a harmonic mean between precision and recall, is **97.71%**.\n",
    "6. **Random Forest Optimized (RF OPTIMIZED)**:\n",
    "    - **Accuracy**: The accuracy of the decision tree model is approximately **98.83%**, meaning that approximately **98.83%** of the selection made by the model are correct, showing consistency in comparison with the not optimized model;\n",
    "    - **Precision**: Precision is **99.18%**, which means that **99.18%** of the instances classified as positive by the model were actually positive;\n",
    "    - **Recall**: Recall is **99.26%**, indicating that the model correctly identified **99.26%** of positive instances;\n",
    "    - **F1-Score**: The F1-Score, a harmonic mean between precision and recall, is **99.83%**.\n",
    "7. **Random Forest Dropped Null Values Optimized (RF OPTIMIZED)**:\n",
    "    - **Accuracy**: The accuracy of the decision tree model is approximately **99.19%**, meaning that approximately **99.19%** of the selection made by the model are correct, showing consistency in comparison with the not optimized model;\n",
    "    - **Precision**: Precision is **99.20%**, which means that **99.20%** of the instances classified as positive by the model were actually positive;\n",
    "    - **Recall**: Recall is **99.10%**, indicating that the model correctly identified **99.10%** of positive instances;\n",
    "    - **F1-Score**: The F1-Score, a harmonic mean between precision and recall, is **99.27%**.\n",
    "8. **Support Vector Classifier Optimized (SVC OPTIMIZED)**:\n",
    "    - **Accuracy**: The accuracy of the decision tree model is approximately **97.08%**, meaning that approximately **97.08%** of the selection made by the model are correct, showing detioration in comparison with the not optimized model;\n",
    "    - **Precision**: Precision is **97.10%**, which means that **97.10%** of the instances classified as positive by the model were actually positive;\n",
    "    - **Recall**: Recall is **97.12%**, indicating that the model correctly identified **97.12%** of positive instances;\n",
    "    - **F1-Score**: The F1-Score, a harmonic mean between precision and recall, is **99.10%**.\n",
    "\n",
    "<h3 style=\"font-size: 16px; color: #000000;\">Conclusion</h3>\n",
    "\n",
    "The three models were highly effective in classifying wines as white or red, with hyperparameter optimization providing further improvements. Random Forest proved to be the most robust and accurate model for this task, particularly after hyperparameter optimization. This finding was even more significant given that the dataset used underwent preprocessing to handle missing values, which can have a substantial impact on the quality of the final results."
   ]
  },
  {
   "cell_type": "markdown",
   "id": "bc163808",
   "metadata": {},
   "source": [
    "<h3 id=\"dataSplitting1\" style=\"font-size: 20px; color: #00000\">9 | DATA SPLITTING (Regression) 🪓</h3>"
   ]
  },
  {
   "cell_type": "markdown",
   "id": "c0aa1b43",
   "metadata": {},
   "source": [
    "<center>\n",
    "\n",
    "<h2 style=\"font-size: 16px; color: #FFF9ED; background-color: #641811;\">Splitting</h2>\n",
    "\n",
    "</center>"
   ]
  },
  {
   "cell_type": "code",
   "execution_count": 68,
   "id": "d3f4a407",
   "metadata": {},
   "outputs": [],
   "source": [
    "X = df.drop(columns=['quality'])\n",
    "y = df['quality']\n",
    "\n",
    "\n",
    "X_train, X_test, y_train, y_test = train_test_split(X, y, test_size=0.2, random_state=42)"
   ]
  },
  {
   "cell_type": "markdown",
   "id": "de1ea513",
   "metadata": {},
   "source": [
    "<h3 id=\"training1\" style=\"font-size: 20px; color: #00000\">10 | TRAINING AND EVALUATION (Regression) 🤖</h3>"
   ]
  },
  {
   "cell_type": "code",
   "execution_count": 69,
   "id": "c3c74b19",
   "metadata": {},
   "outputs": [],
   "source": [
    "def calculate_regression_metrics(y_test, y_pred):\n",
    "    \"\"\"\n",
    "    Calculate performance metrics including r2 score, mean_absolute_error, mean_squared_error, and root mean_squared_error.\n",
    "\n",
    "    Parameters:\n",
    "    y_test (array-like): True labels.\n",
    "    y_pred (array-like): Predicted labels.\n",
    "\n",
    "    Returns:\n",
    "    tuple: A tuple containing r2 score, mean_absolute_error, mean_squared_error, and root mean_squared_error.\n",
    "    \"\"\"\n",
    "    _mae = mae(y_test, y_pred)\n",
    "    _mse = mse(y_test, y_pred)\n",
    "    _rmse = np.sqrt(mse(y_test, y_pred))\n",
    "    _r2 = r2_score(y_test, y_pred)\n",
    "    return round(_mae,2), round(_mse,2), round(_rmse,2), round(_r2,5)"
   ]
  },
  {
   "cell_type": "code",
   "execution_count": 70,
   "id": "685e9998",
   "metadata": {},
   "outputs": [],
   "source": [
    "def create_regression_results_df(result_name, model_name, metrics):\n",
    "    \"\"\"\n",
    "    Create a DataFrame to store evaluation metrics for a given model.\n",
    "\n",
    "    Parameters:\n",
    "    result_name: Name of the result Dataframe\n",
    "    model_name (str): Name of the model.\n",
    "    metrics (tuple): Tuple containing evaluation metrics (r2 score, mean_absolute_error, mean_squared_error, and root mean_squared_error).\n",
    "\n",
    "    Returns:\n",
    "    DataFrame: DataFrame containing model name and evaluation metrics.\n",
    "    \"\"\"\n",
    "    result_name = pd.DataFrame(columns=['Model', 'R2 Score', 'Mean Absolute Error', 'Mean Squared Error', 'Root Mean Squared Error'], \n",
    "                              data=[[model_name, *metrics]])\n",
    "    return result_name"
   ]
  },
  {
   "cell_type": "code",
   "execution_count": 71,
   "id": "9ff8f5b4",
   "metadata": {},
   "outputs": [],
   "source": [
    "def concatenate_regression_results(*dfs):\n",
    "    \"\"\"\n",
    "    Concatenate the results of multiple DataFrames into a single DataFrame.\n",
    "\n",
    "    Parameters:\n",
    "    dfs (DataFrame): Variable number of DataFrames containing model evaluation metrics.\n",
    "\n",
    "    Returns:\n",
    "    DataFrame: Concatenated DataFrame containing evaluation metrics for all models.\n",
    "    \"\"\"\n",
    "    concatenated_df = pd.concat(dfs, ignore_index=True)\n",
    "    return concatenated_df"
   ]
  },
  {
   "cell_type": "markdown",
   "id": "7234c0e4",
   "metadata": {},
   "source": [
    "<h3 id=\"linearRegression\" style=\"font-size: 18px; color: #00000\">10.1  Linear Regression</h3>"
   ]
  },
  {
   "cell_type": "markdown",
   "id": "a6ec5cda",
   "metadata": {},
   "source": [
    "<center>\n",
    "\n",
    "<h2 style=\"font-size: 16px; color: #FFF9ED; background-color: #641811;\">Creating the linear regression</h2>\n",
    "\n",
    "</center>"
   ]
  },
  {
   "cell_type": "code",
   "execution_count": 72,
   "id": "e85774e7",
   "metadata": {},
   "outputs": [],
   "source": [
    "lr = LinearRegression()\n",
    "# Train the Linear Regression\n",
    "lr.fit(X_train, y_train)\n",
    "# Make predictions on the test set\n",
    "lr_pred = lr.predict(X_test)"
   ]
  },
  {
   "cell_type": "markdown",
   "id": "a6ec1752",
   "metadata": {},
   "source": [
    "<center>\n",
    "\n",
    "<h2 style=\"font-size: 16px; color: #FFF9ED; background-color: #641811;\">Performance Metrics</h2>\n",
    "\n",
    "</center>"
   ]
  },
  {
   "cell_type": "code",
   "execution_count": 73,
   "id": "22f330e3",
   "metadata": {},
   "outputs": [],
   "source": [
    "# Calculate evaluation metrics for the Linear Regression\n",
    "lr_metrics = calculate_regression_metrics(y_test, lr_pred)"
   ]
  },
  {
   "cell_type": "markdown",
   "id": "a26fcb42",
   "metadata": {},
   "source": [
    "<center>\n",
    "\n",
    "<h2 style=\"font-size: 16px; color: #FFF9ED; background-color: #641811;\">Summary of Performance Metrics</h2>\n",
    "\n",
    "</center>"
   ]
  },
  {
   "cell_type": "code",
   "execution_count": 74,
   "id": "7d9e8f88",
   "metadata": {},
   "outputs": [],
   "source": [
    "# Create a DataFrame to store the evaluation metrics for the Linear Regression\n",
    "results_lr = create_regression_results_df('results_lr', 'Linear Regression', lr_metrics)"
   ]
  },
  {
   "cell_type": "markdown",
   "id": "9f0b1554",
   "metadata": {},
   "source": [
    "<h3 id=\"randomForestRegression\" style=\"font-size: 18px; color: #00000\">10.2  Random Forest Regression</h3>"
   ]
  },
  {
   "cell_type": "markdown",
   "id": "d073f987",
   "metadata": {},
   "source": [
    "<center>\n",
    "\n",
    "<h2 style=\"font-size: 16px; color: #FFF9ED; background-color: #641811;\">Creating the random forest regression</h2>\n",
    "\n",
    "</center>"
   ]
  },
  {
   "cell_type": "code",
   "execution_count": 75,
   "id": "7c4b4fa3",
   "metadata": {},
   "outputs": [],
   "source": [
    "rf_reg = RandomForestRegressor(random_state=42)\n",
    "# Train the Random Forest Regression\n",
    "rf_reg.fit(X_train, y_train)\n",
    "# Make predictions on the test set\n",
    "rf_reg_pred = rf_reg.predict(X_test)"
   ]
  },
  {
   "cell_type": "code",
   "execution_count": 76,
   "id": "e7b19bbd",
   "metadata": {},
   "outputs": [
    {
     "data": {
      "text/plain": [
       "{'bootstrap': True,\n",
       " 'ccp_alpha': 0.0,\n",
       " 'criterion': 'squared_error',\n",
       " 'max_depth': None,\n",
       " 'max_features': 1.0,\n",
       " 'max_leaf_nodes': None,\n",
       " 'max_samples': None,\n",
       " 'min_impurity_decrease': 0.0,\n",
       " 'min_samples_leaf': 1,\n",
       " 'min_samples_split': 2,\n",
       " 'min_weight_fraction_leaf': 0.0,\n",
       " 'n_estimators': 100,\n",
       " 'n_jobs': None,\n",
       " 'oob_score': False,\n",
       " 'random_state': 42,\n",
       " 'verbose': 0,\n",
       " 'warm_start': False}"
      ]
     },
     "execution_count": 76,
     "metadata": {},
     "output_type": "execute_result"
    }
   ],
   "source": [
    "# Get the parameters used\n",
    "rf_reg.get_params()"
   ]
  },
  {
   "cell_type": "markdown",
   "id": "400d9f8f",
   "metadata": {},
   "source": [
    "<center>\n",
    "\n",
    "<h2 style=\"font-size: 16px; color: #FFF9ED; background-color: #641811;\">Performance Metrics</h2>\n",
    "\n",
    "</center>"
   ]
  },
  {
   "cell_type": "code",
   "execution_count": 77,
   "id": "9a1e4bad",
   "metadata": {},
   "outputs": [],
   "source": [
    "# Calculate evaluation metrics for the Random Forest Regression\n",
    "rf_reg_metrics = calculate_regression_metrics(y_test, rf_reg_pred)"
   ]
  },
  {
   "cell_type": "markdown",
   "id": "45ab0a62",
   "metadata": {},
   "source": [
    "<center>\n",
    "\n",
    "<h2 style=\"font-size: 16px; color: #FFF9ED; background-color: #641811;\">Summary of Performance Metrics</h2>\n",
    "\n",
    "</center>"
   ]
  },
  {
   "cell_type": "code",
   "execution_count": 78,
   "id": "8995aa3b",
   "metadata": {},
   "outputs": [],
   "source": [
    "# Create a DataFrame to store the evaluation metrics for the Random Forest Regression\n",
    "results_rf_reg = create_regression_results_df('results_rf_reg', 'Random Forest Regression', rf_reg_metrics)"
   ]
  },
  {
   "cell_type": "markdown",
   "id": "cded5a1a",
   "metadata": {},
   "source": [
    "<h3 id=\"svr\" style=\"font-size: 18px; color: #00000\">10.3  Support Vector Regression</h3>"
   ]
  },
  {
   "cell_type": "markdown",
   "id": "1ce82998",
   "metadata": {},
   "source": [
    "<center>\n",
    "\n",
    "<h2 style=\"font-size: 16px; color: #FFF9ED; background-color: #641811;\">Creating the support vector regression</h2>\n",
    "\n",
    "</center>"
   ]
  },
  {
   "cell_type": "code",
   "execution_count": 79,
   "id": "4179f88c",
   "metadata": {},
   "outputs": [],
   "source": [
    "svr_reg = SVR()\n",
    "# Train the Support Vector Regression\n",
    "svr_reg.fit(X_train, y_train)\n",
    "# Make predictions on the test set\n",
    "svr_reg_pred = svr_reg.predict(X_test)"
   ]
  },
  {
   "cell_type": "code",
   "execution_count": 80,
   "id": "d2489583",
   "metadata": {},
   "outputs": [
    {
     "data": {
      "text/plain": [
       "{'C': 1.0,\n",
       " 'cache_size': 200,\n",
       " 'coef0': 0.0,\n",
       " 'degree': 3,\n",
       " 'epsilon': 0.1,\n",
       " 'gamma': 'scale',\n",
       " 'kernel': 'rbf',\n",
       " 'max_iter': -1,\n",
       " 'shrinking': True,\n",
       " 'tol': 0.001,\n",
       " 'verbose': False}"
      ]
     },
     "execution_count": 80,
     "metadata": {},
     "output_type": "execute_result"
    }
   ],
   "source": [
    "# Get the parameters used\n",
    "svr_reg.get_params()"
   ]
  },
  {
   "cell_type": "markdown",
   "id": "6843964c",
   "metadata": {},
   "source": [
    "<center>\n",
    "\n",
    "<h2 style=\"font-size: 16px; color: #FFF9ED; background-color: #641811;\">Performance Metrics</h2>\n",
    "\n",
    "</center>"
   ]
  },
  {
   "cell_type": "code",
   "execution_count": 81,
   "id": "0892a5ff",
   "metadata": {},
   "outputs": [],
   "source": [
    "# Calculate evaluation metrics for the Support Vector Regression\n",
    "svr_reg_metrics = calculate_regression_metrics(y_test, svr_reg_pred)"
   ]
  },
  {
   "cell_type": "markdown",
   "id": "29eb89e4",
   "metadata": {},
   "source": [
    "<center>\n",
    "\n",
    "<h2 style=\"font-size: 16px; color: #FFF9ED; background-color: #641811;\">Summary of Performance Metrics</h2>\n",
    "\n",
    "</center>"
   ]
  },
  {
   "cell_type": "code",
   "execution_count": 82,
   "id": "ff2f6031",
   "metadata": {},
   "outputs": [],
   "source": [
    "# Create a DataFrame to store the evaluation metrics for the Support Vector Regression\n",
    "results_svr_reg = create_regression_results_df('results_svr_reg', 'Support Vector Regression', svr_reg_metrics)"
   ]
  },
  {
   "cell_type": "markdown",
   "id": "fc613c0f",
   "metadata": {},
   "source": [
    "<h3 id=\"xgboost\" style=\"font-size: 18px; color: #00000\">10.4  XGBoost</h3>"
   ]
  },
  {
   "cell_type": "markdown",
   "id": "e3d6d258",
   "metadata": {},
   "source": [
    "<center>\n",
    "\n",
    "<h2 style=\"font-size: 16px; color: #FFF9ED; background-color: #641811;\">Creating the xgboost</h2>\n",
    "\n",
    "</center>"
   ]
  },
  {
   "cell_type": "code",
   "execution_count": 83,
   "id": "78226311",
   "metadata": {},
   "outputs": [],
   "source": [
    "xgb_reg = XGBRegressor()\n",
    "# Train the XGBoost\n",
    "xgb_reg.fit(X_train, y_train)\n",
    "# Make predictions on the test set\n",
    "xgb_reg_pred = xgb_reg.predict(X_test)"
   ]
  },
  {
   "cell_type": "code",
   "execution_count": 84,
   "id": "7ebf81dc",
   "metadata": {},
   "outputs": [
    {
     "data": {
      "text/plain": [
       "{'objective': 'reg:squarederror',\n",
       " 'base_score': None,\n",
       " 'booster': None,\n",
       " 'callbacks': None,\n",
       " 'colsample_bylevel': None,\n",
       " 'colsample_bynode': None,\n",
       " 'colsample_bytree': None,\n",
       " 'device': None,\n",
       " 'early_stopping_rounds': None,\n",
       " 'enable_categorical': False,\n",
       " 'eval_metric': None,\n",
       " 'feature_types': None,\n",
       " 'gamma': None,\n",
       " 'grow_policy': None,\n",
       " 'importance_type': None,\n",
       " 'interaction_constraints': None,\n",
       " 'learning_rate': None,\n",
       " 'max_bin': None,\n",
       " 'max_cat_threshold': None,\n",
       " 'max_cat_to_onehot': None,\n",
       " 'max_delta_step': None,\n",
       " 'max_depth': None,\n",
       " 'max_leaves': None,\n",
       " 'min_child_weight': None,\n",
       " 'missing': nan,\n",
       " 'monotone_constraints': None,\n",
       " 'multi_strategy': None,\n",
       " 'n_estimators': None,\n",
       " 'n_jobs': None,\n",
       " 'num_parallel_tree': None,\n",
       " 'random_state': None,\n",
       " 'reg_alpha': None,\n",
       " 'reg_lambda': None,\n",
       " 'sampling_method': None,\n",
       " 'scale_pos_weight': None,\n",
       " 'subsample': None,\n",
       " 'tree_method': None,\n",
       " 'validate_parameters': None,\n",
       " 'verbosity': None}"
      ]
     },
     "execution_count": 84,
     "metadata": {},
     "output_type": "execute_result"
    }
   ],
   "source": [
    "# Get the parameters used\n",
    "xgb_reg.get_params()"
   ]
  },
  {
   "cell_type": "markdown",
   "id": "8c7f7ec4",
   "metadata": {},
   "source": [
    "<center>\n",
    "\n",
    "<h2 style=\"font-size: 16px; color: #FFF9ED; background-color: #641811;\">Performance Metrics</h2>\n",
    "\n",
    "</center>"
   ]
  },
  {
   "cell_type": "code",
   "execution_count": 85,
   "id": "8cbae4aa",
   "metadata": {},
   "outputs": [],
   "source": [
    "# Calculate evaluation metrics for the XGBoost\n",
    "xgb_reg_metrics = calculate_regression_metrics(y_test, xgb_reg_pred)"
   ]
  },
  {
   "cell_type": "markdown",
   "id": "83d388ce",
   "metadata": {},
   "source": [
    "<center>\n",
    "\n",
    "<h2 style=\"font-size: 16px; color: #FFF9ED; background-color: #641811;\">Summary of Performance Metrics</h2>\n",
    "\n",
    "</center>"
   ]
  },
  {
   "cell_type": "code",
   "execution_count": 86,
   "id": "678333e5",
   "metadata": {},
   "outputs": [],
   "source": [
    "# Create a DataFrame to store the evaluation metrics for the XGBoost\n",
    "results_xgb_reg = create_regression_results_df('results_xgb_reg', 'XGBoost', xgb_reg_metrics)"
   ]
  },
  {
   "cell_type": "markdown",
   "id": "9839c456",
   "metadata": {},
   "source": [
    "<h3 id=\"randomForestRegressionOpt\" style=\"font-size: 18px; color: #00000\">10.5 | Random Forest Regression Optimization</h3>"
   ]
  },
  {
   "cell_type": "markdown",
   "id": "31da2668",
   "metadata": {},
   "source": [
    "<center>\n",
    "\n",
    "<h2 style=\"font-size: 16px; color: #FFF9ED; background-color: #641811;\">Parameters</h2>\n",
    "\n",
    "</center>"
   ]
  },
  {
   "cell_type": "code",
   "execution_count": 87,
   "id": "1fbc1dc8",
   "metadata": {},
   "outputs": [
    {
     "name": "stdout",
     "output_type": "stream",
     "text": [
      "Fitting 10 folds for each of 243 candidates, totalling 2430 fits\n"
     ]
    },
    {
     "data": {
      "text/html": [
       "<style>#sk-container-id-6 {color: black;background-color: white;}#sk-container-id-6 pre{padding: 0;}#sk-container-id-6 div.sk-toggleable {background-color: white;}#sk-container-id-6 label.sk-toggleable__label {cursor: pointer;display: block;width: 100%;margin-bottom: 0;padding: 0.3em;box-sizing: border-box;text-align: center;}#sk-container-id-6 label.sk-toggleable__label-arrow:before {content: \"▸\";float: left;margin-right: 0.25em;color: #696969;}#sk-container-id-6 label.sk-toggleable__label-arrow:hover:before {color: black;}#sk-container-id-6 div.sk-estimator:hover label.sk-toggleable__label-arrow:before {color: black;}#sk-container-id-6 div.sk-toggleable__content {max-height: 0;max-width: 0;overflow: hidden;text-align: left;background-color: #f0f8ff;}#sk-container-id-6 div.sk-toggleable__content pre {margin: 0.2em;color: black;border-radius: 0.25em;background-color: #f0f8ff;}#sk-container-id-6 input.sk-toggleable__control:checked~div.sk-toggleable__content {max-height: 200px;max-width: 100%;overflow: auto;}#sk-container-id-6 input.sk-toggleable__control:checked~label.sk-toggleable__label-arrow:before {content: \"▾\";}#sk-container-id-6 div.sk-estimator input.sk-toggleable__control:checked~label.sk-toggleable__label {background-color: #d4ebff;}#sk-container-id-6 div.sk-label input.sk-toggleable__control:checked~label.sk-toggleable__label {background-color: #d4ebff;}#sk-container-id-6 input.sk-hidden--visually {border: 0;clip: rect(1px 1px 1px 1px);clip: rect(1px, 1px, 1px, 1px);height: 1px;margin: -1px;overflow: hidden;padding: 0;position: absolute;width: 1px;}#sk-container-id-6 div.sk-estimator {font-family: monospace;background-color: #f0f8ff;border: 1px dotted black;border-radius: 0.25em;box-sizing: border-box;margin-bottom: 0.5em;}#sk-container-id-6 div.sk-estimator:hover {background-color: #d4ebff;}#sk-container-id-6 div.sk-parallel-item::after {content: \"\";width: 100%;border-bottom: 1px solid gray;flex-grow: 1;}#sk-container-id-6 div.sk-label:hover label.sk-toggleable__label {background-color: #d4ebff;}#sk-container-id-6 div.sk-serial::before {content: \"\";position: absolute;border-left: 1px solid gray;box-sizing: border-box;top: 0;bottom: 0;left: 50%;z-index: 0;}#sk-container-id-6 div.sk-serial {display: flex;flex-direction: column;align-items: center;background-color: white;padding-right: 0.2em;padding-left: 0.2em;position: relative;}#sk-container-id-6 div.sk-item {position: relative;z-index: 1;}#sk-container-id-6 div.sk-parallel {display: flex;align-items: stretch;justify-content: center;background-color: white;position: relative;}#sk-container-id-6 div.sk-item::before, #sk-container-id-6 div.sk-parallel-item::before {content: \"\";position: absolute;border-left: 1px solid gray;box-sizing: border-box;top: 0;bottom: 0;left: 50%;z-index: -1;}#sk-container-id-6 div.sk-parallel-item {display: flex;flex-direction: column;z-index: 1;position: relative;background-color: white;}#sk-container-id-6 div.sk-parallel-item:first-child::after {align-self: flex-end;width: 50%;}#sk-container-id-6 div.sk-parallel-item:last-child::after {align-self: flex-start;width: 50%;}#sk-container-id-6 div.sk-parallel-item:only-child::after {width: 0;}#sk-container-id-6 div.sk-dashed-wrapped {border: 1px dashed gray;margin: 0 0.4em 0.5em 0.4em;box-sizing: border-box;padding-bottom: 0.4em;background-color: white;}#sk-container-id-6 div.sk-label label {font-family: monospace;font-weight: bold;display: inline-block;line-height: 1.2em;}#sk-container-id-6 div.sk-label-container {text-align: center;}#sk-container-id-6 div.sk-container {/* jupyter's `normalize.less` sets `[hidden] { display: none; }` but bootstrap.min.css set `[hidden] { display: none !important; }` so we also need the `!important` here to be able to override the default hidden behavior on the sphinx rendered scikit-learn.org. See: https://github.com/scikit-learn/scikit-learn/issues/21755 */display: inline-block !important;position: relative;}#sk-container-id-6 div.sk-text-repr-fallback {display: none;}</style><div id=\"sk-container-id-6\" class=\"sk-top-container\"><div class=\"sk-text-repr-fallback\"><pre>GridSearchCV(cv=10, estimator=RandomForestRegressor(random_state=24), n_jobs=-1,\n",
       "             param_grid={&#x27;max_depth&#x27;: [None, 10, 20],\n",
       "                         &#x27;max_features&#x27;: [&#x27;auto&#x27;, &#x27;sqrt&#x27;, &#x27;log2&#x27;],\n",
       "                         &#x27;min_samples_leaf&#x27;: [1, 2, 4],\n",
       "                         &#x27;min_samples_split&#x27;: [2, 5, 10],\n",
       "                         &#x27;n_estimators&#x27;: [300, 600, 1000]},\n",
       "             verbose=1)</pre><b>In a Jupyter environment, please rerun this cell to show the HTML representation or trust the notebook. <br />On GitHub, the HTML representation is unable to render, please try loading this page with nbviewer.org.</b></div><div class=\"sk-container\" hidden><div class=\"sk-item sk-dashed-wrapped\"><div class=\"sk-label-container\"><div class=\"sk-label sk-toggleable\"><input class=\"sk-toggleable__control sk-hidden--visually\" id=\"sk-estimator-id-16\" type=\"checkbox\" ><label for=\"sk-estimator-id-16\" class=\"sk-toggleable__label sk-toggleable__label-arrow\">GridSearchCV</label><div class=\"sk-toggleable__content\"><pre>GridSearchCV(cv=10, estimator=RandomForestRegressor(random_state=24), n_jobs=-1,\n",
       "             param_grid={&#x27;max_depth&#x27;: [None, 10, 20],\n",
       "                         &#x27;max_features&#x27;: [&#x27;auto&#x27;, &#x27;sqrt&#x27;, &#x27;log2&#x27;],\n",
       "                         &#x27;min_samples_leaf&#x27;: [1, 2, 4],\n",
       "                         &#x27;min_samples_split&#x27;: [2, 5, 10],\n",
       "                         &#x27;n_estimators&#x27;: [300, 600, 1000]},\n",
       "             verbose=1)</pre></div></div></div><div class=\"sk-parallel\"><div class=\"sk-parallel-item\"><div class=\"sk-item\"><div class=\"sk-label-container\"><div class=\"sk-label sk-toggleable\"><input class=\"sk-toggleable__control sk-hidden--visually\" id=\"sk-estimator-id-17\" type=\"checkbox\" ><label for=\"sk-estimator-id-17\" class=\"sk-toggleable__label sk-toggleable__label-arrow\">estimator: RandomForestRegressor</label><div class=\"sk-toggleable__content\"><pre>RandomForestRegressor(random_state=24)</pre></div></div></div><div class=\"sk-serial\"><div class=\"sk-item\"><div class=\"sk-estimator sk-toggleable\"><input class=\"sk-toggleable__control sk-hidden--visually\" id=\"sk-estimator-id-18\" type=\"checkbox\" ><label for=\"sk-estimator-id-18\" class=\"sk-toggleable__label sk-toggleable__label-arrow\">RandomForestRegressor</label><div class=\"sk-toggleable__content\"><pre>RandomForestRegressor(random_state=24)</pre></div></div></div></div></div></div></div></div></div></div>"
      ],
      "text/plain": [
       "GridSearchCV(cv=10, estimator=RandomForestRegressor(random_state=24), n_jobs=-1,\n",
       "             param_grid={'max_depth': [None, 10, 20],\n",
       "                         'max_features': ['auto', 'sqrt', 'log2'],\n",
       "                         'min_samples_leaf': [1, 2, 4],\n",
       "                         'min_samples_split': [2, 5, 10],\n",
       "                         'n_estimators': [300, 600, 1000]},\n",
       "             verbose=1)"
      ]
     },
     "execution_count": 87,
     "metadata": {},
     "output_type": "execute_result"
    }
   ],
   "source": [
    "# Define the parameters for the random forest regression grid search\n",
    "rf_reg_params = {\n",
    "    'n_estimators': [300, 600, 1000],\n",
    "    'max_depth': [None, 10, 20],\n",
    "    'min_samples_split': [2, 5, 10],\n",
    "    'min_samples_leaf': [1, 2, 4],\n",
    "    'max_features': ['auto', 'sqrt', 'log2']\n",
    "}\n",
    "# Perform grid search with cross-validation for random forest regression\n",
    "rf_reg_grid = GridSearchCV(RandomForestRegressor(random_state=24), rf_reg_params, cv=10, n_jobs=-1, verbose=1)\n",
    "rf_reg_grid.fit(X_train, y_train)"
   ]
  },
  {
   "cell_type": "markdown",
   "id": "8013cd4c",
   "metadata": {},
   "source": [
    "<center>\n",
    "\n",
    "<h2 style=\"font-size: 16px; color: #FFF9ED; background-color: #641811;\">Best Parameters</h2>\n",
    "\n",
    "</center>"
   ]
  },
  {
   "cell_type": "code",
   "execution_count": 88,
   "id": "505c8041",
   "metadata": {},
   "outputs": [
    {
     "data": {
      "text/plain": [
       "{'max_depth': None,\n",
       " 'max_features': 'sqrt',\n",
       " 'min_samples_leaf': 1,\n",
       " 'min_samples_split': 2,\n",
       " 'n_estimators': 1000}"
      ]
     },
     "execution_count": 88,
     "metadata": {},
     "output_type": "execute_result"
    }
   ],
   "source": [
    "# Display the best parameters found by grid search for the random forest regression\n",
    "rf_reg_grid.best_params_"
   ]
  },
  {
   "cell_type": "markdown",
   "id": "27b7158e",
   "metadata": {},
   "source": [
    "<center>\n",
    "\n",
    "<h2 style=\"font-size: 16px; color: #FFF9ED; background-color: #641811;\">Training</h2>\n",
    "\n",
    "</center>"
   ]
  },
  {
   "cell_type": "code",
   "execution_count": 89,
   "id": "5ca38b46",
   "metadata": {},
   "outputs": [],
   "source": [
    "# Create a new random forest regression with the best parameters found by grid search\n",
    "rf2_reg = RandomForestRegressor(\n",
    "    n_estimators = rf_reg_grid.best_params_['n_estimators'],\n",
    "    max_depth = rf_reg_grid.best_params_['max_depth'],\n",
    "    min_samples_split = rf_reg_grid.best_params_['min_samples_split'],\n",
    "    min_samples_leaf = rf_reg_grid.best_params_['min_samples_leaf'],\n",
    "    max_features = rf_reg_grid.best_params_['max_features'],\n",
    ")\n",
    "\n",
    "# Train the Random Forest Regression\n",
    "rf2_reg.fit(X_train, y_train)\n",
    "# Make predictions on the test set\n",
    "rf2_reg_pred = rf2_reg.predict(X_test)"
   ]
  },
  {
   "cell_type": "markdown",
   "id": "529079d7",
   "metadata": {},
   "source": [
    "<center>\n",
    "\n",
    "<h2 style=\"font-size: 16px; color: #FFF9ED; background-color: #641811;\">Performance Metrics</h2>\n",
    "\n",
    "</center>"
   ]
  },
  {
   "cell_type": "code",
   "execution_count": 90,
   "id": "33ce7b0e",
   "metadata": {},
   "outputs": [],
   "source": [
    "# Calculate evaluation metrics for the random forest regression \n",
    "rf2_reg_metrics = calculate_regression_metrics(y_test, rf2_reg_pred)"
   ]
  },
  {
   "cell_type": "markdown",
   "id": "35a7e00c",
   "metadata": {},
   "source": [
    "<center>\n",
    "\n",
    "<h2 style=\"font-size: 16px; color: #FFF9ED; background-color: #641811;\">Summary of Performance Metrics</h2>\n",
    "\n",
    "</center>"
   ]
  },
  {
   "cell_type": "code",
   "execution_count": 91,
   "id": "34fc9b29",
   "metadata": {},
   "outputs": [],
   "source": [
    "# Create a DataFrame to store the evaluation metrics for the random forest regression \n",
    "results_rf2_reg = create_regression_results_df('results_rf2_reg', 'Random Forest Regression Optimization', rf2_reg_metrics)"
   ]
  },
  {
   "cell_type": "markdown",
   "id": "ab097185",
   "metadata": {},
   "source": [
    "<h3 id=\"svrOpt\" style=\"font-size: 18px; color: #00000\">10.6 | Support Vector Regression Optimization</h3>"
   ]
  },
  {
   "cell_type": "markdown",
   "id": "27a121bd",
   "metadata": {},
   "source": [
    "<center>\n",
    "\n",
    "<h2 style=\"font-size: 16px; color: #FFF9ED; background-color: #641811;\">Parameters</h2>\n",
    "\n",
    "</center>"
   ]
  },
  {
   "cell_type": "code",
   "execution_count": 92,
   "id": "0d725097",
   "metadata": {},
   "outputs": [
    {
     "name": "stdout",
     "output_type": "stream",
     "text": [
      "Fitting 5 folds for each of 12 candidates, totalling 60 fits\n"
     ]
    },
    {
     "data": {
      "text/html": [
       "<style>#sk-container-id-7 {color: black;background-color: white;}#sk-container-id-7 pre{padding: 0;}#sk-container-id-7 div.sk-toggleable {background-color: white;}#sk-container-id-7 label.sk-toggleable__label {cursor: pointer;display: block;width: 100%;margin-bottom: 0;padding: 0.3em;box-sizing: border-box;text-align: center;}#sk-container-id-7 label.sk-toggleable__label-arrow:before {content: \"▸\";float: left;margin-right: 0.25em;color: #696969;}#sk-container-id-7 label.sk-toggleable__label-arrow:hover:before {color: black;}#sk-container-id-7 div.sk-estimator:hover label.sk-toggleable__label-arrow:before {color: black;}#sk-container-id-7 div.sk-toggleable__content {max-height: 0;max-width: 0;overflow: hidden;text-align: left;background-color: #f0f8ff;}#sk-container-id-7 div.sk-toggleable__content pre {margin: 0.2em;color: black;border-radius: 0.25em;background-color: #f0f8ff;}#sk-container-id-7 input.sk-toggleable__control:checked~div.sk-toggleable__content {max-height: 200px;max-width: 100%;overflow: auto;}#sk-container-id-7 input.sk-toggleable__control:checked~label.sk-toggleable__label-arrow:before {content: \"▾\";}#sk-container-id-7 div.sk-estimator input.sk-toggleable__control:checked~label.sk-toggleable__label {background-color: #d4ebff;}#sk-container-id-7 div.sk-label input.sk-toggleable__control:checked~label.sk-toggleable__label {background-color: #d4ebff;}#sk-container-id-7 input.sk-hidden--visually {border: 0;clip: rect(1px 1px 1px 1px);clip: rect(1px, 1px, 1px, 1px);height: 1px;margin: -1px;overflow: hidden;padding: 0;position: absolute;width: 1px;}#sk-container-id-7 div.sk-estimator {font-family: monospace;background-color: #f0f8ff;border: 1px dotted black;border-radius: 0.25em;box-sizing: border-box;margin-bottom: 0.5em;}#sk-container-id-7 div.sk-estimator:hover {background-color: #d4ebff;}#sk-container-id-7 div.sk-parallel-item::after {content: \"\";width: 100%;border-bottom: 1px solid gray;flex-grow: 1;}#sk-container-id-7 div.sk-label:hover label.sk-toggleable__label {background-color: #d4ebff;}#sk-container-id-7 div.sk-serial::before {content: \"\";position: absolute;border-left: 1px solid gray;box-sizing: border-box;top: 0;bottom: 0;left: 50%;z-index: 0;}#sk-container-id-7 div.sk-serial {display: flex;flex-direction: column;align-items: center;background-color: white;padding-right: 0.2em;padding-left: 0.2em;position: relative;}#sk-container-id-7 div.sk-item {position: relative;z-index: 1;}#sk-container-id-7 div.sk-parallel {display: flex;align-items: stretch;justify-content: center;background-color: white;position: relative;}#sk-container-id-7 div.sk-item::before, #sk-container-id-7 div.sk-parallel-item::before {content: \"\";position: absolute;border-left: 1px solid gray;box-sizing: border-box;top: 0;bottom: 0;left: 50%;z-index: -1;}#sk-container-id-7 div.sk-parallel-item {display: flex;flex-direction: column;z-index: 1;position: relative;background-color: white;}#sk-container-id-7 div.sk-parallel-item:first-child::after {align-self: flex-end;width: 50%;}#sk-container-id-7 div.sk-parallel-item:last-child::after {align-self: flex-start;width: 50%;}#sk-container-id-7 div.sk-parallel-item:only-child::after {width: 0;}#sk-container-id-7 div.sk-dashed-wrapped {border: 1px dashed gray;margin: 0 0.4em 0.5em 0.4em;box-sizing: border-box;padding-bottom: 0.4em;background-color: white;}#sk-container-id-7 div.sk-label label {font-family: monospace;font-weight: bold;display: inline-block;line-height: 1.2em;}#sk-container-id-7 div.sk-label-container {text-align: center;}#sk-container-id-7 div.sk-container {/* jupyter's `normalize.less` sets `[hidden] { display: none; }` but bootstrap.min.css set `[hidden] { display: none !important; }` so we also need the `!important` here to be able to override the default hidden behavior on the sphinx rendered scikit-learn.org. See: https://github.com/scikit-learn/scikit-learn/issues/21755 */display: inline-block !important;position: relative;}#sk-container-id-7 div.sk-text-repr-fallback {display: none;}</style><div id=\"sk-container-id-7\" class=\"sk-top-container\"><div class=\"sk-text-repr-fallback\"><pre>GridSearchCV(cv=5, estimator=SVR(), n_jobs=-1,\n",
       "             param_grid={&#x27;C&#x27;: [0.1, 1, 10], &#x27;gamma&#x27;: [&#x27;scale&#x27;, &#x27;auto&#x27;],\n",
       "                         &#x27;kernel&#x27;: [&#x27;linear&#x27;, &#x27;rbf&#x27;]},\n",
       "             verbose=1)</pre><b>In a Jupyter environment, please rerun this cell to show the HTML representation or trust the notebook. <br />On GitHub, the HTML representation is unable to render, please try loading this page with nbviewer.org.</b></div><div class=\"sk-container\" hidden><div class=\"sk-item sk-dashed-wrapped\"><div class=\"sk-label-container\"><div class=\"sk-label sk-toggleable\"><input class=\"sk-toggleable__control sk-hidden--visually\" id=\"sk-estimator-id-19\" type=\"checkbox\" ><label for=\"sk-estimator-id-19\" class=\"sk-toggleable__label sk-toggleable__label-arrow\">GridSearchCV</label><div class=\"sk-toggleable__content\"><pre>GridSearchCV(cv=5, estimator=SVR(), n_jobs=-1,\n",
       "             param_grid={&#x27;C&#x27;: [0.1, 1, 10], &#x27;gamma&#x27;: [&#x27;scale&#x27;, &#x27;auto&#x27;],\n",
       "                         &#x27;kernel&#x27;: [&#x27;linear&#x27;, &#x27;rbf&#x27;]},\n",
       "             verbose=1)</pre></div></div></div><div class=\"sk-parallel\"><div class=\"sk-parallel-item\"><div class=\"sk-item\"><div class=\"sk-label-container\"><div class=\"sk-label sk-toggleable\"><input class=\"sk-toggleable__control sk-hidden--visually\" id=\"sk-estimator-id-20\" type=\"checkbox\" ><label for=\"sk-estimator-id-20\" class=\"sk-toggleable__label sk-toggleable__label-arrow\">estimator: SVR</label><div class=\"sk-toggleable__content\"><pre>SVR()</pre></div></div></div><div class=\"sk-serial\"><div class=\"sk-item\"><div class=\"sk-estimator sk-toggleable\"><input class=\"sk-toggleable__control sk-hidden--visually\" id=\"sk-estimator-id-21\" type=\"checkbox\" ><label for=\"sk-estimator-id-21\" class=\"sk-toggleable__label sk-toggleable__label-arrow\">SVR</label><div class=\"sk-toggleable__content\"><pre>SVR()</pre></div></div></div></div></div></div></div></div></div></div>"
      ],
      "text/plain": [
       "GridSearchCV(cv=5, estimator=SVR(), n_jobs=-1,\n",
       "             param_grid={'C': [0.1, 1, 10], 'gamma': ['scale', 'auto'],\n",
       "                         'kernel': ['linear', 'rbf']},\n",
       "             verbose=1)"
      ]
     },
     "execution_count": 92,
     "metadata": {},
     "output_type": "execute_result"
    }
   ],
   "source": [
    "# Define the parameters for the support vector regression grid search\n",
    "svm_reg_params = {\n",
    "    'C': [0.1, 1, 10],\n",
    "    'kernel': ['linear', 'rbf'],\n",
    "    'gamma': ['scale', 'auto']\n",
    "}\n",
    "\n",
    "# Perform grid search with cross-validation for support vector regression\n",
    "svm_reg_grid = GridSearchCV(SVR(), svm_reg_params, cv=5, n_jobs=-1, verbose=1)\n",
    "svm_reg_grid.fit(X_train, y_train)"
   ]
  },
  {
   "cell_type": "markdown",
   "id": "3dbe420f",
   "metadata": {},
   "source": [
    "<center>\n",
    "\n",
    "<h2 style=\"font-size: 16px; color: #FFF9ED; background-color: #641811;\">Best Parameters</h2>\n",
    "\n",
    "</center>"
   ]
  },
  {
   "cell_type": "code",
   "execution_count": 93,
   "id": "b5cba8b3",
   "metadata": {},
   "outputs": [
    {
     "data": {
      "text/plain": [
       "{'C': 1, 'gamma': 'scale', 'kernel': 'rbf'}"
      ]
     },
     "execution_count": 93,
     "metadata": {},
     "output_type": "execute_result"
    }
   ],
   "source": [
    "# Display the best parameters found by grid search for the support vector regression\n",
    "svm_reg_grid.best_params_"
   ]
  },
  {
   "cell_type": "markdown",
   "id": "42622de8",
   "metadata": {},
   "source": [
    "<center>\n",
    "\n",
    "<h2 style=\"font-size: 16px; color: #FFF9ED; background-color: #641811;\">Training</h2>\n",
    "\n",
    "</center>"
   ]
  },
  {
   "cell_type": "code",
   "execution_count": 94,
   "id": "0131b78b",
   "metadata": {},
   "outputs": [],
   "source": [
    "# Create a new support vector regression with the best parameters found by grid search\n",
    "svm2_reg = SVR(\n",
    "    C = svm_reg_grid.best_params_['C'],\n",
    "    gamma = svm_reg_grid.best_params_['gamma'],\n",
    "    kernel = svm_reg_grid.best_params_['kernel'],  \n",
    ")\n",
    "\n",
    "# Train the support vector regression\n",
    "svm2_reg.fit(X_train, y_train)\n",
    "# Make predictions on the test set\n",
    "svm2_reg_pred = svm2_reg.predict(X_test)"
   ]
  },
  {
   "cell_type": "markdown",
   "id": "7782dfcf",
   "metadata": {},
   "source": [
    "<center>\n",
    "\n",
    "<h2 style=\"font-size: 16px; color: #FFF9ED; background-color: #641811;\">Performance Metrics</h2>\n",
    "\n",
    "</center>"
   ]
  },
  {
   "cell_type": "code",
   "execution_count": 95,
   "id": "cfaaf7a9",
   "metadata": {},
   "outputs": [],
   "source": [
    "# Calculate evaluation metrics for the support vector regression\n",
    "svm2_reg_metrics = calculate_regression_metrics(y_test, svm2_reg_pred)"
   ]
  },
  {
   "cell_type": "markdown",
   "id": "a58a1fc8",
   "metadata": {},
   "source": [
    "<center>\n",
    "\n",
    "<h2 style=\"font-size: 16px; color: #FFF9ED; background-color: #641811;\">Summary of Performance Metrics</h2>\n",
    "\n",
    "</center>"
   ]
  },
  {
   "cell_type": "code",
   "execution_count": 96,
   "id": "1389699f",
   "metadata": {},
   "outputs": [],
   "source": [
    "# Create a DataFrame to store the evaluation metrics for the support vector regression\n",
    "results_svm2_reg = create_regression_results_df('results_svm2_reg', 'Support Vector Regression Optimization', svm2_reg_metrics)"
   ]
  },
  {
   "cell_type": "markdown",
   "id": "4dd3ea27",
   "metadata": {},
   "source": [
    "<h3 id=\"xgboostOpt\" style=\"font-size: 18px; color: #00000\">10.7 | XGBoost Optimization</h3>"
   ]
  },
  {
   "cell_type": "markdown",
   "id": "0041ca30",
   "metadata": {},
   "source": [
    "<center>\n",
    "\n",
    "<h2 style=\"font-size: 16px; color: #FFF9ED; background-color: #641811;\">Parameters</h2>\n",
    "\n",
    "</center>"
   ]
  },
  {
   "cell_type": "code",
   "execution_count": 97,
   "id": "87aa62c2",
   "metadata": {},
   "outputs": [
    {
     "name": "stdout",
     "output_type": "stream",
     "text": [
      "Fitting 5 folds for each of 4096 candidates, totalling 20480 fits\n"
     ]
    },
    {
     "data": {
      "text/html": [
       "<style>#sk-container-id-8 {color: black;background-color: white;}#sk-container-id-8 pre{padding: 0;}#sk-container-id-8 div.sk-toggleable {background-color: white;}#sk-container-id-8 label.sk-toggleable__label {cursor: pointer;display: block;width: 100%;margin-bottom: 0;padding: 0.3em;box-sizing: border-box;text-align: center;}#sk-container-id-8 label.sk-toggleable__label-arrow:before {content: \"▸\";float: left;margin-right: 0.25em;color: #696969;}#sk-container-id-8 label.sk-toggleable__label-arrow:hover:before {color: black;}#sk-container-id-8 div.sk-estimator:hover label.sk-toggleable__label-arrow:before {color: black;}#sk-container-id-8 div.sk-toggleable__content {max-height: 0;max-width: 0;overflow: hidden;text-align: left;background-color: #f0f8ff;}#sk-container-id-8 div.sk-toggleable__content pre {margin: 0.2em;color: black;border-radius: 0.25em;background-color: #f0f8ff;}#sk-container-id-8 input.sk-toggleable__control:checked~div.sk-toggleable__content {max-height: 200px;max-width: 100%;overflow: auto;}#sk-container-id-8 input.sk-toggleable__control:checked~label.sk-toggleable__label-arrow:before {content: \"▾\";}#sk-container-id-8 div.sk-estimator input.sk-toggleable__control:checked~label.sk-toggleable__label {background-color: #d4ebff;}#sk-container-id-8 div.sk-label input.sk-toggleable__control:checked~label.sk-toggleable__label {background-color: #d4ebff;}#sk-container-id-8 input.sk-hidden--visually {border: 0;clip: rect(1px 1px 1px 1px);clip: rect(1px, 1px, 1px, 1px);height: 1px;margin: -1px;overflow: hidden;padding: 0;position: absolute;width: 1px;}#sk-container-id-8 div.sk-estimator {font-family: monospace;background-color: #f0f8ff;border: 1px dotted black;border-radius: 0.25em;box-sizing: border-box;margin-bottom: 0.5em;}#sk-container-id-8 div.sk-estimator:hover {background-color: #d4ebff;}#sk-container-id-8 div.sk-parallel-item::after {content: \"\";width: 100%;border-bottom: 1px solid gray;flex-grow: 1;}#sk-container-id-8 div.sk-label:hover label.sk-toggleable__label {background-color: #d4ebff;}#sk-container-id-8 div.sk-serial::before {content: \"\";position: absolute;border-left: 1px solid gray;box-sizing: border-box;top: 0;bottom: 0;left: 50%;z-index: 0;}#sk-container-id-8 div.sk-serial {display: flex;flex-direction: column;align-items: center;background-color: white;padding-right: 0.2em;padding-left: 0.2em;position: relative;}#sk-container-id-8 div.sk-item {position: relative;z-index: 1;}#sk-container-id-8 div.sk-parallel {display: flex;align-items: stretch;justify-content: center;background-color: white;position: relative;}#sk-container-id-8 div.sk-item::before, #sk-container-id-8 div.sk-parallel-item::before {content: \"\";position: absolute;border-left: 1px solid gray;box-sizing: border-box;top: 0;bottom: 0;left: 50%;z-index: -1;}#sk-container-id-8 div.sk-parallel-item {display: flex;flex-direction: column;z-index: 1;position: relative;background-color: white;}#sk-container-id-8 div.sk-parallel-item:first-child::after {align-self: flex-end;width: 50%;}#sk-container-id-8 div.sk-parallel-item:last-child::after {align-self: flex-start;width: 50%;}#sk-container-id-8 div.sk-parallel-item:only-child::after {width: 0;}#sk-container-id-8 div.sk-dashed-wrapped {border: 1px dashed gray;margin: 0 0.4em 0.5em 0.4em;box-sizing: border-box;padding-bottom: 0.4em;background-color: white;}#sk-container-id-8 div.sk-label label {font-family: monospace;font-weight: bold;display: inline-block;line-height: 1.2em;}#sk-container-id-8 div.sk-label-container {text-align: center;}#sk-container-id-8 div.sk-container {/* jupyter's `normalize.less` sets `[hidden] { display: none; }` but bootstrap.min.css set `[hidden] { display: none !important; }` so we also need the `!important` here to be able to override the default hidden behavior on the sphinx rendered scikit-learn.org. See: https://github.com/scikit-learn/scikit-learn/issues/21755 */display: inline-block !important;position: relative;}#sk-container-id-8 div.sk-text-repr-fallback {display: none;}</style><div id=\"sk-container-id-8\" class=\"sk-top-container\"><div class=\"sk-text-repr-fallback\"><pre>GridSearchCV(cv=5,\n",
       "             estimator=XGBRegressor(base_score=None, booster=None,\n",
       "                                    callbacks=None, colsample_bylevel=None,\n",
       "                                    colsample_bynode=None,\n",
       "                                    colsample_bytree=None, device=None,\n",
       "                                    early_stopping_rounds=None,\n",
       "                                    enable_categorical=False, eval_metric=None,\n",
       "                                    feature_types=None, gamma=None,\n",
       "                                    grow_policy=None, importance_type=None,\n",
       "                                    interaction_constraints=None,\n",
       "                                    learning_rate=None, m...\n",
       "                                    monotone_constraints=None,\n",
       "                                    multi_strategy=None, n_estimators=None,\n",
       "                                    n_jobs=None, num_parallel_tree=None,\n",
       "                                    random_state=None, ...),\n",
       "             n_jobs=-1,\n",
       "             param_grid={&#x27;colsample_bytree&#x27;: [None, 0.6, 0.8, 1.0],\n",
       "                         &#x27;learning_rate&#x27;: [None, 0.05, 0.1, 0.2],\n",
       "                         &#x27;max_depth&#x27;: [None, 3, 5, 7],\n",
       "                         &#x27;min_child_weight&#x27;: [None, 1, 3, 5],\n",
       "                         &#x27;n_estimators&#x27;: [None, 100, 200, 300],\n",
       "                         &#x27;subsample&#x27;: [None, 0.6, 0.8, 1.0]},\n",
       "             verbose=1)</pre><b>In a Jupyter environment, please rerun this cell to show the HTML representation or trust the notebook. <br />On GitHub, the HTML representation is unable to render, please try loading this page with nbviewer.org.</b></div><div class=\"sk-container\" hidden><div class=\"sk-item sk-dashed-wrapped\"><div class=\"sk-label-container\"><div class=\"sk-label sk-toggleable\"><input class=\"sk-toggleable__control sk-hidden--visually\" id=\"sk-estimator-id-22\" type=\"checkbox\" ><label for=\"sk-estimator-id-22\" class=\"sk-toggleable__label sk-toggleable__label-arrow\">GridSearchCV</label><div class=\"sk-toggleable__content\"><pre>GridSearchCV(cv=5,\n",
       "             estimator=XGBRegressor(base_score=None, booster=None,\n",
       "                                    callbacks=None, colsample_bylevel=None,\n",
       "                                    colsample_bynode=None,\n",
       "                                    colsample_bytree=None, device=None,\n",
       "                                    early_stopping_rounds=None,\n",
       "                                    enable_categorical=False, eval_metric=None,\n",
       "                                    feature_types=None, gamma=None,\n",
       "                                    grow_policy=None, importance_type=None,\n",
       "                                    interaction_constraints=None,\n",
       "                                    learning_rate=None, m...\n",
       "                                    monotone_constraints=None,\n",
       "                                    multi_strategy=None, n_estimators=None,\n",
       "                                    n_jobs=None, num_parallel_tree=None,\n",
       "                                    random_state=None, ...),\n",
       "             n_jobs=-1,\n",
       "             param_grid={&#x27;colsample_bytree&#x27;: [None, 0.6, 0.8, 1.0],\n",
       "                         &#x27;learning_rate&#x27;: [None, 0.05, 0.1, 0.2],\n",
       "                         &#x27;max_depth&#x27;: [None, 3, 5, 7],\n",
       "                         &#x27;min_child_weight&#x27;: [None, 1, 3, 5],\n",
       "                         &#x27;n_estimators&#x27;: [None, 100, 200, 300],\n",
       "                         &#x27;subsample&#x27;: [None, 0.6, 0.8, 1.0]},\n",
       "             verbose=1)</pre></div></div></div><div class=\"sk-parallel\"><div class=\"sk-parallel-item\"><div class=\"sk-item\"><div class=\"sk-label-container\"><div class=\"sk-label sk-toggleable\"><input class=\"sk-toggleable__control sk-hidden--visually\" id=\"sk-estimator-id-23\" type=\"checkbox\" ><label for=\"sk-estimator-id-23\" class=\"sk-toggleable__label sk-toggleable__label-arrow\">estimator: XGBRegressor</label><div class=\"sk-toggleable__content\"><pre>XGBRegressor(base_score=None, booster=None, callbacks=None,\n",
       "             colsample_bylevel=None, colsample_bynode=None,\n",
       "             colsample_bytree=None, device=None, early_stopping_rounds=None,\n",
       "             enable_categorical=False, eval_metric=None, feature_types=None,\n",
       "             gamma=None, grow_policy=None, importance_type=None,\n",
       "             interaction_constraints=None, learning_rate=None, max_bin=None,\n",
       "             max_cat_threshold=None, max_cat_to_onehot=None,\n",
       "             max_delta_step=None, max_depth=None, max_leaves=None,\n",
       "             min_child_weight=None, missing=nan, monotone_constraints=None,\n",
       "             multi_strategy=None, n_estimators=None, n_jobs=None,\n",
       "             num_parallel_tree=None, random_state=None, ...)</pre></div></div></div><div class=\"sk-serial\"><div class=\"sk-item\"><div class=\"sk-estimator sk-toggleable\"><input class=\"sk-toggleable__control sk-hidden--visually\" id=\"sk-estimator-id-24\" type=\"checkbox\" ><label for=\"sk-estimator-id-24\" class=\"sk-toggleable__label sk-toggleable__label-arrow\">XGBRegressor</label><div class=\"sk-toggleable__content\"><pre>XGBRegressor(base_score=None, booster=None, callbacks=None,\n",
       "             colsample_bylevel=None, colsample_bynode=None,\n",
       "             colsample_bytree=None, device=None, early_stopping_rounds=None,\n",
       "             enable_categorical=False, eval_metric=None, feature_types=None,\n",
       "             gamma=None, grow_policy=None, importance_type=None,\n",
       "             interaction_constraints=None, learning_rate=None, max_bin=None,\n",
       "             max_cat_threshold=None, max_cat_to_onehot=None,\n",
       "             max_delta_step=None, max_depth=None, max_leaves=None,\n",
       "             min_child_weight=None, missing=nan, monotone_constraints=None,\n",
       "             multi_strategy=None, n_estimators=None, n_jobs=None,\n",
       "             num_parallel_tree=None, random_state=None, ...)</pre></div></div></div></div></div></div></div></div></div></div>"
      ],
      "text/plain": [
       "GridSearchCV(cv=5,\n",
       "             estimator=XGBRegressor(base_score=None, booster=None,\n",
       "                                    callbacks=None, colsample_bylevel=None,\n",
       "                                    colsample_bynode=None,\n",
       "                                    colsample_bytree=None, device=None,\n",
       "                                    early_stopping_rounds=None,\n",
       "                                    enable_categorical=False, eval_metric=None,\n",
       "                                    feature_types=None, gamma=None,\n",
       "                                    grow_policy=None, importance_type=None,\n",
       "                                    interaction_constraints=None,\n",
       "                                    learning_rate=None, m...\n",
       "                                    monotone_constraints=None,\n",
       "                                    multi_strategy=None, n_estimators=None,\n",
       "                                    n_jobs=None, num_parallel_tree=None,\n",
       "                                    random_state=None, ...),\n",
       "             n_jobs=-1,\n",
       "             param_grid={'colsample_bytree': [None, 0.6, 0.8, 1.0],\n",
       "                         'learning_rate': [None, 0.05, 0.1, 0.2],\n",
       "                         'max_depth': [None, 3, 5, 7],\n",
       "                         'min_child_weight': [None, 1, 3, 5],\n",
       "                         'n_estimators': [None, 100, 200, 300],\n",
       "                         'subsample': [None, 0.6, 0.8, 1.0]},\n",
       "             verbose=1)"
      ]
     },
     "execution_count": 97,
     "metadata": {},
     "output_type": "execute_result"
    }
   ],
   "source": [
    "# Define the parameters for the xgboost grid search\n",
    "xgb_reg_params = {\n",
    "    'n_estimators': [None, 100, 200, 300],\n",
    "    'learning_rate': [None, 0.05, 0.1, 0.2],\n",
    "    'max_depth': [None, 3, 5, 7],\n",
    "    'min_child_weight': [None, 1, 3, 5],\n",
    "    'subsample': [None, 0.6, 0.8, 1.0],\n",
    "    'colsample_bytree': [None, 0.6, 0.8, 1.0]\n",
    "}\n",
    "\n",
    "# Perform grid search with cross-validation for xgboost\n",
    "xgb_reg_grid = GridSearchCV(XGBRegressor(), xgb_reg_params, cv=5, n_jobs=-1, verbose=1)\n",
    "xgb_reg_grid.fit(X_train, y_train)"
   ]
  },
  {
   "cell_type": "markdown",
   "id": "98f791a8",
   "metadata": {},
   "source": [
    "<center>\n",
    "\n",
    "<h2 style=\"font-size: 16px; color: #FFF9ED; background-color: #641811;\">Best Parameters</h2>\n",
    "\n",
    "</center>"
   ]
  },
  {
   "cell_type": "code",
   "execution_count": 98,
   "id": "8fcadd7b",
   "metadata": {},
   "outputs": [
    {
     "data": {
      "text/plain": [
       "{'colsample_bytree': None,\n",
       " 'learning_rate': 0.05,\n",
       " 'max_depth': 7,\n",
       " 'min_child_weight': None,\n",
       " 'n_estimators': 300,\n",
       " 'subsample': 0.8}"
      ]
     },
     "execution_count": 98,
     "metadata": {},
     "output_type": "execute_result"
    }
   ],
   "source": [
    "# Display the best parameters found by grid search for the xgboost\n",
    "xgb_reg_grid.best_params_"
   ]
  },
  {
   "cell_type": "markdown",
   "id": "a07cf8c8",
   "metadata": {},
   "source": [
    "<center>\n",
    "\n",
    "<h2 style=\"font-size: 16px; color: #FFF9ED; background-color: #641811;\">Training</h2>\n",
    "\n",
    "</center>"
   ]
  },
  {
   "cell_type": "code",
   "execution_count": 99,
   "id": "64efbd6e",
   "metadata": {},
   "outputs": [],
   "source": [
    "# Create a new xgboost with the best parameters found by grid search\n",
    "xgb2_reg = XGBRegressor(\n",
    "    n_estimators = xgb_reg_grid.best_params_['n_estimators'],\n",
    "    learning_rate = xgb_reg_grid.best_params_['learning_rate'],\n",
    "    max_depth = xgb_reg_grid.best_params_['max_depth'],\n",
    "    min_child_weight = xgb_reg_grid.best_params_['min_child_weight'],\n",
    "    subsample = xgb_reg_grid.best_params_['subsample'],\n",
    "    colsample_bytree = xgb_reg_grid.best_params_['colsample_bytree'],\n",
    ")\n",
    "\n",
    "# Train the xgboost\n",
    "xgb2_reg.fit(X_train, y_train)\n",
    "# Make predictions on the test set\n",
    "xgb2_reg_pred = xgb2_reg.predict(X_test)"
   ]
  },
  {
   "cell_type": "markdown",
   "id": "d3a998fe",
   "metadata": {},
   "source": [
    "<center>\n",
    "\n",
    "<h2 style=\"font-size: 16px; color: #FFF9ED; background-color: #641811;\">Performance Metrics</h2>\n",
    "\n",
    "</center>"
   ]
  },
  {
   "cell_type": "code",
   "execution_count": 100,
   "id": "1854d20f",
   "metadata": {},
   "outputs": [],
   "source": [
    "# Calculate evaluation metrics for the xgboost\n",
    "xgb2_reg_metrics = calculate_regression_metrics(y_test, xgb2_reg_pred)"
   ]
  },
  {
   "cell_type": "markdown",
   "id": "80e6ed9a",
   "metadata": {},
   "source": [
    "<center>\n",
    "\n",
    "<h2 style=\"font-size: 16px; color: #FFF9ED; background-color: #641811;\">Summary of Performance Metrics</h2>\n",
    "\n",
    "</center>"
   ]
  },
  {
   "cell_type": "code",
   "execution_count": 101,
   "id": "fea7a724",
   "metadata": {},
   "outputs": [],
   "source": [
    "# Create a DataFrame to store the evaluation metrics for the xgboost\n",
    "results_xgb2_reg = create_regression_results_df('results_xgb2_reg', 'XGBoost Optimization', xgb2_reg_metrics)"
   ]
  },
  {
   "cell_type": "markdown",
   "id": "795684dd",
   "metadata": {},
   "source": [
    "<h3 id=\"finalResultsRegression\" style=\"font-size: 18px; color: #00000\">10.8 | Final results and analysis</h3>"
   ]
  },
  {
   "cell_type": "markdown",
   "id": "c5e2ce85",
   "metadata": {},
   "source": [
    "<center>\n",
    "\n",
    "<h2 style=\"font-size: 16px; color: #FFF9ED; background-color: #641811;\">Final Classification Results</h2>\n",
    "\n",
    "</center>"
   ]
  },
  {
   "cell_type": "code",
   "execution_count": 102,
   "id": "d3d7da2a",
   "metadata": {},
   "outputs": [
    {
     "data": {
      "text/html": [
       "<div>\n",
       "<style scoped>\n",
       "    .dataframe tbody tr th:only-of-type {\n",
       "        vertical-align: middle;\n",
       "    }\n",
       "\n",
       "    .dataframe tbody tr th {\n",
       "        vertical-align: top;\n",
       "    }\n",
       "\n",
       "    .dataframe thead th {\n",
       "        text-align: right;\n",
       "    }\n",
       "</style>\n",
       "<table border=\"1\" class=\"dataframe\">\n",
       "  <thead>\n",
       "    <tr style=\"text-align: right;\">\n",
       "      <th></th>\n",
       "      <th>Model</th>\n",
       "      <th>R2 Score</th>\n",
       "      <th>Mean Absolute Error</th>\n",
       "      <th>Mean Squared Error</th>\n",
       "      <th>Root Mean Squared Error</th>\n",
       "    </tr>\n",
       "  </thead>\n",
       "  <tbody>\n",
       "    <tr>\n",
       "      <th>0</th>\n",
       "      <td>Linear Regression</td>\n",
       "      <td>0.55</td>\n",
       "      <td>0.48</td>\n",
       "      <td>0.69</td>\n",
       "      <td>0.33094</td>\n",
       "    </tr>\n",
       "    <tr>\n",
       "      <th>1</th>\n",
       "      <td>Random Forest Regression</td>\n",
       "      <td>0.42</td>\n",
       "      <td>0.33</td>\n",
       "      <td>0.58</td>\n",
       "      <td>0.53535</td>\n",
       "    </tr>\n",
       "    <tr>\n",
       "      <th>2</th>\n",
       "      <td>Support Vector Regression</td>\n",
       "      <td>0.50</td>\n",
       "      <td>0.42</td>\n",
       "      <td>0.65</td>\n",
       "      <td>0.40728</td>\n",
       "    </tr>\n",
       "    <tr>\n",
       "      <th>3</th>\n",
       "      <td>XGBoost</td>\n",
       "      <td>0.45</td>\n",
       "      <td>0.37</td>\n",
       "      <td>0.61</td>\n",
       "      <td>0.48760</td>\n",
       "    </tr>\n",
       "    <tr>\n",
       "      <th>4</th>\n",
       "      <td>Random Forest Regression Optimization</td>\n",
       "      <td>0.42</td>\n",
       "      <td>0.32</td>\n",
       "      <td>0.57</td>\n",
       "      <td>0.55116</td>\n",
       "    </tr>\n",
       "    <tr>\n",
       "      <th>5</th>\n",
       "      <td>Support Vector Regression Optimization</td>\n",
       "      <td>0.50</td>\n",
       "      <td>0.42</td>\n",
       "      <td>0.65</td>\n",
       "      <td>0.40728</td>\n",
       "    </tr>\n",
       "    <tr>\n",
       "      <th>6</th>\n",
       "      <td>XGBoost Optimization</td>\n",
       "      <td>0.44</td>\n",
       "      <td>0.34</td>\n",
       "      <td>0.58</td>\n",
       "      <td>0.52840</td>\n",
       "    </tr>\n",
       "  </tbody>\n",
       "</table>\n",
       "</div>"
      ],
      "text/plain": [
       "                                    Model  R2 Score  Mean Absolute Error  \\\n",
       "0                       Linear Regression      0.55                 0.48   \n",
       "1                Random Forest Regression      0.42                 0.33   \n",
       "2               Support Vector Regression      0.50                 0.42   \n",
       "3                                 XGBoost      0.45                 0.37   \n",
       "4   Random Forest Regression Optimization      0.42                 0.32   \n",
       "5  Support Vector Regression Optimization      0.50                 0.42   \n",
       "6                    XGBoost Optimization      0.44                 0.34   \n",
       "\n",
       "   Mean Squared Error  Root Mean Squared Error  \n",
       "0                0.69                  0.33094  \n",
       "1                0.58                  0.53535  \n",
       "2                0.65                  0.40728  \n",
       "3                0.61                  0.48760  \n",
       "4                0.57                  0.55116  \n",
       "5                0.65                  0.40728  \n",
       "6                0.58                  0.52840  "
      ]
     },
     "execution_count": 102,
     "metadata": {},
     "output_type": "execute_result"
    }
   ],
   "source": [
    "# Create a DataFrame to store all the metrics of the regressions\n",
    "concatenate_regression_results(results_lr, results_rf_reg, results_svr_reg, results_xgb_reg, results_rf2_reg, results_svm2_reg, results_xgb2_reg)"
   ]
  },
  {
   "cell_type": "markdown",
   "id": "28901d44",
   "metadata": {},
   "source": [
    "1. **Linear Regression (LR)**:\n",
    "    - **R² Score**: The R² score for the Linear Regression model is approximately **55%**, indicating that approximately **55%** of the variability in wine quality is explained by the model;\n",
    "    - **Mean Absolute Error (MAE)**: The MAE for LR is **48%**, indicating the average absolute deviation of the predictions from the actual values;\n",
    "    - **Mean Squared Error (MSE)**: The MSE is **69%**, representing the average squared difference between the predicted and actual quality scores;\n",
    "    - **Root Mean Squared Error (RMSE)**: The RMSE is approximately **33.094%**, providing a measure of the average deviation of the predictions from the actual values.\n",
    "    \n",
    "2. **Random Forest Regression (RFR)**:\n",
    "    - **R² Score**: The R² score for the Random Forest Regression model is approximately **42%**, indicating that approximately **42%** of the variability in wine quality is explained by the model;\n",
    "    - **Mean Absolute Error (MAE)**: The MAE for RFR is **33%**, indicating the average absolute deviation of the predictions from the actual values;\n",
    "    - **Mean Squared Error (MSE)**: The MSE is **58%**, representing the average squared difference between the predicted and actual quality scores;\n",
    "    - **Root Mean Squared Error (RMSE)**: The RMSE is approximately **53.535%**, providing a measure of the average deviation of the predictions from the actual values.\n",
    "    \n",
    "    \n",
    "3. **Support Vector Regression (SVR)**:\n",
    "    - **R² Score**: The R² score for the Support Vector Regression model is approximately **50%**, indicating that approximately **50%** of the variability in wine quality is explained by the model;\n",
    "    - **Mean Absolute Error (MAE)**: The MAE for SVR is **42%**, indicating the average absolute deviation of the predictions from the actual values;\n",
    "    - **Mean Squared Error (MSE)**: The MSE is **65%**, representing the average squared difference between the predicted and actual quality scores;\n",
    "    - **Root Mean Squared Error (RMSE)**: The RMSE is approximately **40.728%**, providing a measure of the average deviation of the predictions from the actual values.\n",
    "    \n",
    "3. **XGBoost (XGB)**:\n",
    "    - **R² Score**: The R² score for the XGBoost model is approximately **45%**, indicating that approximately **45%** of the variability in wine quality is explained by the model;\n",
    "    - **Mean Absolute Error (MAE)**: The MAE for XGB is **37%**, indicating the average absolute deviation of the predictions from the actual values;\n",
    "    - **Mean Squared Error (MSE)**: The MSE is **61%**, representing the average squared difference between the predicted and actual quality scores;\n",
    "    - **Root Mean Squared Error (RMSE)**: The RMSE is approximately **48.760%**, providing a measure of the average deviation of the predictions from the actual values.\n",
    "    \n",
    "4. **Random Forest Regression Optimization (RFRO)**:\n",
    "    - **R² Score**: The R² score for the Random Forest Regression Optimization model is approximately **42%**, indicating that approximately **42%** of the variability in wine quality is explained by the model;\n",
    "    - **Mean Absolute Error (MAE)**: The MAE for RFRO is **32%**, indicating the average absolute deviation of the predictions from the actual values;\n",
    "    - **Mean Squared Error (MSE)**: The MSE is **57%**, representing the average squared difference between the predicted and actual quality scores;\n",
    "    - **Root Mean Squared Error (RMSE)**: The RMSE is approximately **54.802%**, providing a measure of the average deviation of the predictions from the actual values.\n",
    "    \n",
    "3. **Support Vector Regression Optimization (SVRO)**:\n",
    "    - **R² Score**: The R² score for the Support Vector Regression Optimization model is approximately **50%**, indicating that approximately **50%** of the variability in wine quality is explained by the model;\n",
    "    - **Mean Absolute Error (MAE)**: The MAE for SVRO is **42%**, indicating the average absolute deviation of the predictions from the actual values;\n",
    "    - **Mean Squared Error (MSE)**: The MSE is **65%**, representing the average squared difference between the predicted and actual quality scores;\n",
    "    - **Root Mean Squared Error (RMSE)**: The RMSE is approximately **40.728%**, providing a measure of the average deviation of the predictions from the actual values.\n",
    "    \n",
    "3. **XGBoost Optimization (XGBO)**:\n",
    "    - **R² Score**: The R² score for the XGBoost Optimization model is approximately **44%**, indicating that approximately **44%** of the variability in wine quality is explained by the model;\n",
    "    - **Mean Absolute Error (MAE)**: The MAE for XGBO is **34%**, indicating the average absolute deviation of the predictions from the actual values;\n",
    "    - **Mean Squared Error (MSE)**: The MSE is **58%**, representing the average squared difference between the predicted and actual quality scores;\n",
    "    - **Root Mean Squared Error (RMSE)**: The RMSE is approximately **52.840%**, providing a measure of the average deviation of the predictions from the actual values.\n",
    "    \n",
    "<h3 style=\"font-size: 16px; color: #000000;\">Conclusion</h3>\n",
    "\n",
    "The linear regression model presented the best performance in terms of R², while the Random Forest Regression and XGBoost models also presented positive performances. The Random Forest Regression Optimization demonstrates the lowest MAE, MSE, and RMSE, meaning its the most accurate model for predicting wine quality among the ones tested"
   ]
  }
 ],
 "metadata": {
  "kernelspec": {
   "display_name": "Python 3 (ipykernel)",
   "language": "python",
   "name": "python3"
  },
  "language_info": {
   "codemirror_mode": {
    "name": "ipython",
    "version": 3
   },
   "file_extension": ".py",
   "mimetype": "text/x-python",
   "name": "python",
   "nbconvert_exporter": "python",
   "pygments_lexer": "ipython3",
   "version": "3.11.7"
  }
 },
 "nbformat": 4,
 "nbformat_minor": 5
}
